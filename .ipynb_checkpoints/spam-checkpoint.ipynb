{
 "cells": [
  {
   "cell_type": "code",
   "execution_count": 1,
   "metadata": {},
   "outputs": [],
   "source": [
    "import pandas as pd\n",
    "from nltk.tokenize import word_tokenize, wordpunct_tokenize, RegexpTokenizer\n",
    "import re\n",
    "import nltk\n",
    "from nltk.stem import WordNetLemmatizer\n",
    "from nltk.corpus import wordnet,stopwords\n",
    "from sklearn.feature_extraction.text import TfidfVectorizer\n",
    "import string\n",
    "from spellchecker import SpellChecker\n",
    "from collections import Counter\n",
    "from nltk.util import ngrams\n",
    "from symspellpy import SymSpell, Verbosity\n",
    "from nltk.sentiment.vader import SentimentIntensityAnalyzer\n",
    "import numpy as np\n",
    "import matplotlib.pyplot as plt"
   ]
  },
  {
   "cell_type": "code",
   "execution_count": 4,
   "metadata": {},
   "outputs": [
    {
     "name": "stderr",
     "output_type": "stream",
     "text": [
      "[nltk_data] Downloading package punkt to /home/ibrahim/nltk_data...\n"
     ]
    },
    {
     "ename": "KeyboardInterrupt",
     "evalue": "",
     "output_type": "error",
     "traceback": [
      "\u001b[0;31m---------------------------------------------------------------------------\u001b[0m",
      "\u001b[0;31mKeyboardInterrupt\u001b[0m                         Traceback (most recent call last)",
      "Cell \u001b[0;32mIn[4], line 1\u001b[0m\n\u001b[0;32m----> 1\u001b[0m \u001b[43mnltk\u001b[49m\u001b[38;5;241;43m.\u001b[39;49m\u001b[43mdownload\u001b[49m\u001b[43m(\u001b[49m\u001b[38;5;124;43m\"\u001b[39;49m\u001b[38;5;124;43mpunkt\u001b[39;49m\u001b[38;5;124;43m\"\u001b[39;49m\u001b[43m)\u001b[49m\n",
      "File \u001b[0;32m~/anaconda3/envs/science/lib/python3.12/site-packages/nltk/downloader.py:774\u001b[0m, in \u001b[0;36mDownloader.download\u001b[0;34m(self, info_or_id, download_dir, quiet, force, prefix, halt_on_error, raise_on_error, print_error_to)\u001b[0m\n\u001b[1;32m    765\u001b[0m \u001b[38;5;28;01mdef\u001b[39;00m \u001b[38;5;21mshow\u001b[39m(s, prefix2\u001b[38;5;241m=\u001b[39m\u001b[38;5;124m\"\u001b[39m\u001b[38;5;124m\"\u001b[39m):\n\u001b[1;32m    766\u001b[0m     print_to(\n\u001b[1;32m    767\u001b[0m         textwrap\u001b[38;5;241m.\u001b[39mfill(\n\u001b[1;32m    768\u001b[0m             s,\n\u001b[0;32m   (...)\u001b[0m\n\u001b[1;32m    771\u001b[0m         )\n\u001b[1;32m    772\u001b[0m     )\n\u001b[0;32m--> 774\u001b[0m \u001b[43m\u001b[49m\u001b[38;5;28;43;01mfor\u001b[39;49;00m\u001b[43m \u001b[49m\u001b[43mmsg\u001b[49m\u001b[43m \u001b[49m\u001b[38;5;129;43;01min\u001b[39;49;00m\u001b[43m \u001b[49m\u001b[38;5;28;43mself\u001b[39;49m\u001b[38;5;241;43m.\u001b[39;49m\u001b[43mincr_download\u001b[49m\u001b[43m(\u001b[49m\u001b[43minfo_or_id\u001b[49m\u001b[43m,\u001b[49m\u001b[43m \u001b[49m\u001b[43mdownload_dir\u001b[49m\u001b[43m,\u001b[49m\u001b[43m \u001b[49m\u001b[43mforce\u001b[49m\u001b[43m)\u001b[49m\u001b[43m:\u001b[49m\n\u001b[1;32m    775\u001b[0m \u001b[43m    \u001b[49m\u001b[38;5;66;43;03m# Error messages\u001b[39;49;00m\n\u001b[1;32m    776\u001b[0m \u001b[43m    \u001b[49m\u001b[38;5;28;43;01mif\u001b[39;49;00m\u001b[43m \u001b[49m\u001b[38;5;28;43misinstance\u001b[39;49m\u001b[43m(\u001b[49m\u001b[43mmsg\u001b[49m\u001b[43m,\u001b[49m\u001b[43m \u001b[49m\u001b[43mErrorMessage\u001b[49m\u001b[43m)\u001b[49m\u001b[43m:\u001b[49m\n\u001b[1;32m    777\u001b[0m \u001b[43m        \u001b[49m\u001b[43mshow\u001b[49m\u001b[43m(\u001b[49m\u001b[43mmsg\u001b[49m\u001b[38;5;241;43m.\u001b[39;49m\u001b[43mmessage\u001b[49m\u001b[43m)\u001b[49m\n",
      "File \u001b[0;32m~/anaconda3/envs/science/lib/python3.12/site-packages/nltk/downloader.py:642\u001b[0m, in \u001b[0;36mDownloader.incr_download\u001b[0;34m(self, info_or_id, download_dir, force)\u001b[0m\n\u001b[1;32m    638\u001b[0m     \u001b[38;5;28;01myield\u001b[39;00m FinishCollectionMessage(info)\n\u001b[1;32m    640\u001b[0m \u001b[38;5;66;03m# Handle Packages (delegate to a helper function).\u001b[39;00m\n\u001b[1;32m    641\u001b[0m \u001b[38;5;28;01melse\u001b[39;00m:\n\u001b[0;32m--> 642\u001b[0m     \u001b[38;5;28;01myield from\u001b[39;00m \u001b[38;5;28mself\u001b[39m\u001b[38;5;241m.\u001b[39m_download_package(info, download_dir, force)\n",
      "File \u001b[0;32m~/anaconda3/envs/science/lib/python3.12/site-packages/nltk/downloader.py:710\u001b[0m, in \u001b[0;36mDownloader._download_package\u001b[0;34m(self, info, download_dir, force)\u001b[0m\n\u001b[1;32m    708\u001b[0m num_blocks \u001b[38;5;241m=\u001b[39m \u001b[38;5;28mmax\u001b[39m(\u001b[38;5;241m1\u001b[39m, info\u001b[38;5;241m.\u001b[39msize \u001b[38;5;241m/\u001b[39m (\u001b[38;5;241m1024\u001b[39m \u001b[38;5;241m*\u001b[39m \u001b[38;5;241m16\u001b[39m))\n\u001b[1;32m    709\u001b[0m \u001b[38;5;28;01mfor\u001b[39;00m block \u001b[38;5;129;01min\u001b[39;00m itertools\u001b[38;5;241m.\u001b[39mcount():\n\u001b[0;32m--> 710\u001b[0m     s \u001b[38;5;241m=\u001b[39m \u001b[43minfile\u001b[49m\u001b[38;5;241;43m.\u001b[39;49m\u001b[43mread\u001b[49m\u001b[43m(\u001b[49m\u001b[38;5;241;43m1024\u001b[39;49m\u001b[43m \u001b[49m\u001b[38;5;241;43m*\u001b[39;49m\u001b[43m \u001b[49m\u001b[38;5;241;43m16\u001b[39;49m\u001b[43m)\u001b[49m  \u001b[38;5;66;03m# 16k blocks.\u001b[39;00m\n\u001b[1;32m    711\u001b[0m     outfile\u001b[38;5;241m.\u001b[39mwrite(s)\n\u001b[1;32m    712\u001b[0m     \u001b[38;5;28;01mif\u001b[39;00m \u001b[38;5;129;01mnot\u001b[39;00m s:\n",
      "File \u001b[0;32m~/anaconda3/envs/science/lib/python3.12/http/client.py:479\u001b[0m, in \u001b[0;36mHTTPResponse.read\u001b[0;34m(self, amt)\u001b[0m\n\u001b[1;32m    476\u001b[0m \u001b[38;5;28;01mif\u001b[39;00m \u001b[38;5;28mself\u001b[39m\u001b[38;5;241m.\u001b[39mlength \u001b[38;5;129;01mis\u001b[39;00m \u001b[38;5;129;01mnot\u001b[39;00m \u001b[38;5;28;01mNone\u001b[39;00m \u001b[38;5;129;01mand\u001b[39;00m amt \u001b[38;5;241m>\u001b[39m \u001b[38;5;28mself\u001b[39m\u001b[38;5;241m.\u001b[39mlength:\n\u001b[1;32m    477\u001b[0m     \u001b[38;5;66;03m# clip the read to the \"end of response\"\u001b[39;00m\n\u001b[1;32m    478\u001b[0m     amt \u001b[38;5;241m=\u001b[39m \u001b[38;5;28mself\u001b[39m\u001b[38;5;241m.\u001b[39mlength\n\u001b[0;32m--> 479\u001b[0m s \u001b[38;5;241m=\u001b[39m \u001b[38;5;28;43mself\u001b[39;49m\u001b[38;5;241;43m.\u001b[39;49m\u001b[43mfp\u001b[49m\u001b[38;5;241;43m.\u001b[39;49m\u001b[43mread\u001b[49m\u001b[43m(\u001b[49m\u001b[43mamt\u001b[49m\u001b[43m)\u001b[49m\n\u001b[1;32m    480\u001b[0m \u001b[38;5;28;01mif\u001b[39;00m \u001b[38;5;129;01mnot\u001b[39;00m s \u001b[38;5;129;01mand\u001b[39;00m amt:\n\u001b[1;32m    481\u001b[0m     \u001b[38;5;66;03m# Ideally, we would raise IncompleteRead if the content-length\u001b[39;00m\n\u001b[1;32m    482\u001b[0m     \u001b[38;5;66;03m# wasn't satisfied, but it might break compatibility.\u001b[39;00m\n\u001b[1;32m    483\u001b[0m     \u001b[38;5;28mself\u001b[39m\u001b[38;5;241m.\u001b[39m_close_conn()\n",
      "File \u001b[0;32m~/anaconda3/envs/science/lib/python3.12/socket.py:720\u001b[0m, in \u001b[0;36mSocketIO.readinto\u001b[0;34m(self, b)\u001b[0m\n\u001b[1;32m    718\u001b[0m \u001b[38;5;28;01mwhile\u001b[39;00m \u001b[38;5;28;01mTrue\u001b[39;00m:\n\u001b[1;32m    719\u001b[0m     \u001b[38;5;28;01mtry\u001b[39;00m:\n\u001b[0;32m--> 720\u001b[0m         \u001b[38;5;28;01mreturn\u001b[39;00m \u001b[38;5;28;43mself\u001b[39;49m\u001b[38;5;241;43m.\u001b[39;49m\u001b[43m_sock\u001b[49m\u001b[38;5;241;43m.\u001b[39;49m\u001b[43mrecv_into\u001b[49m\u001b[43m(\u001b[49m\u001b[43mb\u001b[49m\u001b[43m)\u001b[49m\n\u001b[1;32m    721\u001b[0m     \u001b[38;5;28;01mexcept\u001b[39;00m timeout:\n\u001b[1;32m    722\u001b[0m         \u001b[38;5;28mself\u001b[39m\u001b[38;5;241m.\u001b[39m_timeout_occurred \u001b[38;5;241m=\u001b[39m \u001b[38;5;28;01mTrue\u001b[39;00m\n",
      "File \u001b[0;32m~/anaconda3/envs/science/lib/python3.12/ssl.py:1252\u001b[0m, in \u001b[0;36mSSLSocket.recv_into\u001b[0;34m(self, buffer, nbytes, flags)\u001b[0m\n\u001b[1;32m   1248\u001b[0m     \u001b[38;5;28;01mif\u001b[39;00m flags \u001b[38;5;241m!=\u001b[39m \u001b[38;5;241m0\u001b[39m:\n\u001b[1;32m   1249\u001b[0m         \u001b[38;5;28;01mraise\u001b[39;00m \u001b[38;5;167;01mValueError\u001b[39;00m(\n\u001b[1;32m   1250\u001b[0m           \u001b[38;5;124m\"\u001b[39m\u001b[38;5;124mnon-zero flags not allowed in calls to recv_into() on \u001b[39m\u001b[38;5;132;01m%s\u001b[39;00m\u001b[38;5;124m\"\u001b[39m \u001b[38;5;241m%\u001b[39m\n\u001b[1;32m   1251\u001b[0m           \u001b[38;5;28mself\u001b[39m\u001b[38;5;241m.\u001b[39m\u001b[38;5;18m__class__\u001b[39m)\n\u001b[0;32m-> 1252\u001b[0m     \u001b[38;5;28;01mreturn\u001b[39;00m \u001b[38;5;28;43mself\u001b[39;49m\u001b[38;5;241;43m.\u001b[39;49m\u001b[43mread\u001b[49m\u001b[43m(\u001b[49m\u001b[43mnbytes\u001b[49m\u001b[43m,\u001b[49m\u001b[43m \u001b[49m\u001b[43mbuffer\u001b[49m\u001b[43m)\u001b[49m\n\u001b[1;32m   1253\u001b[0m \u001b[38;5;28;01melse\u001b[39;00m:\n\u001b[1;32m   1254\u001b[0m     \u001b[38;5;28;01mreturn\u001b[39;00m \u001b[38;5;28msuper\u001b[39m()\u001b[38;5;241m.\u001b[39mrecv_into(buffer, nbytes, flags)\n",
      "File \u001b[0;32m~/anaconda3/envs/science/lib/python3.12/ssl.py:1104\u001b[0m, in \u001b[0;36mSSLSocket.read\u001b[0;34m(self, len, buffer)\u001b[0m\n\u001b[1;32m   1102\u001b[0m \u001b[38;5;28;01mtry\u001b[39;00m:\n\u001b[1;32m   1103\u001b[0m     \u001b[38;5;28;01mif\u001b[39;00m buffer \u001b[38;5;129;01mis\u001b[39;00m \u001b[38;5;129;01mnot\u001b[39;00m \u001b[38;5;28;01mNone\u001b[39;00m:\n\u001b[0;32m-> 1104\u001b[0m         \u001b[38;5;28;01mreturn\u001b[39;00m \u001b[38;5;28;43mself\u001b[39;49m\u001b[38;5;241;43m.\u001b[39;49m\u001b[43m_sslobj\u001b[49m\u001b[38;5;241;43m.\u001b[39;49m\u001b[43mread\u001b[49m\u001b[43m(\u001b[49m\u001b[38;5;28;43mlen\u001b[39;49m\u001b[43m,\u001b[49m\u001b[43m \u001b[49m\u001b[43mbuffer\u001b[49m\u001b[43m)\u001b[49m\n\u001b[1;32m   1105\u001b[0m     \u001b[38;5;28;01melse\u001b[39;00m:\n\u001b[1;32m   1106\u001b[0m         \u001b[38;5;28;01mreturn\u001b[39;00m \u001b[38;5;28mself\u001b[39m\u001b[38;5;241m.\u001b[39m_sslobj\u001b[38;5;241m.\u001b[39mread(\u001b[38;5;28mlen\u001b[39m)\n",
      "\u001b[0;31mKeyboardInterrupt\u001b[0m: "
     ]
    }
   ],
   "source": [
    "nltk.download(\"punkt\")"
   ]
  },
  {
   "cell_type": "code",
   "execution_count": 2,
   "metadata": {},
   "outputs": [],
   "source": [
    "df = pd.read_csv(\"Spam_SMS.csv\")"
   ]
  },
  {
   "cell_type": "code",
   "execution_count": 3,
   "metadata": {},
   "outputs": [
    {
     "data": {
      "text/plain": [
       "(5574, 2)"
      ]
     },
     "execution_count": 3,
     "metadata": {},
     "output_type": "execute_result"
    }
   ],
   "source": [
    "df.shape"
   ]
  },
  {
   "cell_type": "code",
   "execution_count": 17,
   "metadata": {},
   "outputs": [],
   "source": [
    "class Transformer():\n",
    "    def __doc__(self):\n",
    "        \"\"\"\n",
    "            Transformer Class to clean and prepare SMS Spam data:\n",
    "\n",
    "            Attributes:\n",
    "            -----------\n",
    "                self.spam_bank (list):\n",
    "\n",
    "                self.ham_bank  (list):\n",
    "\n",
    "                self.spam_urls (list):\n",
    "\n",
    "                self.ham_urls  (list):\n",
    "\n",
    "                self.features  (pd.DataFrame):\n",
    "\n",
    "                self.df  (pd.DataFrame):\n",
    "\n",
    "                self.stopwords (list):\n",
    "\n",
    "                self.lemmatizer (nltk.stem.WordNetLemmatizer):\n",
    "\n",
    "                self.sia (nltk.sentiment.vader.SentimentIntensityAnalyzer):\n",
    "\n",
    "                self.contractions (dict):\n",
    "\n",
    "            Methods:\n",
    "            --------\n",
    "                self.tokenize_words(self, message: str) -> list:\n",
    "        \"\"\"\n",
    "\n",
    "    def __init__(self, df: pd.DataFrame):\n",
    "        self.spam_bank = [l for l in df[df[\"Class\"] == \"spam\"]]\n",
    "        # self.spam = ' '.join(df[df['Class'] == 'spam'][\"Message\"])\n",
    "        self.ham_bank = [l for l in df[df[\"Class\"] == \"ham\"]]\n",
    "        self.spam_urls = [url for msg in self.spam_bank for url in re.findall(r'http[s]:\\/\\/[\\S]+', msg)]\n",
    "        self.ham_urls = [url for msg in self.ham_bank for url in re.findall(r'http[s]:\\/\\/[\\S]+', msg)]\n",
    "        self.features = pd.DataFrame({})\n",
    "        self.stopwords = set(stopwords.words('english'))\n",
    "        self.df = df.copy()\n",
    "        self.lemmatizer = WordNetLemmatizer()\n",
    "        self.sia = SentimentIntensityAnalyzer()\n",
    "        self.contractions = {\n",
    "                                \"can't\": \"cannot\",\n",
    "                                \"won't\": \"will not\",\n",
    "                                \"n't\": \" not\",\n",
    "                                \"'re\": \" are\",\n",
    "                                \"'s\": \" is\",\n",
    "                                \"'d\": \" would\",\n",
    "                                \"'ll\": \" will\",\n",
    "                                \"'ve\": \" have\",\n",
    "                                \"'m\": \" am\",\n",
    "                            }\n",
    "\n",
    "    def tokenize_words(self, message: str) -> list:\n",
    "        tokenizer = RegexpTokenizer(r\"[^\\s.,?!]+\")\n",
    "        tokens = tokenizer.tokenize(message)\n",
    "        tokens = [t.lower() for t in tokens]\n",
    "        \n",
    "        return tokens\n",
    "    \n",
    "    def expand_contractions(self, text, contractions_dict):\n",
    "        contractions_pattern = re.compile('({})'.format('|'.join(contractions_dict.keys())), \n",
    "                                        flags=re.IGNORECASE | re.DOTALL)\n",
    "        def replace(match):\n",
    "            return contractions_dict[match.group(0).lower()]\n",
    "        \n",
    "        return contractions_pattern.sub(replace, text)\n",
    "    \n",
    "    def clean_msg(self):\n",
    "        self.features['clean_msg'] = self.df['Message'].str.lower()\n",
    "        self.features[\"target\"] = self.df[\"Class\"].apply(lambda x: 1 if x == \"spam\" else 0)\n",
    "        self.features['clean_msg'] = self.features['clean_msg'].apply(lambda x: self.expand_contractions(x, self.contractions))\n",
    "        self.features['clean_msg'] = self.features['clean_msg'].str.replace(r'http[s]:\\/\\/[\\S]+', '<url>', regex=True)\n",
    "        self.features['clean_msg'] = self.features['clean_msg'].apply(lambda x: x.translate(str.maketrans('','', string.punctuation)))\n",
    "        \n",
    "        sym_spell = SymSpell(max_dictionary_edit_distance=4, prefix_length=7)\n",
    "        dictionary = \"frequency_dictionary_en_82_765.txt\"\n",
    "        sym_spell.load_dictionary(dictionary,term_index=0,count_index=1)\n",
    "\n",
    "        def correct(msg: str) -> str:\n",
    "            suggestions = []\n",
    "            for word in msg.split():\n",
    "                suggestion = sym_spell.lookup(word, Verbosity.CLOSEST, max_edit_distance=3)\n",
    "                if suggestion:\n",
    "                    suggestions.append(suggestion[0].term)\n",
    "                else:\n",
    "                    suggestions.append(word)\n",
    "\n",
    "            return \" \".join(suggestions)\n",
    "        \n",
    "        self.features['clean_msg'] = self.features['clean_msg'].apply(lambda x: correct(x))\n",
    "        self.features['clean_msg'] = self.features['clean_msg'].apply(lambda x: \" \".join([word for word in x.split() if word not in self.stopwords]))\n",
    "        self.features['clean_msg'] = self.features['clean_msg'].apply(lambda x: \" \".join([self.lemmatizer.lemmatize(word) for word in x.split()]))\n",
    "        self.features['clean_msg'] = self.features['clean_msg'].str.replace(r'\\d+', '<num>', regex=True)\n",
    "        self.features['clean_msg'] = self.features['clean_msg'].str.strip()\n",
    "        self.features['clean_msg'] = self.features['clean_msg'].apply(lambda x: \" \".join([word for word in x.split() if len(word) > 2]))\n",
    "\n",
    "        return self.features\n",
    "    \n",
    "    def ngrams(self):\n",
    "        spam_blob = self.features[self.features[\"target\"]==1][\"clean_msg\"].str.cat()\n",
    "        ham_blob = self.features[self.features[\"target\"]==0][\"clean_msg\"].str.cat()\n",
    "\n",
    "        spam_tokens = self.tokenize_words(spam_blob)\n",
    "        ham_tokens = self.tokenize_words(ham_blob)\n",
    "\n",
    "        spam_bigrams = Counter(list(ngrams(spam_tokens,2)))\n",
    "        spam_trigrams = Counter(list(ngrams(spam_tokens,3)))\n",
    "\n",
    "        ham_bigrams = Counter(list(ngrams(ham_tokens,2)))\n",
    "        ham_trigrams = Counter(list(ngrams(ham_tokens,3)))\n",
    "\n",
    "        return spam_bigrams, spam_trigrams, ham_bigrams, ham_trigrams\n",
    "\n",
    "    \n",
    "    def feature_eng(self):\n",
    "        self.features['char_count'] = self.df['Message'].apply(len)\n",
    "        self.features['word_count'] = self.features['clean_msg'].apply(lambda msg: len(self.tokenize_words(msg)))\n",
    "        self.features['digit_count'] = self.df['Message'].apply(lambda x: sum(c.isdigit() for c in x))\n",
    "        self.features['question_count'] = self.df['Message'].apply(lambda x: x.count('?'))\n",
    "        self.features['exclamation_count'] = self.df['Message'].apply(lambda x: x.count('!'))\n",
    "        self.features['dollar_count'] = self.df['Message'].apply(lambda x: x.count('$'))\n",
    "        self.features['cap_ratio'] = self.df['Message'].apply(lambda x: sum(1 for c in x if c.isupper()) / len(x))\n",
    "        self.features['unique_words'] = self.features['clean_msg'].apply(lambda x: len(set(x.split())))\n",
    "        self.features['repitition_factor'] = self.features['word_count'].astype(float) / self.features['unique_words'].astype(float)\n",
    "        self.features['sentiment'] = self.features['clean_msg'].apply(lambda x: self.sia.polarity_scores(x)['compound'])\n",
    "\n",
    "        self.features.to_csv(\"prepared_data.csv\")\n",
    "\n",
    "        return self.features\n",
    "    \n",
    "    def word_count(self, word_bank: list) -> dict:\n",
    "        pattern = r\"[^\\s./!?]+\"\n",
    "        tokenizer = RegexpTokenizer(pattern)\n",
    "        counts = list()\n",
    "        for msg in word_bank:\n",
    "            words_count = dict()\n",
    "            words = tokenizer.tokenize(msg)\n",
    "            for word in words:\n",
    "                if words_count.keys().__contains__(word) == False:\n",
    "                    words_count[word] = words.count(word)\n",
    "                else:\n",
    "                    continue\n",
    "            counts.append(words_count)\n",
    "\n",
    "        return counts\n",
    "    \n",
    "    def cap_count(self, tokens: list) -> int:\n",
    "        count = int(0)\n",
    "        for word in tokens:\n",
    "            if word.isupper() == True:\n",
    "                count += 1\n",
    "            else:\n",
    "                continue\n",
    "        \n",
    "        return count\n",
    "    "
   ]
  },
  {
   "cell_type": "code",
   "execution_count": 18,
   "metadata": {},
   "outputs": [
    {
     "data": {
      "text/html": [
       "<div>\n",
       "<style scoped>\n",
       "    .dataframe tbody tr th:only-of-type {\n",
       "        vertical-align: middle;\n",
       "    }\n",
       "\n",
       "    .dataframe tbody tr th {\n",
       "        vertical-align: top;\n",
       "    }\n",
       "\n",
       "    .dataframe thead th {\n",
       "        text-align: right;\n",
       "    }\n",
       "</style>\n",
       "<table border=\"1\" class=\"dataframe\">\n",
       "  <thead>\n",
       "    <tr style=\"text-align: right;\">\n",
       "      <th></th>\n",
       "      <th>clean_msg</th>\n",
       "      <th>target</th>\n",
       "    </tr>\n",
       "  </thead>\n",
       "  <tbody>\n",
       "    <tr>\n",
       "      <th>0</th>\n",
       "      <td>point crazy available bug great world buffet c...</td>\n",
       "      <td>0</td>\n",
       "    </tr>\n",
       "    <tr>\n",
       "      <th>1</th>\n",
       "      <td>lar joking</td>\n",
       "      <td>0</td>\n",
       "    </tr>\n",
       "    <tr>\n",
       "      <th>2</th>\n",
       "      <td>free entry wkly comp win cup final tit list ma...</td>\n",
       "      <td>1</td>\n",
       "    </tr>\n",
       "    <tr>\n",
       "      <th>3</th>\n",
       "      <td>dun say early hor already say</td>\n",
       "      <td>0</td>\n",
       "    </tr>\n",
       "    <tr>\n",
       "      <th>4</th>\n",
       "      <td>nah think life around though</td>\n",
       "      <td>0</td>\n",
       "    </tr>\n",
       "    <tr>\n",
       "      <th>...</th>\n",
       "      <td>...</td>\n",
       "      <td>...</td>\n",
       "    </tr>\n",
       "    <tr>\n",
       "      <th>5569</th>\n",
       "      <td>time tried contact £&lt;num&gt; pound prize claim ea...</td>\n",
       "      <td>1</td>\n",
       "    </tr>\n",
       "    <tr>\n",
       "      <th>5570</th>\n",
       "      <td>going esplanade home</td>\n",
       "      <td>0</td>\n",
       "    </tr>\n",
       "    <tr>\n",
       "      <th>5571</th>\n",
       "      <td>pity mood sony suggestion</td>\n",
       "      <td>0</td>\n",
       "    </tr>\n",
       "    <tr>\n",
       "      <th>5572</th>\n",
       "      <td>guy bitching acted like would interested buyin...</td>\n",
       "      <td>0</td>\n",
       "    </tr>\n",
       "    <tr>\n",
       "      <th>5573</th>\n",
       "      <td>roll true name</td>\n",
       "      <td>0</td>\n",
       "    </tr>\n",
       "  </tbody>\n",
       "</table>\n",
       "<p>5574 rows × 2 columns</p>\n",
       "</div>"
      ],
      "text/plain": [
       "                                              clean_msg  target\n",
       "0     point crazy available bug great world buffet c...       0\n",
       "1                                            lar joking       0\n",
       "2     free entry wkly comp win cup final tit list ma...       1\n",
       "3                         dun say early hor already say       0\n",
       "4                          nah think life around though       0\n",
       "...                                                 ...     ...\n",
       "5569  time tried contact £<num> pound prize claim ea...       1\n",
       "5570                               going esplanade home       0\n",
       "5571                          pity mood sony suggestion       0\n",
       "5572  guy bitching acted like would interested buyin...       0\n",
       "5573                                     roll true name       0\n",
       "\n",
       "[5574 rows x 2 columns]"
      ]
     },
     "execution_count": 18,
     "metadata": {},
     "output_type": "execute_result"
    }
   ],
   "source": [
    "f = Transformer(df)\n",
    "f.clean_msg()"
   ]
  },
  {
   "cell_type": "code",
   "execution_count": 19,
   "metadata": {},
   "outputs": [],
   "source": [
    "spam_bigrams, spam_trigrams, ham_bigrams, ham_trigrams = f.ngrams()"
   ]
  },
  {
   "cell_type": "code",
   "execution_count": 31,
   "metadata": {},
   "outputs": [
    {
     "data": {
      "text/plain": [
       "dict_keys([('free', 'entry'), ('entry', 'wkly'), ('wkly', 'comp'), ('comp', 'win'), ('win', 'cup'), ('cup', 'final'), ('final', 'tit'), ('tit', 'list'), ('list', 'may'), ('may', '<num>'), ('<num>', 'text'), ('text', '<num>'), ('<num>', 'receive'), ('receive', 'entry'), ('entry', 'question'), ('question', 'text'), ('text', 'rate'), ('rate', 'apply'), ('apply', '<num>over<num>freeman'), ('<num>over<num>freeman', 'hey'), ('hey', 'darling'), ('darling', 'week'), ('week', 'word'), ('word', 'back'), ('back', 'would'), ('would', 'like'), ('like', 'fun'), ('fun', 'still'), ('still', 'xxx'), ('xxx', 'std'), ('std', 'chs'), ('chs', 'send'), ('send', '£<num>'), ('£<num>', 'revwinner'), ('revwinner', 'valued'), ('valued', 'network'), ('network', 'customer'), ('customer', 'selected'), ('selected', 'received'), ('received', '£<num>'), ('£<num>', 'prize'), ('prize', 'reward'), ('reward', 'claim'), ('claim', 'call'), ('call', '<num>'), ('<num>', 'claim'), ('claim', 'code'), ('code', 'klein'), ('klein', 'valid'), ('valid', 'hourmobile'), ('hourmobile', 'month'), ('month', 'entitled'), ('entitled', 'update'), ('update', 'latest'), ('latest', 'colour'), ('colour', 'mobile'), ('mobile', 'camera'), ('camera', 'free'), ('free', 'call'), ('call', 'mobile'), ('mobile', 'update'), ('update', 'free'), ('free', '<num>six'), ('<num>six', 'chance'), ('chance', 'win'), ('win', 'cash'), ('cash', '<num>'), ('<num>', 'pound'), ('pound', 'text'), ('text', 'send'), ('send', '<num>'), ('<num>', 'cost'), ('cost', '<num>pday'), ('<num>pday', 'day'), ('day', 'stand'), ('stand', 'apply'), ('apply', 'reply'), ('reply', 'infourgent'), ('infourgent', 'week'), ('week', 'free'), ('free', 'membership'), ('membership', '£<num>'), ('prize', 'jackpot'), ('jackpot', 'text'), ('text', 'word'), ('word', 'claim'), ('claim', '<num>'), ('<num>', 'wwwdbuknet'), ('wwwdbuknet', 'located'), ('located', 'box'), ('box', '<num>ldnw<num>a<num>rw<num>xxxmobilemovieclub'), ('<num>ldnw<num>a<num>rw<num>xxxmobilemovieclub', 'use'), ('use', 'credit'), ('credit', 'click'), ('click', 'link'), ('link', 'next'), ('next', 'text'), ('text', 'message'), ('message', 'click'), ('click', 'ottawa'), ('ottawa', 'xxxmobilemovieclubcomnqjkgighjjgcblengland'), ('xxxmobilemovieclubcomnqjkgighjjgcblengland', 'macedonia'), ('macedonia', 'done'), ('done', 'miss'), ('miss', 'galatea'), ('galatea', 'news'), ('news', 'text'), ('text', 'national'), ('national', 'team'), ('team', '<num>'), ('<num>', 'leg'), ('leg', 'england'), ('england', '<num>'), ('<num>', 'wale'), ('wale', 'scotland'), ('scotland', '<num>txtú<num>'), ('<num>txtú<num>', 'poboxox<num>w<num>wqthanks'), ('poboxox<num>w<num>wqthanks', 'subscription'), ('subscription', 'ringtone'), ('ringtone', 'mobile'), ('mobile', 'charged'), ('charged', 'month'), ('month', 'please'), ('please', 'confirm'), ('confirm', 'replying'), ('replying', 'yes'), ('yes', 'reply'), ('reply', 'charged<num>'), ('charged<num>', 'rodger'), ('rodger', 'burn'), ('burn', 'mag'), ('mag', 'tried'), ('tried', 'call'), ('call', 'reply'), ('reply', 'sims'), ('sims', 'free'), ('free', 'nokia'), ('nokia', 'mobile'), ('mobile', 'free'), ('free', 'camcorder'), ('camcorder', 'please'), ('please', 'call'), ('<num>', 'delivery'), ('delivery', 'tomorrowsims'), ('tomorrowsims', 'site'), ('site', 'new'), ('new', 'jersey'), ('jersey', 'devil'), ('devil', 'detroit'), ('detroit', 'red'), ('red', 'wing'), ('wing', 'play'), ('play', 'ice'), ('ice', 'hockey'), ('hockey', 'correct'), ('correct', 'incorrect'), ('incorrect', 'end'), ('end', 'reply'), ('reply', 'end'), ('end', 'sitecongrats'), ('sitecongrats', 'year'), ('year', 'special'), ('special', 'cinema'), ('cinema', 'pas'), ('pas', 'call'), ('<num>', 'superman'), ('superman', 'matrix'), ('matrix', 'starter'), ('starter', 'etc'), ('etc', 'free'), ('free', 'bx<num>ip<num>we'), ('bx<num>ip<num>we', 'done'), ('done', 'missvalued'), ('missvalued', 'customer'), ('customer', 'pleased'), ('pleased', 'advise'), ('advise', 'following'), ('following', 'recent'), ('recent', 'review'), ('review', 'mob'), ('mob', 'awarded'), ('awarded', '£<num>'), ('£<num>', 'bonus'), ('bonus', 'prize'), ('prize', 'call'), ('call', '<num>urgent'), ('<num>urgent', 'awarded'), ('awarded', 'complimentary'), ('complimentary', 'trip'), ('trip', 'eurodisinc'), ('eurodisinc', 'tray'), ('tray', 'acoentry<num>'), ('acoentry<num>', '£<num>'), ('£<num>', 'claim'), ('claim', 'text'), ('text', 'dis'), ('dis', '<num>'), ('<num>', '<num>£<num>morefrmmob'), ('<num>£<num>morefrmmob', 'shracomorsglsuplt<num>'), ('shracomorsglsuplt<num>', 'rajhear'), ('rajhear', 'new'), ('new', 'divorce'), ('divorce', 'barbie'), ('barbie', 'come'), ('come', 'ken'), ('ken', 'stuffplease'), ('stuffplease', 'call'), ('call', 'customer'), ('customer', 'service'), ('service', 'representative'), ('representative', '<num>'), ('<num>', '<num>'), ('<num>', '<num>am<num>pm'), ('<num>am<num>pm', 'guaranteed'), ('guaranteed', '£<num>'), ('£<num>', 'cash'), ('cash', '£<num>'), ('£<num>', 'prizefree'), ('prizefree', 'ringtone'), ('ringtone', 'waiting'), ('waiting', 'collected'), ('collected', 'simply'), ('simply', 'text'), ('text', 'password'), ('password', 'mix'), ('mix', '<num>'), ('<num>', 'verify'), ('verify', 'get'), ('get', 'usher'), ('usher', 'britney'), ('britney', 'fol'), ('fol', 'box'), ('box', '<num>'), ('<num>', 'mkt'), ('mkt', 'mph'), ('mph', '<num>ppwgent'), ('<num>ppwgent', 'trying'), ('trying', 'contact'), ('contact', 'last'), ('last', 'weekend'), ('weekend', 'draw'), ('draw', 'show'), ('show', '£<num>'), ('prize', 'guaranteed'), ('guaranteed', 'call'), ('code', 'key'), ('key', 'valid'), ('valid', 'ppmwinner'), ('ppmwinner', 'specially'), ('specially', 'selected'), ('selected', 'receive'), ('receive', '£<num>'), ('£<num>', 'holiday'), ('holiday', 'flight'), ('flight', 'inc'), ('inc', 'speak'), ('speak', 'live'), ('live', 'operator'), ('operator', 'claim'), ('claim', '<num>pminprivate'), ('<num>pminprivate', '<num>'), ('<num>', 'account'), ('account', 'statement'), ('statement', '<num>'), ('<num>', 'show'), ('show', 'unredeemed'), ('unredeemed', 'bonus'), ('bonus', 'point'), ('point', 'claim'), ('<num>', 'identifier'), ('identifier', 'code'), ('code', '<num>'), ('<num>', 'expiresurgent'), ('expiresurgent', 'mobile'), ('mobile', 'awarded'), ('bonus', 'caller'), ('caller', 'prize'), ('prize', '<num>'), ('<num>', 'final'), ('final', 'try'), ('try', 'contact'), ('contact', 'call'), ('call', 'landline'), ('landline', '<num>'), ('<num>', 'box<num>wr<num>c'), ('box<num>wr<num>c', 'ppmtoday'), ('ppmtoday', 'soda'), ('soda', 'number'), ('number', 'ending'), ('ending', '<num>'), ('<num>', 'selected'), ('receive', 'award'), ('award', 'match'), ('match', 'please'), ('<num>', 'quoting'), ('quoting', 'claim'), ('<num>', 'standard'), ('standard', 'rate'), ('rate', 'appsunshine'), ('appsunshine', 'quiz'), ('quiz', 'wkly'), ('wkly', 'win'), ('win', 'top'), ('top', 'sony'), ('sony', 'player'), ('player', 'know'), ('know', 'country'), ('country', 'algae'), ('algae', 'text'), ('<num>', '£<num>'), ('£<num>', 'tyronewant'), ('tyronewant', 'get'), ('get', 'laid'), ('laid', 'tonight'), ('tonight', 'want'), ('want', 'real'), ('real', 'dogging'), ('dogging', 'location'), ('location', 'sent'), ('sent', 'direct'), ('direct', 'mob'), ('mob', 'join'), ('join', 'largest'), ('largest', 'dogging'), ('dogging', 'network'), ('network', 'toting'), ('toting', 'gravel'), ('gravel', '<num>'), ('<num>', 'echo'), ('echo', '<num>pmsg<num>prev'), ('<num>pmsg<num>prev', 'mug'), ('mug', 'chat'), ('chat', 'sec'), ('sec', 'free'), ('free', 'hardcore'), ('hardcore', 'service'), ('service', 'text'), ('<num>', 'get'), ('get', 'nothing'), ('nothing', 'must'), ('must', 'age'), ('age', 'verify'), ('verify', 'network'), ('network', 'tryfreeman'), ('tryfreeman', 'replied'), ('replied', 'text'), ('text', 'randy'), ('randy', 'sexy'), ('sexy', 'female'), ('female', 'live'), ('live', 'local'), ('local', 'lug'), ('lug', 'hear'), ('hear', 'metroplex'), ('metroplex', 'ltd'), ('ltd', '<num>p'), ('<num>p', 'per'), ('per', 'mag'), ('mag', 'reply'), ('reply', 'stop'), ('stop', 'endcustomer'), ('endcustomer', 'service'), ('service', 'announcement'), ('announcement', 'new'), ('new', 'year'), ('year', 'delivery'), ('delivery', 'waiting'), ('waiting', 'please'), ('<num>', 'arrange'), ('arrange', 'deliverywinner'), ('deliverywinner', 'specially'), ('cash', 'holiday'), ('claim', '<num>plus'), ('<num>plus', 'stop'), ('stop', 'bootydelious'), ('bootydelious', 'inviting'), ('inviting', 'friend'), ('friend', 'reply'), ('reply', 'yes'), ('yes', 'see'), ('see', 'wwwsmsacubootydelious'), ('wwwsmsacubootydelious', 'stop'), ('stop', 'send'), ('send', 'stop'), ('stop', 'find'), ('find', '<num>language'), ('<num>language', 'order'), ('order', 'way'), ('way', 'receive'), ('receive', 'service'), ('service', 'mag'), ('mag', 'download'), ('download', 'content'), ('content', 'got'), ('got', 'bang'), ('bang', 'mobile'), ('mobile', 'interservice'), ('interservice', 'menuurgent'), ('menuurgent', 'trying'), ('code', 'see'), ('see', 'validplease'), ('validplease', 'call'), ('representative', 'freephone'), ('freephone', '<num>'), ('£<num>', 'prizeunique'), ('prizeunique', 'enough'), ('enough', 'find'), ('find', 'august'), ('august', 'wwwareyouuniquecouknew'), ('wwwareyouuniquecouknew', 'mobile'), ('mobile', '<num>'), ('<num>', 'must'), ('must', 'text'), ('text', 'nokia'), ('nokia', '<num>'), ('<num>', 'collect'), ('collect', 'todayfrom'), ('todayfrom', 'www<num>tcbiz'), ('www<num>tcbiz', 'output'), ('output', '<num>gbpmtmsg<num>meet'), ('<num>gbpmtmsg<num>meet', 'dream'), ('dream', 'partner'), ('partner', 'soon'), ('soon', 'career'), ('career', 'flying'), ('flying', 'start'), ('start', 'find'), ('find', 'free'), ('free', 'text'), ('text', 'hero'), ('hero', 'followed'), ('followed', 'star'), ('star', 'sign'), ('sign', 'hero'), ('hero', 'ariestext'), ('ariestext', 'meet'), ('meet', 'someone'), ('someone', 'sexy'), ('sexy', 'today'), ('today', 'find'), ('find', 'date'), ('date', 'even'), ('even', 'flirt'), ('flirt', 'join'), ('join', 'reply'), ('reply', 'name'), ('name', 'age'), ('age', 'leg'), ('leg', 'sam'), ('sam', 'mag'), ('mag', 'recdthirtyeight'), ('recdthirtyeight', 'penny<num>'), ('penny<num>', 'secret'), ('secret', 'admirer'), ('admirer', 'looking'), ('looking', 'make'), ('make', 'contact'), ('contact', 'find'), ('find', 'reveal'), ('reveal', 'think'), ('think', 'specifically'), ('specifically', '<num>congratulation'), ('<num>congratulation', 'awarded'), ('awarded', 'voucher'), ('voucher', 'gift'), ('gift', 'guaranteed'), ('guaranteed', 'free'), ('wkly', 'draw'), ('draw', 'text'), ('text', 'music'), ('music', '<num>'), ('<num>', 'tic'), ('tic', 'wwwldewcom<num>win<num>ppmx<num>age<num>tried'), ('wwwldewcom<num>win<num>ppmx<num>age<num>tried', 'contact'), ('contact', 'reply'), ('reply', 'offer'), ('offer', 'video'), ('video', 'handset'), ('handset', 'anytime'), ('anytime', 'network'), ('network', 'mind'), ('mind', 'unlimited'), ('unlimited', 'text'), ('text', 'camcorder'), ('camcorder', 'reply'), ('reply', 'call'), ('call', '<num>hey'), ('<num>hey', 'really'), ('really', 'horny'), ('horny', 'want'), ('want', 'chat'), ('chat', 'see'), ('see', 'naked'), ('naked', 'text'), ('text', 'hot'), ('hot', '<num>'), ('text', 'charged'), ('charged', 'unsubscribe'), ('unsubscribe', 'text'), ('text', 'stop'), ('stop', '<num>ringtone'), ('<num>ringtone', 'service'), ('service', 'changed'), ('changed', 'free'), ('free', 'credit'), ('credit', 'club<num>mobilescom'), ('club<num>mobilescom', 'choose'), ('choose', 'content'), ('content', 'stop'), ('stop', 'text'), ('text', 'club'), ('club', 'stop'), ('stop', '<num>'), ('<num>', '<num>pwk'), ('<num>pwk', 'club'), ('club', 'box<num>'), ('box<num>', 'mkt'), ('mkt', 'cwtringtone'), ('cwtringtone', 'club'), ('club', 'get'), ('get', 'single'), ('single', 'chart'), ('chart', 'mobile'), ('mobile', 'week'), ('week', 'choose'), ('choose', 'top'), ('top', 'quality'), ('quality', 'ringtone'), ('ringtone', 'message'), ('message', 'free'), ('free', 'chargehmm'), ('chargehmm', 'bonus'), ('bonus', 'special'), ('special', 'pound'), ('pound', 'genuine'), ('genuine', 'hmm'), ('hmm', 'voucher'), ('voucher', 'answer'), ('answer', 'easy'), ('easy', 'question'), ('question', 'play'), ('play', 'send'), ('send', 'hmm'), ('hmm', '<num>'), ('<num>', 'infowww<num>percentrealcommobile'), ('infowww<num>percentrealcommobile', 'customer'), ('customer', 'may'), ('may', 'claim'), ('claim', 'free'), ('free', 'camera'), ('camera', 'phone'), ('phone', 'upgrade'), ('upgrade', 'pay'), ('pay', 'sim'), ('sim', 'card'), ('card', 'loyalty'), ('loyalty', 'call'), ('<num>', '<num>offer'), ('<num>offer', 'end'), ('end', '<num>thfebtc'), ('<num>thfebtc', 'applysims'), ('applysims', 'blind'), ('blind', 'date'), ('date', 'road'), ('road', 'aberdeen'), ('aberdeen', 'united'), ('united', 'kingdom'), ('kingdom', 'check'), ('check', 'helping'), ('helping', 'sims'), ('sims', 'acwicmb<num>cktz<num>r<num>'), ('acwicmb<num>cktz<num>r<num>', 'blind'), ('date', 'send'), ('send', 'hidecheck'), ('hidecheck', 'newest'), ('newest', 'selection'), ('selection', 'content'), ('content', 'game'), ('game', 'tone'), ('tone', 'gossip'), ('gossip', 'babe'), ('babe', 'sport'), ('sport', 'keep'), ('keep', 'mobile'), ('mobile', 'fit'), ('fit', 'funky'), ('funky', 'text'), ('text', '<num>think'), ('<num>think', 'smart'), ('smart', 'win'), ('win', '£<num>'), ('£<num>', 'week'), ('week', 'weekly'), ('weekly', 'quiz'), ('quiz', 'text'), ('text', 'play'), ('play', '<num>'), ('<num>', 'note'), ('note', 'winnersclub'), ('winnersclub', 'box'), ('box', 'luz'), ('luz', 'gbp<num>weekdecember'), ('gbp<num>weekdecember', 'mobile'), ('mobile', 'month'), ('colour', 'camera'), ('camera', 'mobile'), ('free', '<num>call'), ('<num>call', 'germany'), ('germany', 'penny'), ('penny', 'per'), ('per', 'minute'), ('minute', 'call'), ('call', 'fixed'), ('fixed', 'line'), ('line', 'via'), ('via', 'access'), ('access', 'number'), ('number', '<num>'), ('<num>', 'prepayment'), ('prepayment', 'direct'), ('direct', 'accessvalentine'), ('accessvalentine', 'day'), ('day', 'special'), ('special', 'win'), ('£<num>', 'quiz'), ('quiz', 'take'), ('take', 'partner'), ('partner', 'trip'), ('trip', 'lifetime'), ('lifetime', 'send'), ('<num>', '<num>pmsg'), ('<num>pmsg', 'rcd'), ('rcd', 'custcare<num>fancy'), ('custcare<num>fancy', 'shag'), ('shag', 'interested'), ('interested', 'sextextukcom'), ('sextextukcom', 'text'), ('text', 'xxx'), ('xxx', 'suzy'), ('suzy', '<num>'), ('<num>', 'tit'), ('tit', 'cost'), ('cost', 'per'), ('mag', 'tic'), ('tic', 'websitecongratulation'), ('websitecongratulation', 'awarded'), ('tic', 'wwwldewcom<num>win<num>ppmx<num>age<num>casablanca'), ('wwwldewcom<num>win<num>ppmx<num>age<num>casablanca', 'currently'), ('currently', 'pound'), ('pound', 'maximize'), ('maximize', 'cashing'), ('cashing', 'send'), ('send', 'cash'), ('<num>pmsg', '<num>'), ('<num>', 'hgsuite<num>lands'), ('hgsuite<num>lands', 'roww<num>j<num>hlupdated'), ('roww<num>j<num>hlupdated', 'xmas'), ('xmas', 'offer'), ('offer', 'latest'), ('latest', 'motorola'), ('motorola', 'sonyericsson'), ('sonyericsson', 'nokia'), ('nokia', 'free'), ('free', 'bluetooth'), ('bluetooth', 'double'), ('double', 'mind'), ('mind', '<num>'), ('text', 'orange'), ('orange', 'call'), ('call', 'mobileupd<num>'), ('mobileupd<num>', '<num>'), ('<num>', 'call<num>optoutf<num>qdiscount'), ('call<num>optoutf<num>qdiscount', 'code'), ('code', 'rp<num>'), ('rp<num>', 'stop'), ('stop', 'message'), ('message', 'reply'), ('stop', 'wwwregalportfoliocouk'), ('wwwregalportfoliocouk', 'customer'), ('service', '<num>thanks'), ('<num>thanks', 'ringtone'), ('ringtone', 'order'), ('order', 'reference'), ('reference', 'charged'), ('charged', 'gap'), ('gap', 'per'), ('per', 'week'), ('week', 'unsubscribe'), ('unsubscribe', 'anytime'), ('anytime', 'calling'), ('calling', 'customer'), ('service', '<num>double'), ('<num>double', 'mind'), ('mind', 'tit'), ('tit', 'month'), ('month', 'free'), ('bluetooth', 'orange'), ('orange', 'available'), ('available', 'sony'), ('sony', 'nokia'), ('nokia', 'motorola'), ('motorola', 'phone'), ('phone', 'call'), ('<num>', 'call<num>optoutn<num>dxpath'), ('call<num>optoutn<num>dxpath', 'half'), ('half', 'price'), ('price', 'orange'), ('orange', 'line'), ('line', 'rental'), ('rental', 'latest'), ('latest', 'camera'), ('phone', 'free'), ('free', 'phone'), ('phone', 'month'), ('month', 'call'), ('call', 'mobilesdirect'), ('mobilesdirect', 'free'), ('free', '<num>'), ('<num>', 'update'), ('update', 'or<num>stoptxtfree'), ('or<num>stoptxtfree', 'ringtone'), ('ringtone', 'text'), ('text', 'first'), ('first', '<num>'), ('<num>', 'poly'), ('poly', 'text'), ('text', 'get'), ('get', '<num>'), ('<num>', 'true'), ('true', 'tone'), ('tone', 'help'), ('help', '<num>'), ('<num>', 'free'), ('free', 'tone'), ('tone', '<num>x£<num>pw'), ('<num>x£<num>pw', 'end'), ('end', 'text'), ('text', 'stopdating'), ('stopdating', 'service'), ('service', 'call'), ('<num>', 'box<num>sk<num>chfree'), ('box<num>sk<num>chfree', 'entry'), ('entry', '£<num>'), ('£<num>', 'weekly'), ('weekly', 'competition'), ('competition', 'text'), ('word', 'win'), ('win', '<num>'), ('<num>', 'wwwtxttowincouksend'), ('wwwtxttowincouksend', 'logo'), ('logo', 'lover'), ('lover', 'name'), ('name', 'joined'), ('joined', 'heart'), ('heart', 'text'), ('text', 'love'), ('love', 'name'), ('name', 'name'), ('name', 'mono'), ('mono', 'leg'), ('leg', 'love'), ('love', 'adam'), ('adam', 'eve'), ('eve', '<num>'), ('<num>', 'yahoo'), ('yahoo', 'pobox<num>w<num>wq'), ('pobox<num>w<num>wq', 'totosomeone'), ('totosomeone', 'contacted'), ('contacted', 'dating'), ('dating', 'service'), ('service', 'entered'), ('entered', 'phone'), ('phone', 'fancy'), ('fancy', 'find'), ('find', 'call'), ('<num>', 'pobox<num>n<num>tf<num>purgent'), ('pobox<num>n<num>tf<num>purgent', 'mobile'), ('mobile', 'number'), ('number', 'awarded'), ('<num>', 'land'), ('land', 'line'), ('line', 'claim'), ('<num>', 'validcongrats'), ('validcongrats', 'nokia'), ('<num>', 'video'), ('video', 'camera'), ('<num>', 'call'), ('call', 'cost'), ('cost', 'ppm'), ('ppm', 'ave'), ('ave', 'call'), ('call', 'mind'), ('mind', 'vary'), ('vary', 'mobile'), ('mobile', 'close'), ('close', '<num>'), ('<num>', 'post'), ('post', 'bcm<num>'), ('bcm<num>', 'len'), ('len', 'wc<num>n<num>xxloan'), ('wc<num>n<num>xxloan', 'purpose'), ('purpose', '£<num>'), ('£<num>', '£<num>'), ('£<num>', 'homeowner'), ('homeowner', 'tenant'), ('tenant', 'welcome'), ('welcome', 'previously'), ('previously', 'refused'), ('refused', 'still'), ('still', 'help'), ('help', 'call'), ('call', 'free'), ('text', 'back'), ('back', 'helpupgrdcentre'), ('helpupgrdcentre', 'orange'), ('orange', 'customer'), ('upgrade', 'loyalty'), ('<num>', 'offer'), ('offer', 'end'), ('end', 'july'), ('july', 'apply'), ('apply', 'output'), ('output', 'availableemail'), ('availableemail', 'dear'), ('dear', 'dave'), ('dave', 'final'), ('final', 'notice'), ('notice', 'collect'), ('collect', 'tenerife'), ('tenerife', 'holiday'), ('holiday', '<num>'), ('<num>', 'cash'), ('cash', 'award'), ('award', 'call'), ('<num>', 'landline'), ('landline', 'see'), ('see', 'box'), ('box', 'cw<num>wx'), ('cw<num>wx', 'ppmwant'), ('ppmwant', 'get'), ('toting', 'moan'), ('moan', '<num>nyt'), ('<num>nyt', 'echo'), ('echo', '<num>pmsg<num>pfree'), ('<num>pmsg<num>pfree', 'message'), ('message', 'activate'), ('activate', 'free'), ('message', 'replying'), ('replying', 'message'), ('message', 'word'), ('word', 'free'), ('free', 'term'), ('term', 'condition'), ('condition', 'visit'), ('visit', 'www<num>comcongrats'), ('www<num>comcongrats', 'year'), ('done', 'misscongratulation'), ('misscongratulation', 'week'), ('week', 'competition'), ('competition', 'draw'), ('draw', '£<num>'), ('prize', 'claim'), ('<num>', 'b<num>'), ('b<num>', 'stop'), ('stop', 'sims'), ('sims', '<num>'), ('<num>', 'ppmguaranteed'), ('ppmguaranteed', 'latest'), ('latest', 'nokia'), ('nokia', 'phone'), ('phone', 'page'), ('page', 'ipod'), ('ipod', 'mph'), ('mph', 'player'), ('player', '£<num>'), ('prize', 'text'), ('word', 'collect'), ('collect', '<num>'), ('<num>', 'ltd'), ('ltd', 'ldnw<num>h'), ('ldnw<num>h', '<num>pmtmsgrcvd<num>bottle'), ('<num>pmtmsgrcvd<num>bottle', 'tone'), ('tone', 'reply'), ('reply', 'poly'), ('poly', 'mono'), ('leg', 'poly'), ('poly', 'cha'), ('cha', 'cha'), ('cha', 'slide'), ('slide', 'yeah'), ('yeah', 'slow'), ('slow', 'jazz'), ('jazz', 'toxic'), ('toxic', 'come'), ('come', 'stop'), ('stop', 'tone'), ('tone', 'textcredit'), ('textcredit', 'topped'), ('topped', 'httpwwwbubbletextcom'), ('httpwwwbubbletextcom', 'renewal'), ('renewal', 'pin'), ('pin', 'tgxxrzurgent'), ('tgxxrzurgent', 'mobile'), ('<num>', 'attempt'), ('attempt', 'contact'), ('<num>', 'box<num>qutoday'), ('box<num>qutoday', 'offer'), ('offer', 'claim'), ('claim', '£<num>'), ('£<num>', 'worth'), ('worth', 'discount'), ('discount', 'voucher'), ('voucher', 'text'), ('text', 'yes'), ('yes', '<num>'), ('<num>', 'salmon'), ('salmon', 'member'), ('member', 'offer'), ('offer', 'mobile'), ('£<num>', 'sub'), ('sub', 'sub'), ('sub', 'replyreceive'), ('replyreceive', 'tone'), ('tone', 'within'), ('within', 'next'), ('next', 'term'), ('condition', 'please'), ('please', 'see'), ('see', 'channel'), ('channel', 'teletextprivate'), ('teletextprivate', '<num>'), ('unredeemed', 'sim'), ('sim', 'point'), ('point', 'call'), ('<num>', 'expires'), ('expires', '<num>wwwapplausestorecom'), ('<num>wwwapplausestorecom', 'monthlysubscription<num>pmsg'), ('monthlysubscription<num>pmsg', 'mammoth'), ('mammoth', 'csc'), ('csc', 'web'), ('web', 'age'), ('age', 'stop'), ('text', 'stopgent'), ('stopgent', 'trying'), ('valid', 'ppm<num>'), ('ppm<num>', 'cash'), ('<num>', 'prize'), ('claim', 'call<num>mobile'), ('call<num>mobile', 'number'), ('number', '£<num>'), ('call', 'back'), ('back', 'ring'), ('ring', 'claim'), ('claim', 'hot'), ('hot', 'line'), ('line', '<num>tried'), ('<num>tried', 'contact'), ('offer', 'mind'), ('mind', 'expand'), ('expand', 'new'), ('new', 'video'), ('video', 'phone'), ('<num>', 'reply'), ('reply', 'free'), ('free', 'delivery'), ('delivery', 'tomorrowchance'), ('tomorrowchance', 'win'), ('£<num>', 'wkly'), ('wkly', 'shopping'), ('shopping', 'spree'), ('spree', 'text'), ('text', 'shop'), ('shop', '<num>'), ('<num>', 'wwwtxt<num>shopcom'), ('wwwtxt<num>shopcom', 'custard'), ('custard', '<num>'), ('<num>', '<num>x<num>pwkspecially'), ('<num>x<num>pwkspecially', 'selected'), ('receive', '<num>'), ('pound', 'award'), ('<num>', 'line'), ('line', 'close'), ('close', 'cost'), ('ppm', 'apply'), ('apply', 'promoprivate'), ('promoprivate', '<num>'), ('unredeemed', 'point'), ('expires', '<num>important'), ('<num>important', 'customer'), ('announcement', 'call'), ('call', 'freephone'), ('<num>', '<num>xclusiveclubsaisai'), ('<num>xclusiveclubsaisai', 'morrow'), ('morrow', 'soiree'), ('soiree', 'special'), ('special', 'souk'), ('souk', 'nichols'), ('nichols', 'parish'), ('parish', 'rose'), ('rose', 'lady'), ('lady', 'info'), ('info', '<num>day'), ('<num>day', 'kick'), ('kick', 'euro<num>'), ('euro<num>', 'kept'), ('kept', 'date'), ('date', 'latest'), ('latest', 'news'), ('news', 'result'), ('result', 'daily'), ('daily', 'removed'), ('removed', 'send'), ('send', 'get'), ('get', 'text'), ('stop', '<num>new'), ('<num>new', 'textbuddy'), ('textbuddy', 'chat'), ('chat', 'horny'), ('horny', 'guy'), ('guy', 'area'), ('area', 'free'), ('free', 'receive'), ('receive', 'search'), ('search', 'postcode'), ('postcode', 'gaytextbuddycom'), ('gaytextbuddycom', 'text'), ('text', 'one'), ('one', 'name'), ('name', '<num>today'), ('<num>today', 'danone'), ('danone', 'number'), ('£<num>', 'award'), ('award', 'number'), ('number', 'match'), ('match', 'call'), ('£<num>', 'awarddear'), ('awarddear', 'voucher'), ('voucher', 'holder'), ('holder', 'claim'), ('claim', 'week'), ('week', 'offer'), ('offer', 'httpwwwetlpcoukexpressoffer'), ('httpwwwetlpcoukexpressoffer', 'tic'), ('tic', 'apply'), ('apply', 'stop'), ('text', 'text'), ('stop', '<num>private'), ('<num>private', '<num>'), ('statement', 'show'), ('expires', '<num><num>'), ('<num><num>', 'cash'), ('claim', 'call<num>'), ('call<num>', 'rate'), ('rate', 'ppm<num>'), ('ppm<num>', '<num>'), ('<num>', 'premium'), ('premium', 'phone'), ('phone', 'service'), ('call', '<num>sims'), ('<num>sims', 'sun<num>'), ('sun<num>', 'post'), ('post', 'hello'), ('hello', 'seem'), ('seem', 'cool'), ('cool', 'wanted'), ('wanted', 'say'), ('say', 'stop'), ('stop', '<num>get'), ('<num>get', 'ringtone'), ('ringtone', 'free'), ('free', 'reply'), ('reply', 'mag'), ('mag', 'tone'), ('tone', 'gre'), ('gre', 'top'), ('top', 'tone'), ('tone', 'phone'), ('phone', 'every'), ('every', 'week'), ('week', '£<num>'), ('£<num>', 'per'), ('per', 'opt'), ('opt', 'send'), ('stop', '<num>sue'), ('<num>sue', 'year'), ('year', 'old'), ('old', 'work'), ('work', 'dancer'), ('dancer', 'love'), ('love', 'sex'), ('sex', 'text'), ('text', 'live'), ('live', 'bedroom'), ('bedroom', 'text'), ('text', 'sue'), ('sue', '<num>'), ('<num>', 'textoperator'), ('textoperator', 'ada'), ('ada', '<num>ppmsgforwarded'), ('<num>ppmsgforwarded', '<num>please'), ('<num>please', 'call'), ('<num>', 'immediately'), ('immediately', 'urgent'), ('urgent', 'message'), ('message', 'waitingreview'), ('waitingreview', 'keep'), ('keep', 'fantastic'), ('fantastic', 'nokia'), ('nokia', 'engage'), ('engage', 'game'), ('game', 'deck'), ('deck', 'club'), ('club', 'nokia'), ('nokia', 'wwwcnupdatescomnewsletter'), ('wwwcnupdatescomnewsletter', 'unsubscribe'), ('unsubscribe', 'alert'), ('alert', 'reply'), ('reply', 'wordpath'), ('wordpath', 'half'), ('update', 'or<num>stoptxt<num>'), ('or<num>stoptxt<num>', '<num>am<num>pm'), ('<num>am<num>pm', 'cost<num>'), ('cost<num>', 'urgent'), ('urgent', 'attempt'), ('contact', '£<num>'), ('£<num>', 'call'), ('<num>', 'tcsbcm<num>wc<num>n<num>xx'), ('tcsbcm<num>wc<num>n<num>xx', 'almost'), ('almost', 'ppm'), ('ppm', 'mobilesvary'), ('mobilesvary', 'maxguaranteed'), ('maxguaranteed', '£<num>'), ('claim', 'prize'), ('<num>', '<num>am<num>pmemail'), ('<num>am<num>pmemail', 'therefrom'), ('therefrom', 'jeri'), ('jeri', 'stewartsize'), ('stewartsize', 'subject'), ('subject', 'lowest'), ('lowest', 'prescription'), ('prescription', 'drug'), ('drug', 'listen'), ('listen', 'email'), ('email', 'callcustomer'), ('callcustomer', 'loyalty'), ('loyalty', 'offer'), ('offer', 'new'), ('new', 'nokia<num>'), ('nokia<num>', 'mobile'), ('mobile', 'auction'), ('auction', 'text'), ('word', 'start'), ('start', '<num>'), ('text', '<num>pmtmsgsubscribed'), ('<num>pmtmsgsubscribed', 'best'), ('best', 'mobile'), ('mobile', 'content'), ('content', 'service'), ('service', 'per'), ('per', 'day'), ('day', 'send'), ('<num>', 'helpline'), ('helpline', '<num>realize'), ('<num>realize', 'year'), ('year', 'thousand'), ('thousand', 'old'), ('old', 'lady'), ('lady', 'running'), ('running', 'around'), ('around', 'tattooimportant'), ('tattooimportant', 'customer'), ('announcement', 'premierromantic'), ('premierromantic', 'paris'), ('paris', 'night'), ('night', 'flight'), ('flight', 'book'), ('book', 'next'), ('next', 'year'), ('year', 'call'), ('call', '<num>tscs'), ('<num>tscs', 'applyurgent'), ('applyurgent', '£<num>'), ('£<num>', 'guaranteed'), ('guaranteed', 'award'), ('award', 'still'), ('still', 'unclaimed'), ('unclaimed', 'call'), ('<num>', 'closingdate<num>'), ('closingdate<num>', 'claimed'), ('claimed', 'm<num>m<num>'), ('m<num>m<num>', '£<num>pmmorefrommobile<num>bremovedmobypobox<num>ls<num>yfawarded'), ('£<num>pmmorefrommobile<num>bremovedmobypobox<num>ls<num>yfawarded', 'city'), ('city', 'break'), ('break', 'could'), ('could', 'win'), ('£<num>', 'summer'), ('summer', 'shopping'), ('spree', 'every'), ('every', 'text'), ('text', 'store'), ('store', '<num>'), ('<num>', 'single'), ('single', 'tscs<num>winawkage<num>'), ('tscs<num>winawkage<num>', '£<num>perwksubimportant'), ('£<num>perwksubimportant', 'customer'), ('announcement', 'premier'), ('premier', 'call'), ('<num>', '<num>ever'), ('<num>ever', 'thought'), ('thought', 'living'), ('living', 'good'), ('good', 'life'), ('life', 'perfect'), ('perfect', 'partner'), ('partner', 'text'), ('back', 'name'), ('age', 'join'), ('join', 'mobile'), ('mobile', 'community'), ('community', '<num>psmsfree'), ('<num>psmsfree', 'top'), ('top', 'polyphonic'), ('polyphonic', 'tone'), ('tone', 'call'), ('<num>', 'national'), ('national', 'rate'), ('rate', 'get'), ('get', 'coppola'), ('coppola', 'tune'), ('tune', 'sent'), ('sent', 'every'), ('week', 'text'), ('text', 'supply'), ('supply', '<num>'), ('<num>', 'per'), ('per', 'pole'), ('pole', 'sub'), ('sub', '<num>orange'), ('<num>orange', 'customer'), ('end', '<num>thmarch'), ('<num>thmarch', 'apply'), ('output', 'availlast'), ('availlast', 'chance'), ('chance', 'claim'), ('voucher', 'today'), ('today', 'text'), ('salmon', 'offer'), ('mobile', 'salmon'), ('salmon', 'pobox<num>'), ('pobox<num>', 'm<num>uz'), ('m<num>uz', '£<num>'), ('£<num>', 'subfree'), ('subfree', 'week'), ('week', 'nokia'), ('nokia', 'tone'), ('tone', 'mobile'), ('mobile', 'every'), ('get', 'toting'), ('toting', 'tell'), ('tell', 'mate'), ('mate', 'wwwgetzedcouk'), ('wwwgetzedcouk', 'box'), ('<num>', 'wow'), ('wow', 'norm<num>ptoneguaranteed'), ('norm<num>ptoneguaranteed', '£<num>'), ('award', 'even'), ('even', '£<num>'), ('£<num>', 'pashto'), ('pashto', 'claim'), ('claim', 'award'), ('<num>', 'stop'), ('stop', 'estop'), ('estop', '<num>'), ('<num>', 'pop'), ('pop', 'get'), ('get', 'sexcongratulation'), ('sexcongratulation', 'awarded'), ('awarded', 'either'), ('either', '£<num>'), ('£<num>', 'gift'), ('gift', 'voucher'), ('voucher', 'free'), ('weekly', 'draw'), ('tic', 'wwwldewcom<num>win<num>ppmx<num>age<num>outbid'), ('wwwldewcom<num>win<num>ppmx<num>age<num>outbid', 'simonwatson<num>'), ('simonwatson<num>', 'shinto'), ('shinto', 'ply'), ('ply', 'bid'), ('bid', 'visit'), ('visit', 'sims'), ('sims', 'acsmsrewards'), ('acsmsrewards', 'end'), ('end', 'bid'), ('bid', 'notification'), ('notification', 'reply'), ('reply', 'endservice'), ('endservice', 'yourinclusive'), ('yourinclusive', 'text'), ('text', 'credit'), ('credit', 'plus'), ('plus', 'got'), ('got', 'wwwcomuknet'), ('wwwcomuknet', 'login'), ('login', '<num>qxj<num>'), ('<num>qxj<num>', 'unsubscribe'), ('unsubscribe', 'stop'), ('stop', 'extra'), ('extra', 'charge'), ('charge', 'help'), ('help', '<num>comuk'), ('<num>comuk', '<num>cm<num>'), ('<num>cm<num>', 'maeallie'), ('maeallie', 'moon'), ('moon', 'child'), ('child', 'need'), ('need', 'song'), ('song', 'mob'), ('mob', 'tell'), ('tell', 'text'), ('text', 'tone'), ('tone', 'charity'), ('charity', '<num>'), ('<num>', 'nokia'), ('nokia', 'poly'), ('poly', 'charity'), ('charity', 'polys'), ('polys', 'zed'), ('zed', '<num>'), ('<num>', 'profit'), ('profit', 'charitysecret'), ('charitysecret', 'admirer'), ('admirer', 'reveal'), ('think', 'special'), ('special', 'call'), ('<num>', 'opt'), ('opt', 'reply'), ('reply', 'reveal'), ('reveal', 'stop'), ('stop', 'per'), ('mag', 'recd'), ('recd', 'care'), ('care', '<num>dear'), ('<num>dear', 'voucher'), ('offer', 'please'), ('please', 'httpwwwetlpcoukexpressoffer'), ('stop', '<num>want'), ('<num>want', 'anytime'), ('mind', 'text'), ('text', 'new'), ('phone', 'five'), ('five', 'pound'), ('pound', 'per'), ('week', 'call'), ('reply', 'delivery'), ('delivery', 'tomorrowtried'), ('tomorrowtried', 'contact'), ('contact', 'offer'), ('phone', 'anytime'), ('mind', 'half'), ('price', 'rental'), ('rental', 'camcorder'), ('camcorder', 'call'), ('delivery', 'wedlast'), ('wedlast', 'chance'), ('discount', 'voucherstext'), ('voucherstext', 'yes'), ('<num>', 'nowsavamobmember'), ('nowsavamobmember', 'offer'), ('sub', 'remove'), ('remove', 'text'), ('text', 'stopurgent'), ('stopurgent', 'call'), ('landline', 'complimentary'), ('complimentary', 'ibiza'), ('ibiza', 'holiday'), ('cash', 'await'), ('await', 'collection'), ('collection', 'see'), ('box', 'ski'), ('ski', 'twp'), ('twp', 'ppmtoday'), ('ppmtoday', 'offer'), ('sub', 'replytalk'), ('replytalk', 'sexy'), ('sexy', 'make'), ('make', 'new'), ('new', 'friend'), ('friend', 'fall'), ('fall', 'love'), ('love', 'world'), ('world', 'discreet'), ('discreet', 'text'), ('text', 'dating'), ('text', 'via'), ('via', '<num>'), ('<num>', 'see'), ('see', 'could'), ('could', 'meetcongratulation'), ('meetcongratulation', 'awarded'), ('either', 'supply'), ('supply', 'virgin'), ('virgin', 'record'), ('record', 'mystery'), ('mystery', 'gift'), ('tic', 'wwwsmsconet'), ('wwwsmsconet', '£<num>pm'), ('£<num>pm', 'approx'), ('approx', 'mindprivate'), ('mindprivate', '<num>'), ('<num>', 'xxxix'), ('xxxix', 'show'), ('expires', '<num>hello'), ('<num>hello', 'need'), ('need', 'posh'), ('posh', 'bird'), ('bird', 'chap'), ('chap', 'user'), ('user', 'trial'), ('trial', 'prod'), ('prod', 'chimney'), ('chimney', 'put'), ('put', 'need'), ('need', 'address'), ('address', 'dob'), ('dob', 'asapwant'), ('asapwant', 'xmas'), ('xmas', 'free'), ('message', 'new'), ('phone', 'half'), ('price', 'line'), ('rental', 'call'), ('<num>', 'findshop'), ('findshop', 'till'), ('till', 'drop'), ('drop', 'either'), ('either', 'ask'), ('ask', '£<num>'), ('£<num>', 'travel'), ('travel', 'voucher'), ('voucher', 'call'), ('<num>', 'box'), ('box', 'cr<num>bt'), ('cr<num>bt', 'pipeline'), ('pipeline', 'cost'), ('ppm', 'mobile'), ('mobile', 'varysunshine'), ('varysunshine', 'quiz'), ('country', 'liverpool'), ('liverpool', 'played'), ('played', 'mid'), ('mid', 'week'), ('£<num>', 'tyronesecret'), ('tyronesecret', 'admirer'), ('specifically', '<num>secret'), ('<num>secret', 'admirer'), ('specifically', '<num>stopsms<num>reminder'), ('<num>stopsms<num>reminder', 'downloaded'), ('downloaded', 'content'), ('content', 'already'), ('already', 'paid'), ('paid', 'got'), ('got', 'hotpoint'), ('hotpoint', 'memory'), ('memory', 'collect'), ('collect', 'contentfree'), ('contentfree', 'ringtone'), ('mph', '<num>ppwlatest'), ('<num>ppwlatest', 'stereophonic'), ('stereophonic', 'marley'), ('marley', 'dizzy'), ('dizzy', 'racial'), ('racial', 'libertine'), ('libertine', 'stroke'), ('stroke', 'win'), ('win', 'nookie'), ('nookie', 'game'), ('game', 'flirt'), ('flirt', 'click'), ('click', 'bookmark'), ('bookmark', 'text'), ('text', '<num>january'), ('<num>january', 'male'), ('male', 'sale'), ('sale', 'hot'), ('hot', 'gay'), ('gay', 'chat'), ('chat', 'cheaper'), ('cheaper', 'call'), ('rate', 'spain'), ('spain', 'cheap'), ('cheap', 'spain'), ('spain', 'peak'), ('peak', 'stop'), ('text', 'call'), ('<num>', 'spainmoney'), ('spainmoney', 'lucky'), ('lucky', 'winner'), ('winner', 'claim'), ('text', 'money'), ('money', '<num>'), ('<num>', 'million'), ('million', 'give'), ('give', 'away'), ('away', 'ppt<num>x<num>normal'), ('ppt<num>x<num>normal', 'text'), ('rate', 'box'), ('box', 'wittydear'), ('wittydear', 'matthew'), ('matthew', 'please'), ('complimentary', 'flux'), ('flux', 'tenerife'), ('holiday', '£<num>'), ('collection', 'ppm'), ('ppm', 'see'), ('box', 'sketchurgent'), ('sketchurgent', 'call'), ('complimentary', 'tenerife'), ('box', 'ppmgetting'), ('ppmgetting', 'touch'), ('touch', 'folk'), ('folk', 'waiting'), ('waiting', 'company'), ('company', 'text'), ('age', 'opt'), ('opt', 'enjoy'), ('enjoy', 'community'), ('community', '<num>psmscasablanca'), ('<num>psmscasablanca', 'currently'), ('<num>', 'twofilthy'), ('twofilthy', 'story'), ('story', 'girl'), ('girl', 'waitingurgent'), ('waitingurgent', 'trying'), ('contact', 'today'), ('today', 'draw'), ('claim', 'valid<num>hrscongrats'), ('valid<num>hrscongrats', 'mobile'), ('mobile', 'videophones'), ('videophones', 'call'), ('<num>', 'videochat'), ('videochat', 'mate'), ('mate', 'play'), ('play', 'java'), ('java', 'game'), ('game', 'load'), ('load', 'polyp'), ('polyp', 'music'), ('music', 'online'), ('online', 'rentalplease'), ('rentalplease', 'call'), ('£<num>', 'prizepanasonic'), ('prizepanasonic', 'bluetoothhdset'), ('bluetoothhdset', 'free'), ('free', 'motorola'), ('motorola', 'free'), ('free', 'double'), ('double', 'doublet'), ('doublet', 'orange'), ('orange', 'contract'), ('contract', 'call'), ('call', 'outputfree'), ('outputfree', 'week'), ('tone', 'mob'), ('mob', 'every'), ('wow', 'norm<num>ptoneguess'), ('norm<num>ptoneguess', 'somebody'), ('somebody', 'know'), ('know', 'secretly'), ('secretly', 'fancy'), ('fancy', 'wanna'), ('wanna', 'find'), ('find', 'give'), ('give', 'call'), ('landline', 'datebox<num>essexcm<num>xn'), ('datebox<num>essexcm<num>xn', '<num>pminknow'), ('<num>pminknow', 'someone'), ('someone', 'know'), ('know', 'fancy'), ('fancy', 'call'), ('<num>', 'find'), ('find', 'box'), ('box', 'ls<num>hb<num>'), ('ls<num>hb<num>', 'flirting'), ('flirting', 'text'), ('text', 'girl'), ('girl', 'bloke'), ('bloke', 'name'), ('leg', 'girl'), ('girl', 'zoe'), ('zoe', '<num>'), ('<num>', 'join'), ('join', 'get'), ('get', 'chattingday'), ('chattingday', 'euro<num>'), ('euro<num>', 'kickoff'), ('kickoff', 'kept'), ('kept', 'informed'), ('informed', 'latest'), ('daily', 'unsubscribe'), ('unsubscribe', 'send'), ('get', 'euro'), ('euro', 'stop'), ('stop', '<num>fastener'), ('<num>fastener', 'quiz'), ('quiz', 'flower'), ('flower', 'dot'), ('dot', 'compare'), ('compare', 'violet'), ('violet', 'tulip'), ('tulip', 'lily'), ('lily', 'text'), ('<num>', 'chance'), ('cash', 'wkent<num>p<num>new'), ('wkent<num>p<num>new', 'local'), ('local', 'date'), ('date', 'area'), ('area', 'lot'), ('lot', 'new'), ('new', 'people'), ('people', 'registered'), ('registered', 'area'), ('area', 'reply'), ('reply', 'date'), ('date', 'start'), ('start', 'wwwflirtpartyus'), ('wwwflirtpartyus', 'replys<num>someone'), ('replys<num>someone', 'know'), ('know', 'asked'), ('asked', 'dating'), ('service', 'contact'), ('contact', 'cant'), ('cant', 'guess'), ('guess', 'call'), ('<num>', 'revealed'), ('revealed', 'boxurgent'), ('boxurgent', 'trying'), ('claim', 'valid<num>hrsdear'), ('valid<num>hrsdear', 'invited'), ('invited', 'chat'), ('chat', 'final'), ('final', 'attempt'), ('contact', 'text'), ('text', 'chat'), ('chat', '<num>awarded'), ('<num>awarded', 'six'), ('six', 'digital'), ('digital', 'camera'), ('camera', 'call'), ('landline', 'delivery'), ('delivery', 'within'), ('within', 'day'), ('day', 'box'), ('box', 'm<num>bp'), ('m<num>bp', 'tyr'), ('tyr', 'warranty'), ('warranty', 'ppm'), ('ppm', 'p£<num>win'), ('p£<num>win', 'urgent'), ('urgent', 'mobile'), ('<num>', 'valid'), ('valid', 'ppmdear'), ('ppmdear', 'subscriber'), ('subscriber', 'draw'), ('voucher', 'entered'), ('entered', 'receipt'), ('receipt', 'correct'), ('correct', 'elvis'), ('elvis', 'presley'), ('presley', 'birthday'), ('birthday', 'text'), ('text', 'answer'), ('answer', '<num>message'), ('<num>message', 'important'), ('important', 'information'), ('information', 'user'), ('user', 'today'), ('today', 'lucky'), ('lucky', 'day'), ('day', 'find'), ('find', 'log'), ('log', 'onto'), ('onto', 'httpwwwurawinnercom'), ('httpwwwurawinnercom', 'fantastic'), ('fantastic', 'surprise'), ('surprise', 'awaiting<num>'), ('awaiting<num>', '£<num>'), ('£<num>', 'price'), ('price', 'claim'), ('call', '<num>bored'), ('<num>bored', 'speed'), ('speed', 'dating'), ('dating', 'try'), ('try', 'speedboat'), ('speedboat', 'text'), ('text', 'speedboat'), ('speedboat', '<num>'), ('<num>', 'like'), ('like', 'text'), ('text', 'swap'), ('swap', 'get'), ('get', 'new'), ('new', 'chatter'), ('chatter', 'chat<num>'), ('chat<num>', 'pobox<num>w<num>wq'), ('pobox<num>w<num>wq', '<num>pmsg'), ('<num>pmsg', 'rcdwant'), ('rcdwant', 'anytime'), ('delivery', 'tomorrowtaking'), ('tomorrowtaking', 'part'), ('part', 'mobile'), ('mobile', 'survey'), ('survey', 'yesterday'), ('yesterday', 'text'), ('text', 'use'), ('use', 'however'), ('however', 'wish'), ('wish', 'get'), ('get', 'tit'), ('tit', 'send'), ('send', 'text'), ('<num>', 'wwwtxt<num>comhmm'), ('wwwtxt<num>comhmm', 'quiz'), ('quiz', 'casablanca'), ('casablanca', 'currently'), ('currently', '£<num>'), ('£<num>', 'maximize'), ('<num>', '<num>pmsgdone'), ('<num>pmsgdone', 'forget'), ('forget', 'place'), ('place', 'many'), ('many', 'free'), ('free', 'request'), ('request', '<num>stchoicecouk'), ('<num>stchoicecouk', 'wish'), ('wish', 'information'), ('information', 'call'), ('call', '<num>know'), ('<num>know', 'know'), ('know', 'send'), ('send', 'chat'), ('chat', '<num>'), ('<num>', 'let'), ('let', 'find'), ('find', '<num>pmsg'), ('rcd', 'hgsuite<num>landsroww<num>j<num>hl'), ('hgsuite<num>landsroww<num>j<num>hl', 'len'), ('len', 'yearthank'), ('yearthank', 'winner'), ('winner', 'notified'), ('notified', 'sims'), ('sims', 'good'), ('good', 'luck'), ('luck', 'future'), ('future', 'marketing'), ('marketing', 'reply'), ('<num>', 'customer'), ('service', '<num><num>'), ('<num><num>', 'girl'), ('girl', 'many'), ('many', 'local'), ('local', 'virgin'), ('virgin', 'ready'), ('ready', 'mail'), ('mail', 'every'), ('every', 'sexual'), ('sexual', 'need'), ('need', 'mail'), ('mail', 'text'), ('text', 'cute'), ('cute', '<num>£<num>pfree'), ('<num>£<num>pfree', 'entry'), ('apply', '<num>over<num>got'), ('<num>over<num>got', 'take'), ('take', 'take'), ('take', 'part'), ('part', 'arc'), ('arc', 'rally'), ('rally', 'lemonade'), ('lemonade', 'energy'), ('energy', 'text'), ('text', 'rally'), ('rally', '<num>'), ('see', 'pack'), ('pack', 'lucozadecoukwrc'), ('lucozadecoukwrc', 'couldsex'), ('couldsex', 'mobile'), ('free', 'sexy'), ('sexy', 'pic'), ('pic', 'jordan'), ('jordan', 'text'), ('text', 'babe'), ('babe', '<num>'), ('<num>', 'every'), ('every', 'get'), ('get', 'sexy'), ('sexy', 'celeb'), ('celeb', 'pocketbabecouk'), ('pocketbabecouk', 'pic'), ('pic', 'hawk'), ('hawk', '<num>new'), ('<num>new', 'voicemail'), ('voicemail', 'please'), ('call', '<num>win'), ('<num>win', 'year'), ('year', 'supply'), ('supply', 'store'), ('store', 'choice'), ('choice', 'worth'), ('worth', '£<num>'), ('£<num>', 'enter'), ('enter', '£<num>'), ('tic', 'wwwldewcomsubs<num>win<num>ppmx<num>sim'), ('wwwldewcomsubs<num>win<num>ppmx<num>sim', 'subscriber'), ('subscriber', 'selected'), ('receive', 'bonus'), ('bonus', 'get'), ('get', 'delivered'), ('delivered', 'door'), ('door', 'text'), ('word', '<num>'), ('claim', '<num>pmsg'), ('<num>pmsg', 'exp'), ('exp', 'aprnew'), ('aprnew', 'voicemail'), ('call', '<num>nokia'), ('<num>nokia', 'tone'), ('<num>', 'tone'), ('tone', 'free'), ('free', 'get'), ('get', 'latin'), ('latin', 'tell'), ('tell', 'friend'), ('friend', 'peptone'), ('peptone', 'reply'), ('reply', 'infowinner'), ('infowinner', 'specially'), ('claim', '<num>reply'), ('<num>reply', 'name'), ('name', 'address'), ('address', 'receive'), ('receive', 'post'), ('post', 'week'), ('week', 'completely'), ('completely', 'free'), ('free', 'accommodation'), ('accommodation', 'various'), ('various', 'global'), ('global', 'location'), ('location', 'wwwphb<num>com'), ('wwwphb<num>com', 'ph<num>pfree'), ('ph<num>pfree', 'entry'), ('weekly', 'comp'), ('comp', 'send'), ('send', 'word'), ('word', 'enter'), ('enter', '<num>'), ('<num>', 'wwwtextcompcom'), ('wwwtextcompcom', 'care'), ('care', '<num>please'), ('message', 'waitinghungry'), ('waitinghungry', 'gay'), ('gay', 'guy'), ('guy', 'feeling'), ('feeling', 'hungry'), ('hungry', 'call'), ('<num>', 'spain'), ('spain', 'stop'), ('<num>', 'spainget'), ('spainget', 'phone'), ('phone', 'wanna'), ('wanna', 'chat'), ('chat', 'set'), ('set', 'meet'), ('meet', 'call'), ('<num>', 'cum'), ('cum', 'moro'), ('moro', 'lug'), ('lug', 'jane'), ('jane', 'xxx'), ('xxx', 'calls£<num>minmoremobsemspobox<num>po<num>wanetwork'), ('calls£<num>minmoremobsemspobox<num>po<num>wanetwork', 'operator'), ('operator', 'service'), ('service', 'free'), ('free', 'visit'), ('visit', '<num>bizenjoy'), ('<num>bizenjoy', 'hamster'), ('hamster', 'hidebound'), ('hidebound', 'gold'), ('gold', 'club'), ('club', 'credit'), ('credit', 'new'), ('new', 'videosounds<num>'), ('videosounds<num>', 'logosmusicnews'), ('logosmusicnews', 'get'), ('get', 'fun'), ('fun', 'jamstercouk'), ('jamstercouk', 'help'), ('call', '<num>get'), ('<num>get', 'lion'), ('lion', 'england'), ('england', 'tone'), ('reply', 'lion'), ('lion', 'mono'), ('mono', 'lion'), ('lion', 'poly'), ('poly', 'wwwringtonescouk'), ('wwwringtonescouk', 'original'), ('original', 'best'), ('best', 'tone'), ('tone', 'gap'), ('gap', 'network'), ('network', 'operator'), ('operator', 'rate'), ('rate', 'applywin'), ('applywin', 'newest'), ('newest', 'harry'), ('harry', 'potter'), ('potter', 'order'), ('order', 'phoenix'), ('phoenix', 'book'), ('book', 'reply'), ('reply', 'harry'), ('harry', 'answer'), ('answer', 'question'), ('question', 'chance'), ('chance', 'first'), ('first', 'among'), ('among', 'readerbalance'), ('readerbalance', '£<num>'), ('£<num>', 'next'), ('next', 'question'), ('question', 'sang'), ('sang', 'uptown'), ('uptown', 'girl'), ('girl', 'answer'), ('answer', 'text'), ('answer', '<num>'), ('<num>', 'good'), ('good', 'luckfreeway'), ('luckfreeway', 'sexy'), ('sexy', 'george'), ('george', 'day'), ('day', 'pic'), ('jordan', 'pic'), ('pic', '<num>'), ('<num>', 'done'), ('miss', 'every'), ('every', 'saucy'), ('saucy', 'celebs'), ('celebs', 'pic'), ('pic', 'pocketbabecouk'), ('pocketbabecouk', '<num>'), ('<num>', 'hawkhot'), ('hawkhot', 'live'), ('live', 'fantasy'), ('fantasy', 'call'), ('per', 'min'), ('min', 'ltd'), ('ltd', 'box'), ('<num>', 'croydon'), ('croydon', 'cry'), ('cry', '<num>kbear'), ('<num>kbear', 'pic'), ('pic', 'nick'), ('nick', 'tom'), ('tom', 'pete'), ('pete', 'dick'), ('dick', 'fact'), ('fact', 'type'), ('type', 'try'), ('try', 'gay'), ('chat', 'photo'), ('photo', 'upload'), ('upload', 'call'), ('call', '<num>new'), ('<num>new', 'mobile'), ('output', '<num>gbpmtmsg<num>'), ('<num>gbpmtmsg<num>', 'auctiondouble'), ('auctiondouble', 'mind'), ('mind', 'double'), ('double', 'text'), ('text', 'price'), ('price', 'inferential'), ('inferential', 'latest'), ('latest', 'orange'), ('orange', 'bluetooth'), ('bluetooth', 'mobile'), ('mobile', 'call'), ('mobileupd<num>', 'latest'), ('latest', 'offer'), ('offer', '<num>'), ('<num>', 'call<num>optoutlf<num>nokia'), ('call<num>optoutlf<num>nokia', 'tone'), ('infourgent', 'important'), ('surprise', 'awaitingdear'), ('awaitingdear', 'invited'), ('<num>', '<num>pmsgrcvdhgsuite<num>landsroww<num>j<num>hl'), ('<num>pmsgrcvdhgsuite<num>landsroww<num>j<num>hl', 'lencongratulation'), ('lencongratulation', 'awarded'), ('tic', 'wwwldewcom'), ('wwwldewcom', 'win<num>ppmx<num>age<num>sale'), ('win<num>ppmx<num>age<num>sale', 'arsenal'), ('arsenal', 'dartboard'), ('dartboard', 'good'), ('good', 'condition'), ('condition', 'double'), ('double', 'treblefree'), ('treblefree', 'week'), ('week', 'entry'), ('entry', 'texted'), ('texted', 'chance'), ('win', 'page'), ('ipod', '£<num>'), ('cash', 'every'), ('text', 'pod'), ('pod', '<num>'), ('tic', 'wwwtextpodnet'), ('wwwtextpodnet', 'custard'), ('custard', '<num>registered'), ('<num>registered', 'option'), ('option', 'subscriber'), ('correct', '<num>'), ('<num>', 'whats'), ('whats', 'bic'), ('bic', 'chartsummer'), ('chartsummer', 'finally'), ('finally', 'fancy'), ('fancy', 'chat'), ('chat', 'flirt'), ('flirt', 'sexy'), ('sexy', 'single'), ('single', 'area'), ('area', 'get'), ('get', 'matched'), ('matched', 'reply'), ('reply', 'summer'), ('summer', 'free'), ('free', 'join'), ('join', 'output'), ('output', 'text'), ('stop', 'help<num>claire'), ('help<num>claire', 'born'), ('born', 'time'), ('time', 'alone'), ('alone', 'wanna'), ('wanna', 'cum'), ('cum', 'unite'), ('unite', 'chat'), ('<num>', 'hope'), ('hope', 'lug'), ('lug', 'claire'), ('claire', 'xxx'), ('xxx', 'calls£<num>minmoremobsemspobox<num>po<num>wabought'), ('calls£<num>minmoremobsemspobox<num>po<num>wabought', 'one'), ('one', 'ringtone'), ('ringtone', 'getting'), ('getting', 'text'), ('text', 'costing'), ('costing', 'pound'), ('pound', 'offering'), ('offering', 'tone'), ('tone', 'etc<num>'), ('etc<num>', 'urgent'), ('mobile', '<num>xxxxxxxxx'), ('<num>xxxxxxxxx', '£<num>'), ('attempt', 'reach'), ('reach', 'call'), ('<num>', 'asap<num>'), ('asap<num>', 'guaranteed'), ('guaranteed', 'latest'), ('text', 'recollect'), ('recollect', 'no<num>'), ('no<num>', 'tell'), ('tell', 'nyasa'), ('nyasa', '<num>pmt'), ('<num>pmt', 'msgrcvd<num>lucy'), ('msgrcvd<num>lucy', 'hubby'), ('hubby', 'meeting'), ('meeting', 'day'), ('day', 'fri'), ('fri', 'alone'), ('alone', 'hotel'), ('hotel', 'fancy'), ('fancy', 'cumin'), ('cumin', 'plus'), ('plus', 'leave'), ('leave', 'mag'), ('mag', 'day'), ('day', '<num>'), ('<num>', 'lucy'), ('lucy', 'calls£<num>minmobsmorelkpobox<num>hp<num>flaccount'), ('calls£<num>minmobsmorelkpobox<num>hp<num>flaccount', 'credited'), ('credited', 'free'), ('activate', 'text'), ('word', 'credit'), ('credit', '<num>'), ('<num>', 'www<num>bizsims'), ('www<num>bizsims', 'energy'), ('energy', 'high'), ('high', 'may'), ('may', 'know'), ('know', 'channel'), ('channel', 'day'), ('day', 'leadership'), ('leadership', 'skill'), ('skill', 'strong'), ('strong', 'psychic'), ('psychic', 'reply'), ('reply', 'question'), ('question', 'end'), ('reply', 'endhot'), ('endhot', 'live'), ('cry', '<num>'), ('rate', 'callthanks'), ('callthanks', 'vote'), ('vote', 'sing'), ('sing', 'along'), ('along', 'star'), ('star', 'karaoke'), ('karaoke', 'mobile'), ('free', 'link'), ('link', 'reply'), ('reply', 'singbrand'), ('singbrand', 'new'), ('new', 'mobile'), ('mobile', 'music'), ('music', 'service'), ('service', 'live'), ('live', 'free'), ('free', 'music'), ('music', 'player'), ('player', 'arrive'), ('arrive', 'shortly'), ('shortly', 'install'), ('install', 'phone'), ('phone', 'browse'), ('browse', 'content'), ('content', 'top'), ('top', 'artisturgent'), ('artisturgent', 'mobile'), ('<num>', 'box<num>qu'), ('box<num>qu', 'national'), ('national', 'ratenokia'), ('ratenokia', '<num>i'), ('<num>i', 'get'), ('get', 'win'), ('win', 'free'), ('free', 'auction'), ('auction', 'take'), ('part', 'send'), ('send', 'nokia'), ('hgsuite<num>lands', 'roww<num>jhlhello'), ('roww<num>jhlhello', 'orange'), ('orange', 'month'), ('free', 'access'), ('access', 'game'), ('game', 'news'), ('news', 'sport'), ('sport', 'plus'), ('plus', 'free'), ('text', 'photo'), ('photo', 'message'), ('yes', 'term'), ('term', 'apply'), ('apply', 'wwworangecoukowcasablanca'), ('wwworangecoukowcasablanca', 'currently'), ('hgsuite<num>lands', 'roww<num>j<num>hlsims'), ('roww<num>j<num>hlsims', 'auction'), ('auction', 'brand'), ('brand', 'new'), ('new', 'nokia'), ('<num>', 'auction'), ('auction', 'today'), ('today', 'auction'), ('auction', 'free'), ('join', 'take'), ('part', 'text'), ('hgsuite<num>lands', 'roww<num>j<num>hlprivate'), ('roww<num>j<num>hlprivate', '<num>'), ('expires', '<num>registered'), ('<num>registered', 'subscriber'), ('correct', 'next'), ('next', 'olympics'), ('olympics', 'text'), ('text', '<num>urgent'), ('<num>urgent', 'mobile'), ('valid', 'ppmraking'), ('ppmraking', 'pro'), ('pro', 'video'), ('video', 'club'), ('club', 'need'), ('need', 'help'), ('help', 'inforingtonekingcouk'), ('inforingtonekingcouk', 'call'), ('must', 'club'), ('credit', 'redeemable'), ('redeemable', 'wwwringtonekingcouk'), ('wwwringtonekingcouk', 'enjoysecret'), ('enjoysecret', 'admirer'), ('specifically', '<num>free'), ('<num>free', 'text'), ('text', 'mug'), ('mug', 'text'), ('<num>', 'credit'), ('credit', 'accountselected'), ('accountselected', 'stay'), ('stay', 'top'), ('top', 'british'), ('british', 'hotel'), ('hotel', 'nothing'), ('nothing', 'holiday'), ('holiday', 'worth'), ('call', 'london'), ('london', '<num>'), ('<num>', 'swisseerie'), ('swisseerie', 'nokia'), ('reply', 'tone'), ('tone', 'title'), ('title', '<num>'), ('leg', 'tone'), ('tone', 'dracula'), ('dracula', '<num>'), ('<num>', 'title'), ('title', 'ghost'), ('ghost', 'addams'), ('addams', 'monster'), ('monster', 'exorcist'), ('exorcist', 'twilight'), ('twilight', 'wwwgetzedcouk'), ('wwwgetzedcouk', 'pobox<num>w<num>wqnetwork'), ('pobox<num>w<num>wqnetwork', 'allow'), ('allow', 'company'), ('company', 'bill'), ('bill', 'sims'), ('sims', 'responsible'), ('responsible', 'supplier'), ('supplier', 'shop'), ('shop', 'give'), ('give', 'guarantee'), ('guarantee', 'sellfreemsgfeelin'), ('sellfreemsgfeelin', 'kinda'), ('kinda', 'hope'), ('hope', 'like'), ('like', 'keep'), ('keep', 'company'), ('company', 'got'), ('got', 'cam'), ('cam', 'mob'), ('mob', 'wanna'), ('wanna', 'pitt'), ('pitt', 'reply'), ('date', '<num>'), ('<num>', 'msg<num>p'), ('msg<num>p', 'prev'), ('prev', 'help'), ('stop', '<num>chance'), ('<num>chance', 'win'), ('text', 'action'), ('action', '<num>'), ('<num>', 'wwwmovietriviatv'), ('wwwmovietriviatv', 'custard'), ('<num>', '<num>x<num>pwkagent'), ('<num>x<num>pwkagent', 'attempt'), ('mobilesvary', 'maxlooking'), ('maxlooking', 'saucy'), ('saucy', 'daytime'), ('daytime', 'fun'), ('fun', 'win'), ('win', 'busty'), ('busty', 'married'), ('married', 'woman'), ('woman', 'free'), ('free', 'next'), ('next', 'week'), ('week', 'chat'), ('chat', 'sort'), ('sort', 'time'), ('time', '<num>'), ('<num>', 'janine'), ('janine', 'calls£<num>minmobsmorelkpobox<num>hp<num>flurgent'), ('calls£<num>minmobsmorelkpobox<num>hp<num>flurgent', 'trying'), ('claim', 'validmonthly'), ('validmonthly', 'password'), ('password', 'moscow'), ('moscow', '<num>'), ('<num>', 'use'), ('use', 'phonetoday'), ('phonetoday', 'danone'), ('ending', '<num>my'), ('<num>my', 'last'), ('last', 'four'), ('four', 'digit'), ('digit', 'selected'), ('£<num>', 'awardfree'), ('awardfree', 'top'), ('top', 'ringtone'), ('ringtone', 'sub'), ('sub', 'weekly'), ('weekly', 'ringtones'), ('ringtones', 'week'), ('week', 'resend'), ('resend', 'supply'), ('week', 'sms<num>sunshine'), ('sms<num>sunshine', 'quiz'), ('£<num>', 'tyronefree'), ('tyronefree', 'mag'), ('mag', 'sorry'), ('sorry', 'service'), ('service', 'ordered'), ('ordered', '<num>'), ('<num>', 'could'), ('could', 'delivered'), ('delivered', 'sufficient'), ('sufficient', 'credit'), ('credit', 'please'), ('please', 'top'), ('top', 'receive'), ('receive', 'servicehard'), ('servicehard', 'live'), ('live', 'chat'), ('chat', 'spain'), ('spain', 'choose'), ('choose', 'girl'), ('girl', 'connect'), ('connect', 'live'), ('live', 'call'), ('<num>', 'cheap'), ('cheap', 'chat'), ('chat', 'biggest'), ('biggest', 'live'), ('live', 'service'), ('service', 'vul'), ('vul', 'bcm<num>wc<num>n<num>xxwow'), ('bcm<num>wc<num>n<num>xxwow', 'boy'), ('boy', 'back'), ('back', 'take'), ('take', '<num>'), ('<num>', 'tour'), ('tour', 'win'), ('win', 'via'), ('via', 'ticket'), ('ticket', 'prebook'), ('prebook', 'via'), ('via', 'club'), ('club', 'text'), ('club', '<num>'), ('<num>', 'trackmarque'), ('trackmarque', 'ltd'), ('ltd', 'infovipclub<num>umandy'), ('infovipclub<num>umandy', 'sullivan'), ('sullivan', 'calling'), ('calling', 'hottie'), ('hottie', 'chosen'), ('chosen', 'receive'), ('£<num>', 'easter'), ('easter', 'prize'), ('prize', 'displease'), ('displease', 'telephone'), ('telephone', '<num>'), ('prize', 'transferred'), ('transferred', 'someone'), ('someone', 'elsegoing'), ('elsegoing', 'bahamas'), ('bahamas', 'callfreefone'), ('callfreefone', '<num>'), ('<num>', 'speak'), ('claim', 'either'), ('either', 'bahamas'), ('bahamas', 'cruise'), ('cruise', 'of£<num>'), ('of£<num>', 'cash'), ('cash', 'opt'), ('opt', 'text'), ('text', '<num>someone'), ('<num>someone', 'contacted'), ('fancy', 'youth'), ('youth', 'find'), ('<num>', 'pobox<num>n<num>tf<num><num>'), ('pobox<num>n<num>tf<num><num>', 'igbo'), ('igbo', 'customer'), ('customer', 'loyalty'), ('mobile', 'txtauctiontxt'), ('txtauctiontxt', 'restart'), ('restart', 'no<num>'), ('no<num>', 'get'), ('get', 'nowtsims'), ('nowtsims', 'auction'), ('auction', 'nokia'), ('nokia', '<num>i'), ('hgsuite<num>lands', 'roww<num>jhlcall'), ('roww<num>jhlcall', 'freephone'), ('<num>', '<num>buy'), ('<num>buy', 'space'), ('space', 'invader'), ('invader', 'chance'), ('win', 'orig'), ('orig', 'arcade'), ('arcade', 'game'), ('game', 'console'), ('console', 'press'), ('press', 'game'), ('game', 'arcade'), ('arcade', 'std'), ('std', 'charge'), ('charge', 'see'), ('see', 'o<num>coukgames'), ('o<num>coukgames', 'term'), ('term', 'setting'), ('setting', 'purchaseloan'), ('purchaseloan', 'purpose'), ('back', 'helpbig'), ('helpbig', 'brother'), ('brother', 'alert'), ('alert', 'computer'), ('computer', 'selected'), ('selected', 'ask'), ('ask', 'cash'), ('cash', 'voucher'), ('box', 'cro<num>'), ('cro<num>', 'landline'), ('landline', 'cost'), ('mobile', 'varywin'), ('varywin', 'winner'), ('winner', 'foley'), ('foley', 'ipod'), ('ipod', 'exciting'), ('exciting', 'prize'), ('prize', 'soon'), ('soon', 'keep'), ('keep', 'eye'), ('eye', 'mobile'), ('mobile', 'visit'), ('visit', 'wwwwin<num>couktoday'), ('wwwwin<num>couktoday', 'soda'), ('rate', 'apphottest'), ('apphottest', 'pic'), ('pic', 'straight'), ('straight', 'phone'), ('phone', 'see'), ('see', 'getting'), ('getting', 'wet'), ('wet', 'wanting'), ('wanting', 'xxx'), ('xxx', 'text'), ('text', 'pic'), ('text', 'cost'), ('cost', 'textoperator'), ('textoperator', 'gaga'), ('gaga', 'xxxhack'), ('xxxhack', 'chat'), ('chat', 'get'), ('get', 'backdoor'), ('backdoor', 'entry'), ('entry', 'chat'), ('chat', 'room'), ('room', 'fraction'), ('fraction', 'cost'), ('cost', 'reply'), ('reply', 'neon'), ('neon', 'call'), ('<num>', 'subscribe'), ('subscribe', 'bpm'), ('bpm', 'box'), ('<num>', 'len'), ('len', 'wc<num>n<num>xxfree'), ('wc<num>n<num>xxfree', 'nokia'), ('motorola', 'unto'), ('unto', 'month'), ('month', 'price'), ('inferential', 'free'), ('free', 'net'), ('net', 'mins<num>txtmth'), ('mins<num>txtmth', 'free'), ('free', 'booth'), ('booth', 'call'), ('call', '<num>optoutd<num>wvtime'), ('<num>optoutd<num>wvtime', 'tried'), ('tried', 'contact'), ('contact', 'pound'), ('pound', 'prize'), ('claim', 'easy'), ('easy', 'call'), ('min', 'btnationalrateguaranteed'), ('btnationalrateguaranteed', '£<num>'), ('service', 'representativewould'), ('representativewould', 'like'), ('like', 'see'), ('see', 'xxx'), ('xxx', 'pic'), ('pic', 'hot'), ('hot', 'nearly'), ('nearly', 'bannedhmm'), ('bannedhmm', 'bonus'), ('<num>', 'infowww<num>percentrealcomsecret'), ('infowww<num>percentrealcomsecret', 'admirer'), ('specifically', '<num>dear'), ('<num>dear', '<num>xxxxxxx'), ('<num>xxxxxxx', 'invited'), ('<num>pmsgrcvdhgsuite<num>landsroww<num>j<num>hl', 'lenurgent'), ('lenurgent', 'please'), ('landline', 'alta'), ('alta', 'complimentary'), ('cw<num>wx', 'ppmcall'), ('ppmcall', '<num>'), ('<num>', 'listen'), ('listen', 'extreme'), ('extreme', 'dirty'), ('dirty', 'live'), ('chat', 'going'), ('going', 'office'), ('office', 'right'), ('right', 'total'), ('total', 'privacy'), ('privacy', 'one'), ('one', 'know'), ('know', 'sic'), ('sic', 'listening'), ('listening', 'min'), ('min', 'jump'), ('jump', '<num>freeman'), ('<num>freeman', 'hey'), ('hey', 'got'), ('got', 'videodisc'), ('videodisc', 'jones'), ('jones', 'reply'), ('reply', 'wild'), ('wild', 'text'), ('text', 'ill'), ('ill', 'send'), ('send', 'pic'), ('pic', 'hurry'), ('hurry', 'bored'), ('bored', 'work'), ('work', 'xxx'), ('xxx', '<num>prcvd'), ('<num>prcvd', 'shortstopfree'), ('shortstopfree', 'entry'), ('entry', 'weekly'), ('comp', 'chance'), ('win', 'ipod'), ('ipod', 'text'), ('get', 'entry'), ('entry', 'std'), ('std', 'text'), ('apply', '<num>'), ('<num>', 'detailnew'), ('detailnew', 'textbuddy'), ('name', '<num>'), ('<num>', 'rpm'), ('rpm', 'stop'), ('stop', 'calcall'), ('calcall', '<num>'), ('<num>', 'tell'), ('tell', 'call'), ('prize', 'enter'), ('enter', 'mobile'), ('mobile', 'personal'), ('personal', 'detail'), ('detail', 'prompt'), ('prompt', 'carefulfree'), ('carefulfree', 'week'), ('text', 'ipod'), ('ipod', '<num>'), ('custard', '<num>people'), ('<num>people', 'dogging'), ('dogging', 'area'), ('area', 'call'), ('join', 'like'), ('like', 'minded'), ('minded', 'guy'), ('guy', 'arrange'), ('arrange', 'evening'), ('evening', 'a£<num>'), ('a£<num>', 'milan'), ('milan', 'ls<num>bbwell'), ('ls<num>bbwell', 'done'), ('done', 'costa'), ('costa', 'del'), ('del', 'sol'), ('sol', 'holiday'), ('£<num>', 'await'), ('collection', 'call'), ('claim', 'see'), ('see', 'pobox<num>'), ('pobox<num>', 'stockport'), ('stockport', 'sketch'), ('sketch', 'cost£<num>pm'), ('cost£<num>pm', 'maximinguess'), ('maximinguess', 'somebody'), ('datebox<num>essexcm<num>xn', '<num>pmin<num>'), ('<num>pmin<num>', 'free'), ('message', 'valid'), ('valid', 'december'), ('december', '<num>guaranteed'), ('<num>guaranteed', '£<num>'), ('<num>', 'popreply'), ('popreply', 'win'), ('weekly', '<num>'), ('<num>', 'fife'), ('fife', 'world'), ('world', 'cup'), ('cup', 'held'), ('held', 'send'), ('<num>', 'end'), ('end', 'serviceurgent'), ('serviceurgent', 'please'), ('cw<num>wx', 'ppmfree'), ('ppmfree', 'tone'), ('tone', 'hope'), ('hope', 'enjoyed'), ('enjoyed', 'new'), ('new', 'content'), ('content', 'text'), ('<num>', 'unsubscribe'), ('unsubscribe', 'help<num>p'), ('help<num>p', 'provided'), ('provided', 'tones<num>youcouktheory'), ('tones<num>youcouktheory', 'cohere'), ('cohere', 'come'), ('come', 'new'), ('new', 'selection'), ('selection', 'hot'), ('hot', 'downloads'), ('downloads', 'member'), ('member', 'get'), ('get', 'free'), ('free', 'click'), ('click', 'open'), ('open', 'next'), ('next', 'link'), ('link', 'sent'), ('sent', 'onegreat'), ('onegreat', 'news'), ('news', 'call'), ('claim', 'guaranteed'), ('gift', 'speak'), ('live', 'operatorwin'), ('operatorwin', '£<num>'), ('£<num>', 'music'), ('music', 'gift'), ('voucher', 'every'), ('week', 'starting'), ('starting', 'text'), ('word', 'draw'), ('draw', '<num>'), ('wwwldewcom', 'skillgame<num>winaweek'), ('skillgame<num>winaweek', 'age<num>ppermesssubscriptionpath'), ('age<num>ppermesssubscriptionpath', 'half'), ('update', 'or<num>stoptxtcall'), ('or<num>stoptxtcall', '<num>'), ('use', 'mind'), ('mind', 'call'), ('call', 'cast'), ('cast', 'spain'), ('spain', 'mob'), ('mob', 'vary'), ('vary', 'service'), ('service', 'provided'), ('provided', 'gbp<num>month'), ('gbp<num>month', 'box<num>m<num>'), ('box<num>m<num>', 'stop'), ('stop', 'ageurgent'), ('ageurgent', 'mobile'), ('mobile', '£<num>'), ('<num>', 'asap'), ('asap', 'box<num>n<num>qp'), ('box<num>n<num>qp', 'ppmeerie'), ('ppmeerie', 'nokia'), ('wwwgetzedcouk', 'pobox<num>w<num>wqsexy'), ('pobox<num>w<num>wqsexy', 'single'), ('single', 'waiting'), ('waiting', 'text'), ('text', 'age'), ('age', 'followed'), ('followed', 'gender'), ('gender', 'wither'), ('wither', 'golf'), ('golf', 'gay'), ('gay', 'men'), ('men', 'text'), ('followed', 'eggfreeman'), ('eggfreeman', 'claim'), ('claim', 'sims'), ('sims', 'messagestext'), ('messagestext', '<num>'), ('<num>', 'nowise'), ('nowise', 'web<num>mobile'), ('web<num>mobile', 'mate'), ('mate', 'etc'), ('etc', 'join'), ('join', 'txt<num>com'), ('txt<num>com', '<num>pwk'), ('<num>pwk', 'box'), ('box', 'law'), ('law', 'remove'), ('text', 'stop<num>'), ('stop<num>', 'freeringtonereply'), ('freeringtonereply', 'realwell'), ('realwell', 'done'), ('done', 'england'), ('england', 'get'), ('get', 'official'), ('official', 'poly'), ('poly', 'ringtone'), ('ringtone', 'colour'), ('colour', 'flag'), ('flag', 'yer'), ('yer', 'mobile'), ('mobile', 'text'), ('tone', 'flag'), ('flag', '<num>'), ('<num>', 'output'), ('text', 'eng'), ('eng', 'stop'), ('stop', 'box<num>'), ('box<num>', 'w<num>wx'), ('w<num>wx', '£<num>final'), ('£<num>final', 'chance'), ('£<num>', 'subprivate'), ('subprivate', '<num>'), ('<num>', 'expiressims'), ('expiressims', 'service'), ('service', 'inclusive'), ('inclusive', 'text'), ('login', 'unsubscribe'), ('charge', 'help<num>'), ('help<num>', 'boxfreeway'), ('boxfreeway', 'sexy'), ('<num>', 'hawkwinner'), ('hawkwinner', 'specially'), ('award', 'speak'), ('call', '<num>am<num>pm'), ('<num>am<num>pm', 'costsunshine'), ('costsunshine', 'hols'), ('hols', 'claim'), ('claim', 'med'), ('med', 'holiday'), ('holiday', 'send'), ('send', 'stamped'), ('stamped', 'self'), ('self', 'address'), ('address', 'envelope'), ('envelope', 'drink'), ('drink', 'box'), ('box', 'bray'), ('bray', 'wicklow'), ('wicklow', 'eire'), ('eire', 'quiz'), ('quiz', 'start'), ('start', 'saturday'), ('saturday', 'sub'), ('sub', 'stopwin'), ('stopwin', '£<num>'), ('tic', 'wwwidewcom'), ('wwwidewcom', 'spillage'), ('spillage', '<num>winaweek'), ('<num>winaweek', 'age'), ('age', '<num>ppermesssubscriptioncongratulation'), ('<num>ppermesssubscriptioncongratulation', 'week'), ('<num>', 'ppmblu'), ('ppmblu', 'voucher'), ('voucher', '<num>'), ('<num>', 'mass'), ('mass', 'log'), ('onto', 'wwwb<num>utelecom'), ('wwwb<num>utelecom', 'discount'), ('discount', 'credit'), ('credit', 'opt'), ('stop', 'customer'), ('customer', 'care'), ('care', 'call'), ('call', '<num>freeman'), ('hey', 'buffy'), ('buffy', 'love'), ('love', 'satisfy'), ('satisfy', 'men'), ('men', 'home'), ('home', 'alone'), ('alone', 'feeling'), ('feeling', 'randy'), ('randy', 'reply'), ('reply', 'pix'), ('pix', 'lynn'), ('lynn', 'help<num>p'), ('help<num>p', 'mag'), ('mag', 'send'), ('stop', 'stop'), ('stop', 'titsunshine'), ('titsunshine', 'hols'), ('sub', 'stopfree'), ('stopfree', 'week'), ('mate', 'zed'), ('zed', 'box'), ('wow', 'norm<num>ptoneshop'), ('norm<num>ptoneshop', 'till'), ('mobile', 'varyfree'), ('varyfree', 'camera'), ('phone', 'inferential'), ('inferential', 'month'), ('month', 'cross'), ('cross', 'new'), ('new', 'mind'), ('mind', 'price'), ('price', 'text'), ('text', 'bundle'), ('bundle', 'deal'), ('deal', 'also'), ('also', 'able'), ('able', 'call'), ('<num>', 'call<num>optoutjurgent'), ('call<num>optoutjurgent', 'mobile'), ('box<num>n<num>qp', 'ppmurgent'), ('ppmurgent', 'costa'), ('cost£<num>pm', 'maximinguaranteed'), ('maximinguaranteed', '£<num>'), ('<num>am<num>pm', 'costthanks'), ('costthanks', 'ringtone'), ('order', 'ref'), ('ref', 'number'), ('number', 'know'), ('know', 'mobile'), ('charged', '£<num>'), ('£<num>', 'tone'), ('tone', 'arrive'), ('arrive', 'please'), ('service', '<num>babe'), ('<num>babe', 'gotten'), ('gotten', 'bout'), ('bout', 'scammer'), ('scammer', 'getting'), ('getting', 'smartthough'), ('smartthough', 'regular'), ('regular', 'danone'), ('danone', 'respond'), ('respond', 'get'), ('get', 'prem'), ('prem', 'rate'), ('rate', 'subscription'), ('subscription', 'used'), ('used', 'also'), ('also', 'bewareback'), ('bewareback', 'work'), ('work', 'morrow'), ('morrow', 'half'), ('half', 'term'), ('term', 'unite'), ('unite', 'sexy'), ('sexy', 'passion'), ('passion', 'back'), ('back', 'chat'), ('<num>', 'lug'), ('lug', 'dena'), ('dena', 'call'), ('call', '£<num>minmobsmorelkpobox<num>hp<num>flthanks'), ('£<num>minmobsmorelkpobox<num>hp<num>flthanks', 'ringtone'), ('number', 'mobile'), ('service', '<num>splashmobile'), ('<num>splashmobile', 'choose'), ('choose', '<num>'), ('<num>', 'gre'), ('gre', 'tone'), ('tone', 'subscription'), ('subscription', 'service'), ('service', 'weekly'), ('weekly', 'tone'), ('tone', 'costing'), ('costing', 'one'), ('one', 'credit'), ('credit', 'kick'), ('kick', 'back'), ('back', 'enjoyheard'), ('enjoyheard', 'call'), ('call', 'rude'), ('rude', 'chat'), ('chat', 'private'), ('private', 'line'), ('line', '<num>'), ('cum', 'wan'), ('wan', 'pic'), ('pic', 'getting'), ('getting', 'shagged'), ('shagged', 'text'), ('text', 'pix'), ('pix', '<num>'), ('<num>', 'send'), ('send', 'send'), ('<num>', 'sam'), ('sam', 'xxxforwarded'), ('xxxforwarded', '<num>free'), ('<num>free', 'entry'), ('<num>', 'wwwtextcompcom<num>'), ('wwwtextcompcom<num>', '<num>'), ('<num>', 'lost'), ('lost', 'pound'), ('pound', 'helpmobile'), ('helpmobile', 'month'), ('month', 'update'), ('free', 'orange'), ('orange', 'latest'), ('mobile', 'unlimited'), ('unlimited', 'weekend'), ('weekend', 'call'), ('call', 'call'), ('mobile', 'updo'), ('updo', 'freephone'), ('<num>', 'stopnew'), ('stopnew', 'message'), ('message', 'please'), ('call', '<num>forwarded'), ('<num>forwarded', '<num>hi'), ('<num>hi', 'mailbox'), ('mailbox', 'messaging'), ('messaging', 'sims'), ('sims', 'alert'), ('alert', 'message'), ('message', 'match'), ('back', '<num>'), ('<num>', 'retrieve'), ('retrieve', 'message'), ('message', 'matchcongrats'), ('matchcongrats', 'year'), ('done', 'misswin'), ('misswin', 'year'), ('tic', 'wwwldewcomsubs<num>win<num>ppmx<num>mob'), ('wwwldewcomsubs<num>win<num>ppmx<num>mob', 'pub'), ('pub', 'quintin'), ('quintin', '£<num>'), ('£<num>', 'high'), ('high', 'street'), ('street', 'prize'), ('prize', 'know'), ('know', 'new'), ('new', 'duchess'), ('duchess', 'cornwall'), ('cornwall', 'text'), ('first', 'name'), ('name', '<num>unsub'), ('<num>unsub', 'stop'), ('stop', '£<num>'), ('£<num>', '<num>'), ('<num>', 'arrownokia'), ('arrownokia', '<num>i'), ('hgsuite<num>lands', 'roww<num>jhlcongratulation'), ('roww<num>jhlcongratulation', 'thanks'), ('thanks', 'good'), ('good', 'friend'), ('friend', '£<num>'), ('£<num>', 'xmas'), ('xmas', 'prize'), ('minute', 'btnationalratetddnewsletteremc<num>couk'), ('btnationalratetddnewsletteremc<num>couk', 'game'), ('game', 'thedailydraw'), ('thedailydraw', 'dear'), ('dear', 'helen'), ('helen', 'dozen'), ('dozen', 'free'), ('free', 'game'), ('game', 'great'), ('great', 'prizeswithurgent'), ('prizeswithurgent', 'mobile'), ('asap', 'box'), ('box', '<num>n<num>qp'), ('<num>n<num>qp', 'ppmdouble'), ('ppmdouble', 'mind'), ('tit', 'orange'), ('orange', 'price'), ('inferential', 'motorola'), ('sonyericsson', 'booth'), ('booth', 'freesia'), ('freesia', 'free'), ('<num>', 'or<num>optouthv<num>ddownload'), ('or<num>optouthv<num>ddownload', 'many'), ('many', 'ringtones'), ('ringtones', 'like'), ('like', 'restriction'), ('restriction', '<num>'), ('<num>', 'choose'), ('choose', 'even'), ('even', 'send'), ('send', 'buddy'), ('buddy', 'text'), ('text', 'sir'), ('sir', '<num>please'), ('message', 'waitingspook'), ('waitingspook', 'mob'), ('mob', 'halloween'), ('halloween', 'collection'), ('collection', 'logo'), ('logo', 'pic'), ('pic', 'message'), ('message', 'plus'), ('free', 'eerie'), ('eerie', 'tone'), ('tone', 'text'), ('text', 'card'), ('card', 'spook'), ('spook', '<num>'), ('<num>', 'zed'), ('zed', '<num>p'), ('per', 'logicfantasy'), ('logicfantasy', 'football'), ('football', 'back'), ('back', 'sky'), ('sky', 'gamester'), ('gamester', 'sky'), ('sky', 'active'), ('active', 'play'), ('play', '£<num>k'), ('£<num>k', 'dream'), ('dream', 'team'), ('team', 'scoring'), ('scoring', 'start'), ('saturday', 'register'), ('register', 'noisy'), ('noisy', 'opt'), ('opt', '<num>tone'), ('<num>tone', 'club'), ('club', 'sub'), ('sub', 'expired'), ('expired', 'result'), ('result', 'reply'), ('reply', 'mono'), ('mono', 'mono'), ('mono', 'poly'), ('poly', 'polys'), ('polys', 'weekly'), ('weekly', 'per'), ('stop', 'mag'), ('mag', 'free'), ('free', 'stream'), ('stream', '<num>xmas'), ('<num>xmas', 'prize'), ('prize', 'draw'), ('draw', 'trying'), ('line', 'validyes'), ('validyes', 'place'), ('place', 'town'), ('town', 'meet'), ('meet', 'exciting'), ('exciting', 'adult'), ('adult', 'single'), ('single', 'text'), ('<num>', '<num>pmsgsomeone'), ('<num>pmsgsomeone', 'contacted'), ('phone', 'becausethey'), ('becausethey', 'fancy'), ('<num>', 'boxbabe'), ('boxbabe', 'want'), ('want', 'done'), ('done', 'baby'), ('baby', 'nasty'), ('nasty', 'thing'), ('thing', 'filthyguys'), ('filthyguys', 'fancy'), ('fancy', 'rude'), ('rude', 'time'), ('time', 'sexy'), ('sexy', 'bitch'), ('bitch', 'hard'), ('hard', 'text'), ('xxx', 'slo<num>msgsknow'), ('slo<num>msgsknow', 'know'), ('len', 'yearsims'), ('yearsims', 'service'), ('plus', 'gotta'), ('gotta', 'wwwcomuknet'), ('<num>', 'comuk<num>cm<num>'), ('comuk<num>cm<num>', 'maevalentine'), ('maevalentine', 'day'), ('rcd', 'custcare<num>guess'), ('custcare<num>guess', 'first'), ('first', 'time'), ('time', 'created'), ('created', 'web'), ('web', 'page'), ('page', 'wwwasjesuscom'), ('wwwasjesuscom', 'read'), ('read', 'wrote'), ('wrote', 'waiting'), ('waiting', 'opinion'), ('opinion', 'want'), ('want', 'friendchance'), ('friendchance', 'win'), ('<num>', 'wwwmusictrivianet'), ('wwwmusictrivianet', 'custard'), ('<num>', '<num>x<num>pwkfinal'), ('<num>x<num>pwkfinal', 'chance'), ('£<num>', 'subspook'), ('subspook', 'mob'), ('collection', 'nokia'), ('nokia', 'logic'), ('logic', 'message'), ('spook', '<num>urgent'), ('<num>urgent', 'call'), ('landline', 'complementary'), ('complementary', 'tenerife'), ('box', 'ppm'), ('ppm', 'sender'), ('sender', 'offerwinner'), ('offerwinner', 'valued'), ('£<num>', 'reward'), ('reward', 'collect'), ('collect', 'call'), ('valid', 'hour'), ('hour', 'acl<num>pmnokia'), ('acl<num>pmnokia', '<num>'), ('<num>', 'plus'), ('free', 'digital'), ('camera', 'get'), ('<num>', 'pobox<num>tcrw<num>free'), ('pobox<num>tcrw<num>free', 'entry'), ('<num>', 'wwwtxttowincouktext<num>'), ('wwwtxttowincouktext<num>', 'get'), ('get', 'ringtones'), ('ringtones', 'logo'), ('logo', 'game'), ('game', 'wwwtxt<num>com'), ('wwwtxt<num>com', 'question'), ('question', 'infotxt<num>coukfreeman'), ('infotxt<num>coukfreeman', 'awarded'), ('awarded', 'free'), ('free', 'mini'), ('mini', 'digital'), ('camera', 'reply'), ('reply', 'snap'), ('snap', 'collect'), ('collect', 'prize'), ('prize', 'quizclub'), ('quizclub', 'opt'), ('opt', 'stop'), ('stop', '<num>pwk'), ('<num>pwk', 'spam'), ('spam', 'ph<num>message'), ('ph<num>message', 'brought'), ('brought', 'new'), ('new', 'ltd'), ('ltd', 'connectedcongrats'), ('connectedcongrats', 'mobile'), ('online', 'rental'), ('rental', 'bxsnext'), ('bxsnext', 'amazing'), ('amazing', 'xxx'), ('xxx', 'picsfree<num>'), ('picsfree<num>', 'video'), ('video', 'sent'), ('sent', 'enjoy'), ('enjoy', 'one'), ('one', 'enough'), ('enough', 'day'), ('day', 'text'), ('back', 'keyword'), ('keyword', 'picsfree<num>'), ('picsfree<num>', 'get'), ('get', 'next'), ('next', 'videosubscribed'), ('videosubscribed', 'best'), ('per', 'ten'), ('ten', 'day'), ('helpline', '<num>free'), ('<num>free', 'tarot'), ('tarot', 'text'), ('text', 'find'), ('find', 'love'), ('love', 'life'), ('life', 'try'), ('try', 'free'), ('text', 'chance'), ('chance', '<num>'), ('free', 'mug'), ('mug', '£<num>join'), ('£<num>join', 'horniest'), ('horniest', 'dogging'), ('dogging', 'service'), ('service', 'sex'), ('sex', 'unite'), ('unite', 'sign'), ('sign', 'follow'), ('follow', 'instruction'), ('instruction', 'text'), ('text', 'entry'), ('entry', '<num>'), ('<num>', 'nytec<num>a<num>lpmsg<num>psunshine'), ('nytec<num>a<num>lpmsg<num>psunshine', 'quiz'), ('£<num>', 'tyroneknock'), ('tyroneknock', 'knock'), ('knock', 'text'), ('text', 'whose'), ('whose', '<num>'), ('<num>', 'enter'), ('enter', 'weekly'), ('voucher', 'store'), ('choice', 'wwwtklscom'), ('wwwtklscom', 'age'), ('age', 'stoptxtstop£<num>weekforwarded'), ('stoptxtstop£<num>weekforwarded', '<num>hi'), ('alert', 'match'), ('match', 'cc<num>pminfree'), ('cc<num>pminfree', 'ring'), ('ring', 'tone'), ('text', 'polys'), ('polys', '<num>'), ('week', 'get'), ('new', 'tone'), ('tone', '<num>yrs'), ('<num>yrs', '£<num>wkurgent'), ('£<num>wkurgent', 'mobile'), ('mobile', 'xxx'), ('xxx', '£<num>'), ('box<num>n<num>qp', 'ppmguaranteed'), ('ldnw<num>h', '<num>pmtmsgrcvd<num>hello'), ('<num>pmtmsgrcvd<num>hello', 'darling'), ('darling', 'today'), ('today', 'would'), ('would', 'love'), ('love', 'chat'), ('chat', 'done'), ('done', 'tell'), ('tell', 'look'), ('look', 'like'), ('like', 'sexy<num>'), ('sexy<num>', 'free'), ('free', 'week'), ('<num>', 'norm'), ('norm', 'peptonewanna'), ('peptonewanna', 'get'), ('laid', 'unite'), ('unite', 'want'), ('direct', 'mobile'), ('mobile', 'join'), ('network', 'text'), ('text', 'park'), ('park', '<num>'), ('echo', 'alp'), ('alp', '£<num>msgtried'), ('£<num>msgtried', 'contact'), ('contact', 'response'), ('response', 'offer'), ('nokia', 'one'), ('one', 'camcorder'), ('camcorder', 'hit'), ('hit', 'reply'), ('<num>', 'deliverynew'), ('deliverynew', 'tone'), ('tone', 'week'), ('week', 'include'), ('include', '<num>mcflyall'), ('<num>mcflyall', 'sara'), ('sara', 'jorgeshock'), ('jorgeshock', 'smithswitch'), ('smithswitch', 'order'), ('order', 'follow'), ('instruction', 'next'), ('next', 'messageurgent'), ('messageurgent', 'trying'), ('claim', 'validsport'), ('validsport', 'fan'), ('fan', 'get'), ('get', 'latest'), ('latest', 'sport'), ('sport', 'news'), ('news', 'str'), ('str', 'mobile'), ('free', 'plus'), ('text', 'sport'), ('sport', '<num>'), ('<num>', 'wwwgetzedcouk'), ('wwwgetzedcouk', '<num>'), ('norm', '<num>txt<num>purgent'), ('<num>txt<num>purgent', 'urgent'), ('urgent', 'free'), ('free', 'flight'), ('flight', 'europe'), ('europe', 'give'), ('away', 'call'), ('call', 'sept'), ('sept', 'take'), ('take', 'friend'), ('friend', 'free'), ('call', 'claim'), ('<num>', 'ba<num>nnfwfly<num>ppm<num>'), ('ba<num>nnfwfly<num>ppm<num>', 'lost'), ('lost', 'helpfreeman'), ('helpfreeman', 'fancy'), ('fancy', 'flirt'), ('flirt', 'reply'), ('date', 'join'), ('join', 'fastest'), ('fastest', 'growing'), ('growing', 'mobile'), ('mobile', 'dating'), ('service', 'mug'), ('mug', 'rcd'), ('rcd', 'output'), ('reply', 'dategreat'), ('dategreat', 'new'), ('new', 'offer'), ('offer', 'double'), ('text', 'best'), ('best', 'orange'), ('orange', 'tariff'), ('tariff', 'get'), ('mobileupd<num>', 'free'), ('<num>', '<num>stoptxthope'), ('<num>stoptxthope', 'enjoyed'), ('provided', 'tones<num>youcoukday'), ('tones<num>youcoukday', 'euro<num>'), ('stop', '<num>urgent'), ('<num>urgent', 'please'), ('landline', '£<num>'), ('cash', 'luxury'), ('luxury', 'canary'), ('canary', 'island'), ('island', 'holiday'), ('holiday', 'await'), ('see', 'award'), ('award', '<num>m<num>aq'), ('<num>m<num>aq', 'ppmurgent'), ('ppmurgent', 'please'), ('complimentary', 'lux'), ('lux', 'costa'), ('see', 'james'), ('james', 'errknow'), ('errknow', 'know'), ('len', 'yearmarried'), ('yearmarried', 'local'), ('local', 'woman'), ('woman', 'looking'), ('looking', 'discreet'), ('discreet', 'action'), ('action', 'real'), ('real', 'match'), ('match', 'instantly'), ('instantly', 'phone'), ('phone', 'text'), ('text', 'match'), ('match', '<num>'), ('<num>', 'mag'), ('mag', 'cost'), ('cost', 'stop'), ('stop', 'bcmsfwc<num>n<num>xxburger'), ('bcmsfwc<num>n<num>xxburger', 'king'), ('king', 'wanna'), ('wanna', 'play'), ('play', 'footy'), ('footy', 'top'), ('top', 'stadium'), ('stadium', 'get'), ('get', 'burger'), ('burger', 'king'), ('king', 'sept'), ('sept', 'large'), ('large', 'super'), ('super', 'cocoa'), ('cocoa', 'walk'), ('walk', 'winnercome'), ('winnercome', 'take'), ('take', 'little'), ('little', 'time'), ('time', 'child'), ('child', 'afraid'), ('afraid', 'dark'), ('dark', 'become'), ('become', 'teenager'), ('teenager', 'want'), ('want', 'stay'), ('stay', 'nightchance'), ('nightchance', 'win'), ('<num>', '<num>x<num>pwkbin'), ('<num>x<num>pwkbin', 'awarded'), ('awarded', 'play'), ('play', 'instant'), ('instant', 'cash'), ('cash', 'call'), ('claim', 'every'), ('every', 'eth'), ('eth', 'player'), ('player', 'win'), ('win', 'min'), ('min', '£<num>£<num>'), ('£<num>£<num>', 'output'), ('output', '<num>freemsgfav'), ('<num>freemsgfav', 'xmas'), ('xmas', 'tonesreply'), ('tonesreply', 'realdecember'), ('realdecember', 'mobile'), ('free', '<num>gre'), ('<num>gre', 'poly'), ('poly', 'tone'), ('mob', 'direct'), ('direct', 'reply'), ('poly', 'title'), ('poly', 'breathe'), ('breathe', 'title'), ('title', 'crazy'), ('crazy', 'sleepingwith'), ('sleepingwith', 'finest'), ('finest', 'mac'), ('mac', 'getzedcouk'), ('getzedcouk', 'pobox<num>o<num>w<num>wqinterflow'), ('pobox<num>o<num>w<num>wqinterflow', 'late'), ('late', 'order'), ('order', 'interflow'), ('interflow', 'flower'), ('flower', 'christmas'), ('christmas', 'call'), ('<num>', 'place'), ('place', 'order'), ('order', 'midnight'), ('midnight', 'tomorrowromcapspam'), ('tomorrowromcapspam', 'everyone'), ('everyone', 'around'), ('around', 'responding'), ('responding', 'well'), ('well', 'presence'), ('presence', 'since'), ('since', 'warm'), ('warm', 'outgoing'), ('outgoing', 'bringing'), ('bringing', 'real'), ('real', 'breath'), ('breath', 'sunshinecongratulation'), ('sunshinecongratulation', 'thanks'), ('minute', 'btnationalratesend'), ('btnationalratesend', 'logo'), ('pobox<num>w<num>wq', 'tototit'), ('tototit', 'euro<num>'), ('euro<num>', 'cup'), ('final', '£<num>'), ('cash', 'collect'), ('b<num>', 'box'), ('box', '<num>ppmfreemessage'), ('<num>ppmfreemessage', 'jamsterget'), ('jamsterget', 'crazy'), ('crazy', 'frog'), ('frog', 'sound'), ('sound', 'poly'), ('text', 'made'), ('made', 'real'), ('real', 'text'), ('made', '<num>'), ('<num>', 'crazy'), ('crazy', 'sound'), ('sound', 'week'), ('week', 'applychance'), ('applychance', 'reality'), ('reality', 'fantasy'), ('fantasy', 'show'), ('show', 'call'), ('rate', 'calladult'), ('calladult', 'content'), ('content', 'video'), ('video', 'shortlychance'), ('shortlychance', 'reality'), ('rate', 'callhey'), ('callhey', 'boy'), ('boy', 'want'), ('want', 'hot'), ('hot', 'xxx'), ('pic', 'sent'), ('direct', 'phone'), ('text', 'porn'), ('porn', '<num>'), ('free', 'per'), ('day', 'stop'), ('text', 'stock'), ('stock', 'wc<num>n<num>xxlast'), ('wc<num>n<num>xxlast', 'chance'), ('£<num>', 'subpatent'), ('subpatent', 'double'), ('tariff', 'latest'), ('nokia', 'bluetooth'), ('bluetooth', 'free'), ('<num>', 'call<num>optoutyhlcasablanca'), ('call<num>optoutyhlcasablanca', 'currently'), ('<num>', 'twourgent'), ('twourgent', 'mobile'), ('<num>', 'validsorry'), ('validsorry', 'unsubscribe'), ('unsubscribe', 'yet'), ('yet', 'mob'), ('mob', 'offer'), ('offer', 'package'), ('package', 'min'), ('min', 'term'), ('term', 'week'), ('week', 'plus'), ('plus', 'resubmit'), ('resubmit', 'request'), ('request', 'expiry'), ('expiry', 'reply'), ('reply', 'help'), ('help', 'infonew'), ('infonew', 'message'), ('call', '<num>currently'), ('<num>currently', 'message'), ('message', 'awaiting'), ('awaiting', 'collection'), ('collection', 'collect'), ('collect', 'message'), ('message', 'call'), ('call', '<num>secret'), ('care', '<num>ever'), ('<num>ever', 'notice'), ('notice', 'driving'), ('driving', 'anyone'), ('anyone', 'going'), ('going', 'slower'), ('slower', 'idiot'), ('idiot', 'everyone'), ('everyone', 'driving'), ('driving', 'faster'), ('faster', 'maniacxmas'), ('maniacxmas', 'offer'), ('<num>', 'call<num>optout<num>qf<num>reply'), ('call<num>optout<num>qf<num>reply', 'win'), ('weekly', 'professional'), ('professional', 'sport'), ('sport', 'tiger'), ('tiger', 'wood'), ('wood', 'play'), ('end', 'servicepolyphonic'), ('servicepolyphonic', 'tone'), ('reply', 'infohot'), ('infohot', 'live'), ('rate', 'callmessage'), ('callmessage', 'free'), ('free', 'welcome'), ('welcome', 'new'), ('new', 'improved'), ('improved', 'sex'), ('sex', 'dogging'), ('dogging', 'club'), ('club', 'unsubscribe'), ('unsubscribe', 'service'), ('service', 'reply'), ('stop', 'msgs<num>ptit'), ('msgs<num>ptit', 'euro<num>'), ('box', '<num>ppmloan'), ('<num>ppmloan', 'purpose'), ('back', 'helpupdated'), ('helpupdated', 'month'), ('month', 'half'), ('rental', '<num>minscall'), ('<num>minscall', 'mobileupd<num>'), ('<num>', 'call<num>optoutj<num>qfree'), ('call<num>optoutj<num>qfree', 'unlimited'), ('unlimited', 'hardcore'), ('hardcore', 'porn'), ('porn', 'direct'), ('access', 'chrgd<num>p'), ('chrgd<num>p', 'per'), ('stop', 'exit'), ('exit', 'mag'), ('mag', 'freefastener'), ('freefastener', 'quiz'), ('cash', 'wkent<num>p<num>unsubscribed'), ('wkent<num>p<num>unsubscribed', 'service'), ('service', 'get'), ('get', 'ton'), ('ton', 'sexy'), ('sexy', 'babe'), ('babe', 'hunk'), ('hunk', 'straight'), ('phone', 'httpgotbabescouk'), ('httpgotbabescouk', 'subscriptionbabe'), ('subscriptionbabe', 'jordan'), ('jordan', 'home'), ('home', 'abroad'), ('abroad', 'lonely'), ('lonely', 'text'), ('back', 'wanna'), ('chat', 'xxx'), ('xxx', 'visionsmscom'), ('visionsmscom', 'text'), ('stop', 'topmost'), ('topmost', '<num>get'), ('<num>get', 'brand'), ('mobile', 'phone'), ('phone', 'agent'), ('agent', 'mob'), ('mob', 'plus'), ('plus', 'load'), ('load', 'goody'), ('goody', 'info'), ('info', 'text'), ('text', 'mat'), ('mat', '<num>lord'), ('<num>lord', 'ringsreturn'), ('ringsreturn', 'king'), ('king', 'store'), ('store', 'reply'), ('reply', 'lot'), ('lot', 'june'), ('june', 'chance'), ('win', 'lot'), ('lot', 'soundtrack'), ('soundtrack', 'stdtxtrate'), ('stdtxtrate', 'reply'), ('stop', 'end'), ('end', 'titgood'), ('titgood', 'luck'), ('luck', 'draw'), ('draw', 'take'), ('take', 'place'), ('place', 'feb'), ('feb', 'good'), ('luck', 'removal'), ('removal', 'send'), ('service', '<num>free'), ('<num>', 'detailfree'), ('detailfree', 'gre'), ('tone', 'str'), ('str', 'text'), ('<num>', 'classic'), ('classic', 'nokia'), ('tone', 'hit'), ('hit', '<num>'), ('<num>', 'polys'), ('polys', 'nokia<num>p'), ('nokia<num>p', 'polyplocate'), ('polyplocate', 'thanks'), ('thanks', 'purchase'), ('purchase', 'video'), ('video', 'clip'), ('clip', 'locate'), ('locate', 'charged'), ('charged', 'think'), ('think', 'better'), ('better', 'send'), ('send', 'video'), ('video', '<num>sexy'), ('<num>sexy', 'sexy'), ('sexy', 'cum'), ('cum', 'text'), ('text', 'wet'), ('wet', 'warm'), ('warm', 'ready'), ('ready', 'porn'), ('porn', 'fun'), ('fun', 'mag'), ('free', 'recd'), ('recd', 'mug'), ('mug', 'inc'), ('inc', 'vat'), ('vat', 'cancel'), ('cancel', 'text'), ('text', 'stophard'), ('stophard', 'live'), ('vul', 'bcm<num>wc<num>n<num>xxheard'), ('bcm<num>wc<num>n<num>xxheard', 'call'), ('sam', 'xxxtime'), ('xxxtime', 'tried'), ('<num>', 'ppmhot'), ('ppmhot', 'live'), ('cry', '<num>kdear'), ('<num>kdear', 'voucher'), ('please', 'httpwwwetlpcoukreward'), ('httpwwwetlpcoukreward', 'tic'), ('tic', 'applygoing'), ('applygoing', 'bahamas'), ('text', '<num>time'), ('<num>time', 'tried'), ('min', 'btnationalrateawarded'), ('btnationalrateawarded', 'city'), ('store', '<num>skilgmetscs<num>winawkage<num>£<num>perwksuburgent'), ('<num>skilgmetscs<num>winawkage<num>£<num>perwksuburgent', 'trying'), ('claim', 'validthanks'), ('validthanks', 'ringtone'), ('reference', 'number'), ('number', 'xxx'), ('xxx', 'mobile'), ('charged', 'tone'), ('service', '<num>six'), ('reply', 'infocasablanca'), ('infocasablanca', 'currently'), ('send', 'collect'), ('<num>', 'twocongratulation'), ('twocongratulation', 'thanks'), ('minute', 'btnationalrate<num>'), ('btnationalrate<num>', 'want'), ('want', 'new'), ('<num>i', 'colour'), ('colour', 'phone'), ('phone', 'deliveredtomorrow'), ('deliveredtomorrow', 'free'), ('free', 'minute'), ('minute', 'mobile'), ('text', 'free'), ('call', '<num>someone'), ('<num>someone', 'know'), ('revealed', 'box'), ('box', 'ls<num>hbcamera'), ('ls<num>hbcamera', 'awarded'), ('awarded', 'six'), ('<num>', 'fromm'), ('fromm', 'landline'), ('within', 'daytoday'), ('daytoday', 'soda'), ('rate', 'appmessage'), ('appmessage', 'free'), ('stop', 'msgs<num>pact'), ('msgs<num>pact', 'adrian'), ('adrian', 'text'), ('text', 'rod'), ('rod', 'vaticanfree'), ('vaticanfree', 'message'), ('visit', 'www<num>comcontacted'), ('www<num>comcontacted', 'dating'), ('service', 'someone'), ('know', 'find'), ('call', 'land'), ('<num>', 'pobox<num>w<num>tg<num>psorry'), ('pobox<num>w<num>tg<num>psorry', 'missed'), ('missed', 'call'), ('call', 'let'), ('let', 'talk'), ('talk', 'time'), ('time', '<num>complimentary'), ('<num>complimentary', 'star'), ('star', 'ibiza'), ('cash', 'need'), ('need', 'urgent'), ('urgent', 'collection'), ('collection', '<num>'), ('landline', 'lose'), ('lose', 'box<num>sk<num>wp<num>ppm<num>free'), ('box<num>sk<num>wp<num>ppm<num>free', 'mage'), ('mage', 'billed'), ('billed', 'mobile'), ('number', 'mistake'), ('mistake', 'shortcake'), ('shortcake', '<num>please'), ('<num>', 'charge'), ('charge', 'refundedthis'), ('refundedthis', 'call'), ('free', 'landlineplease'), ('landlineplease', 'call'), ('message', 'waitingurgent'), ('waitingurgent', 'mobile'), ('line', 'validvalued'), ('validvalued', 'customer'), ('call', '<num>want'), ('<num>want', 'new'), ('call', '<num>life'), ('<num>life', 'never'), ('never', 'much'), ('much', 'fun'), ('fun', 'great'), ('great', 'came'), ('came', 'made'), ('made', 'truly'), ('truly', 'special'), ('special', 'forget'), ('forget', 'enjoy'), ('one', 'glasswant'), ('glasswant', 'new'), ('mind', 'inclusive'), ('inclusive', 'video'), ('video', 'call'), ('call', 'downloads'), ('downloads', 'per'), ('free', 'tomorrow'), ('tomorrow', 'call'), ('<num>', 'replyvalued'), ('replyvalued', 'customer'), ('call', '<num>welcome'), ('<num>welcome', 'please'), ('please', 'reply'), ('reply', 'age'), ('age', 'gender'), ('gender', 'begin'), ('begin', 'legfreeman'), ('legfreeman', 'month'), ('month', 'unlimited'), ('unlimited', 'free'), ('call', 'activate'), ('activate', 'marshall'), ('marshall', 'text'), ('<num>', 'subscriptn<num>gbpwk'), ('subscriptn<num>gbpwk', 'unlimited'), ('unlimited', 'call'), ('call', 'help'), ('stop', 'landlineonlymobile'), ('landlineonlymobile', 'myth'), ('myth', 'update'), ('orange', 'cameravideo'), ('cameravideo', 'phone'), ('free', 'save'), ('save', 'free'), ('free', 'textsweekend'), ('textsweekend', 'call'), ('call', 'text'), ('yes', 'callback'), ('callback', 'porno'), ('porno', 'optnew'), ('optnew', 'club'), ('club', 'done'), ('done', 'fink'), ('fink', 'met'), ('met', 'yet'), ('yet', 'gre'), ('gre', 'please'), ('please', 'leave'), ('day', 'win'), ('win', 'area'), ('area', '<num>'), ('reply', 'promised'), ('promised', 'charlie'), ('charlie', 'calls£<num>minmobsmore'), ('calls£<num>minmobsmore', 'lkpobox<num>hp<num>flcamera'), ('lkpobox<num>hp<num>flcamera', 'awarded'), ('within', 'dayget'), ('dayget', 'free'), ('free', 'mobile'), ('mobile', 'video'), ('video', 'player'), ('player', 'free'), ('free', 'movie'), ('movie', 'collect'), ('collect', 'text'), ('free', 'extra'), ('extra', 'film'), ('film', 'ordered'), ('ordered', 'applysave'), ('applysave', 'money'), ('money', 'wedding'), ('wedding', 'lingerie'), ('lingerie', 'wwwbridalpetticoatdreamscouk'), ('wwwbridalpetticoatdreamscouk', 'choose'), ('choose', 'superb'), ('superb', 'selection'), ('selection', 'national'), ('national', 'delivery'), ('delivery', 'brought'), ('brought', 'weddingfriendheard'), ('weddingfriendheard', 'call'), ('call', 'night'), ('night', 'knickers'), ('knickers', 'make'), ('make', 'beg'), ('beg', 'like'), ('like', 'last'), ('last', 'time'), ('<num>', 'xxx'), ('xxx', 'lug'), ('lug', 'nikiyu<num>netbloomer'), ('nikiyu<num>netbloomer', 'message'), ('message', 'center'), ('center', '<num>'), ('<num>', 'wait'), ('wait', 'apply'), ('apply', 'future'), ('future', 'httpcareers'), ('httpcareers', 'bloombergcomurgent'), ('bloombergcomurgent', 'trying'), ('claim', 'valid<num>hrswant'), ('valid<num>hrswant', 'new'), ('text', 'five'), ('delivery', 'tomorrowcontacted'), ('tomorrowcontacted', 'dating'), ('<num>', 'pobox<num>w<num>tg<num>pwant'), ('pobox<num>w<num>tg<num>pwant', 'win'), ('win', 'meetgreet'), ('meetgreet', 'wildlife'), ('wildlife', 'currently'), ('currently', 'tour'), ('tour', 'unbreakable'), ('unbreakable', 'untamed'), ('untamed', 'unkempt'), ('unkempt', 'text'), ('cost', 'std'), ('std', 'textdorothykiefercom'), ('textdorothykiefercom', 'bank'), ('bank', 'granite'), ('granite', 'issue'), ('issue', 'strongly'), ('strongly', 'explosive'), ('explosive', 'pick'), ('pick', 'member'), ('member', 'nassau'), ('nassau', 'symbol'), ('symbol', 'per£<num>'), ('per£<num>', 'winner'), ('winner', 'guaranteed'), ('guaranteed', 'caller'), ('prize', 'final'), ('contact', 'claim'), ('<num>', '<num>ppmpobox<num>bhamb<num>xexmas'), ('<num>ppmpobox<num>bhamb<num>xexmas', 'new'), ('year', 'eve'), ('eve', 'ticket'), ('ticket', 'sale'), ('sale', 'club'), ('club', 'day'), ('day', 'till'), ('till', 'thurs'), ('thurs', 'fri'), ('fri', 'sat'), ('sat', 'night'), ('night', 'week'), ('week', 'selling'), ('selling', 'fastrock'), ('fastrock', 'chip'), ('chip', 'get'), ('get', 'filthy'), ('filthy', 'film'), ('film', 'xxx'), ('pic', 'phone'), ('phone', 'reply'), ('reply', 'filth'), ('filth', '<num>'), ('<num>', 'arista'), ('arista', 'ltd'), ('ltd', 'end'), ('end', '<num>'), ('stop', 'cancelnext'), ('cancelnext', 'month'), ('month', 'get'), ('get', 'unto'), ('unto', 'call'), ('call', 'standard'), ('standard', 'network'), ('network', 'charge'), ('charge', 'activate'), ('activate', 'call'), ('<num>', 'irene'), ('irene', '<num>st<num>terms'), ('<num>st<num>terms', 'pobox<num>'), ('pobox<num>', 'luz'), ('luz', 'cost'), ('cost', '£<num>'), ('£<num>', 'min'), ('min', 'mobutuurgent'), ('mobutuurgent', 'trying'), ('claim', 'jan'), ('jan', 'box<num>c<num>pmtext'), ('box<num>c<num>pmtext', 'banned'), ('banned', '<num>'), ('see', 'cost'), ('gaga', 'xxxauction'), ('xxxauction', 'round'), ('round', 'highest'), ('highest', 'bid'), ('bid', 'next'), ('next', 'maximum'), ('maximum', 'bid'), ('bid', 'bid'), ('bid', 'send'), ('send', 'bid'), ('bid', '<num>'), ('good', 'luckcollect'), ('luckcollect', 'valentine'), ('valentine', 'weekend'), ('weekend', 'paris'), ('paris', 'inc'), ('inc', 'flight'), ('flight', 'hotel'), ('hotel', '£<num>'), ('guaranteed', 'text'), ('text', 'paris'), ('paris', '<num>'), ('<num>', 'wwwrtfsphostingcomcustomer'), ('wwwrtfsphostingcomcustomer', 'loyalty'), ('text', '<num>pmtmsgbelieve'), ('<num>pmtmsgbelieve', 'true'), ('true', 'incredible'), ('incredible', 'tit'), ('tit', 'reply'), ('reply', 'learn'), ('learn', 'truly'), ('truly', 'amazing'), ('amazing', 'thing'), ('thing', 'blow'), ('blow', 'mind'), ('mind', 'fwd'), ('fwd', 'septet<num>'), ('septet<num>', 'igbo'), ('get', 'nowthot'), ('nowthot', 'horny'), ('horny', 'willing'), ('willing', 'live'), ('local', 'text'), ('text', 'reply'), ('reply', 'hear'), ('hear', 'start'), ('start', 'back'), ('back', 'per'), ('mag', 'metroplex'), ('metroplex', 'ltdhelpdesk'), ('ltdhelpdesk', '<num>'), ('stop', 'endwant'), ('endwant', 'new'), ('phone', 'delivered'), ('delivered', 'tomorrow'), ('tomorrow', 'free'), ('call', '<num>congratulation'), ('<num>congratulation', 'winner'), ('winner', 'august'), ('august', '£<num>'), ('draw', 'call'), ('prize', 'code'), ('code', '<num><num>'), ('<num><num>', 'allie'), ('allie', 'moon'), ('profit', 'charityget'), ('charityget', 'official'), ('official', 'england'), ('england', 'poly'), ('mobile', 'tonight'), ('tonight', 'game'), ('game', 'text'), ('w<num>wx', '£<num>customer'), ('£<num>customer', 'service'), ('announcement', 'recently'), ('recently', 'tried'), ('tried', 'make'), ('make', 'delivery'), ('delivery', 'unable'), ('unable', 'please'), ('<num>', 'reschedule'), ('reschedule', 'ref<num>stop'), ('ref<num>stop', 'club'), ('club', 'tone'), ('tone', 'replying'), ('replying', 'stop'), ('stop', 'mix'), ('mix', 'see'), ('see', 'mytonecomenjoy'), ('mytonecomenjoy', 'home'), ('home', 'term'), ('term', 'club'), ('tone', 'cost'), ('cost', 'gbp<num>week'), ('gbp<num>week', 'mil'), ('mil', 'box'), ('mkt', 'cwtgamma'), ('cwtgamma', 'get'), ('get', 'taiwan'), ('taiwan', 'real'), ('real', 'doggie'), ('doggie', 'location'), ('text', 'dog'), ('dog', '<num>'), ('<num>', 'downy'), ('downy', 'echo'), ('alp', '£<num>msgnokia'), ('£<num>msgnokia', '<num>i'), ('hgsuite<num>lands', 'roww<num>jhlpromotion'), ('roww<num>jhlpromotion', 'number'), ('<num>', 'awarded'), ('awarded', 'city'), ('tscs<num>winawkage<num>', '£<num>perwksubwinner'), ('£<num>perwksubwinner', 'specially'), ('<num>am<num>pm', 'costfree'), ('costfree', 'top'), ('week', 'sms<num>thanks'), ('sms<num>thanks', 'ringtone'), ('service', '<num>'), ('<num>', 'colourredtextcolourtxtstarnight'), ('colourredtextcolourtxtstarnight', 'lucky'), ('lucky', 'night'), ('night', 'use'), ('use', 'invited'), ('chat', 'wildest'), ('wildest', 'chat'), ('chat', 'text'), ('<num>pmsgrcvdhgsuite<num>landsroww<num>j<num>hl', 'len<num>tf<num>pdear'), ('len<num>tf<num>pdear', 'voucher'), ('claim', 'class'), ('class', 'airport'), ('airport', 'lounge'), ('lounge', 'pass'), ('pass', 'using'), ('using', 'holiday'), ('holiday', 'voucher'), ('<num>', 'booking'), ('booking', 'quote'), ('quote', 'classbloomer'), ('classbloomer', 'message'), ('httpcareers', 'bloombergcomyes'), ('bloombergcomyes', 'place'), ('<num>', '<num>pmsgfree'), ('<num>pmsgfree', 'week'), ('wow', 'norm<num>ptonesomeone'), ('norm<num>ptonesomeone', 'know'), ('box', 'sexymilf'), ('sexymilf', 'age'), ('age', 'blonde'), ('blonde', 'new'), ('new', 'look'), ('look', 'sex'), ('sex', 'guy'), ('guy', 'like'), ('fun', 'text'), ('text', 'talk'), ('talk', '<num>'), ('<num>', '<num>pptxt'), ('<num>pptxt', 'free'), ('free', '£<num>'), ('£<num>', 'increment'), ('increment', 'help<num>claim'), ('help<num>claim', 'shopping'), ('spree', 'call'), ('<num>', 'mobstorequiz<num>ppmwant'), ('mobstorequiz<num>ppmwant', 'funk'), ('funk', 'one'), ('one', 'weekly'), ('weekly', 'new'), ('text', 'wwwringtonescouk'), ('rate', 'applytwinks'), ('applytwinks', 'bear'), ('bear', 'sally'), ('sally', 'skin'), ('skin', 'jock'), ('jock', 'calling'), ('calling', 'miss'), ('miss', 'weekend'), ('weekend', 'fun'), ('fun', 'call'), ('call', '<num>nat'), ('<num>nat', 'ratetried'), ('ratetried', 'contact'), ('<num>urgent', 'trying'), ('valid', 'hour<num>'), ('hour<num>', 'xmas'), ('xmas', 'incoming'), ('incoming', 'awarded'), ('<num>', 'inccongratulation'), ('inccongratulation', 'claim'), ('claim', 'via'), ('via', 'row'), ('row', 'ticket'), ('ticket', 'blu'), ('blu', 'concert'), ('concert', 'november'), ('november', 'blu'), ('blu', 'gift'), ('claim', 'tic'), ('wwwsmsconet', 'cost£<num>maxfantasy'), ('cost£<num>maxfantasy', 'football'), ('opt', '<num>free'), ('<num>free', 'mag'), ('mag', 'single'), ('single', 'find'), ('find', 'partner'), ('partner', 'area'), ('<num>', 'real'), ('real', 'people'), ('people', 'waiting'), ('waiting', 'chat'), ('chat', 'townsend'), ('townsend', 'chat'), ('chat', '<num>cncl'), ('<num>cncl', 'send'), ('stop', '<num>£<num>'), ('<num>£<num>', 'per'), ('per', 'magwin'), ('magwin', 'newest'), ('among', 'readerfree'), ('readerfree', 'mag'), ('mag', 'ringtonefrom'), ('ringtonefrom', 'hittite'), ('hittite', 'widelivecomindex'), ('widelivecomindex', 'wmlid<num>b<num>a<num>ecef<num>ff<num>firsttrue<num>jul<num>god'), ('wmlid<num>b<num>a<num>ecef<num>ff<num>firsttrue<num>jul<num>god', 'found'), ('found', 'number'), ('number', 'glad'), ('glad', 'text'), ('back', 'mug'), ('mug', 'cost'), ('std', 'new'), ('new', 'chg'), ('chg', '£<num>link'), ('£<num>link', 'picture'), ('picture', 'sent'), ('sent', 'also'), ('also', 'use'), ('use', 'httpalto<num>coukwavewaveaspo<num>double'), ('httpalto<num>coukwavewaveaspo<num>double', 'mind'), ('<num>', 'call<num>optouthf<num>urgent'), ('call<num>optouthf<num>urgent', 'attempt'), ('prize', 'yesterday'), ('yesterday', 'still'), ('still', 'awaiting'), ('collection', 'claim'), ('<num>', 'acl<num>pmdear'), ('acl<num>pmdear', 'dave'), ('cw<num>wx', 'ppmtell'), ('ppmtell', 'call'), ('prompt', 'careful<num>'), ('careful<num>', 'account'), ('account', '<num>xxxxxxxxx'), ('<num>xxxxxxxxx', 'show'), ('code', 'xxxix'), ('xxxix', 'expires'), ('expires', '<num>want'), ('delivery', 'tomorrowimportant'), ('tomorrowimportant', 'customer'), ('<num>', '<num>freeringtone'), ('<num>freeringtone', 'reply'), ('reply', 'real'), ('real', 'poly'), ('poly', 'leg'), ('leg', 'real'), ('real', 'pushbutton'), ('pushbutton', 'gotcha'), ('gotcha', 'babygoodbye'), ('babygoodbye', 'golddigger'), ('golddigger', 'webeburnin'), ('webeburnin', 'tone'), ('join', 'hawkfree'), ('hawkfree', 'mag'), ('mag', 'get'), ('get', 'gnarly'), ('gnarly', 'barkley'), ('barkley', 'crazy'), ('crazy', 'ringtone'), ('ringtone', 'totally'), ('totally', 'free'), ('reply', 'message'), ('message', 'rightrefused'), ('rightrefused', 'loan'), ('loan', 'secured'), ('secured', 'unsecured'), ('unsecured', 'cannot'), ('cannot', 'get'), ('get', 'credit'), ('credit', 'call'), ('back', 'helpspecially'), ('helpspecially', 'selected'), ('<num>', 'award'), ('apply', 'promovalued'), ('promovalued', 'danone'), ('danone', 'customer'), ('customer', 'computer'), ('computer', 'picked'), ('picked', 'win'), ('prize', 'collect'), ('collect', 'easy'), ('call', '<num>free'), ('<num>free', 'video'), ('rental', 'myth'), ('myth', 'cross'), ('tit', 'call'), ('<num>', 'call<num>optout<num>great'), ('call<num>optout<num>great', 'new'), ('<num>', '<num>stoptxtringtoneking'), ('<num>stoptxtringtoneking', '<num>ringtone'), ('<num>ringtone', 'club'), ('club', 'gre'), ('gre', 'new'), ('new', 'polys'), ('polys', 'direct'), ('every', 'weekbank'), ('weekbank', 'granite'), ('symbol', 'perbored'), ('perbored', 'housewife'), ('housewife', 'chat'), ('chat', 'date'), ('<num>', 'binational'), ('binational', 'rate'), ('spain', 'landlinetried'), ('landlinetried', 'call'), ('sims', 'video'), ('video', 'mobile'), ('mobile', 'mind'), ('<num>', 'del'), ('del', 'thurstime'), ('thurstime', 'tried'), ('minute', 'btnationalratewant'), ('btnationalratewant', 'win'), ('std', 'textplease'), ('textplease', 'call'), ('£<num>', 'prizereceiving'), ('prizereceiving', 'week'), ('week', 'triple'), ('triple', 'echo'), ('echo', 'ringtone'), ('ringtone', 'shortly'), ('shortly', 'enjoyselected'), ('enjoyselected', 'stay'), ('holiday', 'valued'), ('valued', '£<num>'), ('£<num>', 'dial'), ('dial', '<num>'), ('claim', 'national'), ('rate', 'call'), ('call', 'bxs'), ('bxs', 'swisschosen'), ('swisschosen', 'receive'), ('award', 'plus'), ('plus', 'call'), ('claim', 'number'), ('collect', 'award'), ('award', 'selected'), ('receive', 'valued'), ('valued', 'mobile'), ('mobile', 'customerplease'), ('customerplease', 'call'), ('£<num>', 'prizewin'), ('prizewin', '£<num>'), ('cash', 'prize'), ('prize', 'prize'), ('prize', 'worth'), ('worth', '£<num>thanks'), ('£<num>thanks', 'ringtone'), ('service', '<num>mob'), ('<num>mob', 'pub'), ('£<num>', '<num>week'), ('<num>week', 'salmon'), ('offer', 'accessible'), ('accessible', 'call'), ('<num>', 'detail'), ('detail', 'salmon'), ('salmon', 'box'), ('law', '£<num>week'), ('£<num>week', 'salmon'), ('offer', 'mobilecontacted'), ('mobilecontacted', 'dating'), ('mobile', 'landline'), ('<num>', 'pobox<num>ldns<num>tbspersolvo'), ('pobox<num>ldns<num>tbspersolvo', 'chasing'), ('chasing', 'since'), ('since', 'sept'), ('sept', 'definitely'), ('definitely', 'paying'), ('paying', 'thanks'), ('thanks', 'information'), ('information', 'ignore'), ('ignore', 'path'), ('path', 'manchesterloan'), ('manchesterloan', 'purpose'), ('purpose', 'even'), ('even', 'bad'), ('bad', 'credit'), ('credit', 'tenant'), ('welcome', 'call'), ('call', 'noworriesloanscom'), ('noworriesloanscom', '<num><num>'), ('<num><num>', 'kick'), ('kick', 'new'), ('new', 'season'), ('season', 'free'), ('free', 'goal'), ('goal', 'news'), ('news', 'mobile'), ('club', 'name'), ('leg', 'villa'), ('villa', '<num>orange'), ('<num>orange', 'brings'), ('brings', 'ringtones'), ('ringtones', 'time'), ('time', 'chart'), ('chart', 'hero'), ('hero', 'free'), ('free', 'hit'), ('hit', 'week'), ('week', 'ringtones'), ('ringtones', 'pic'), ('pic', 'stop'), ('stop', 'receiving'), ('receiving', 'tip'), ('tip', 'reply'), ('reply', 'stopprivate'), ('stopprivate', '<num>'), ('expires', '<num>tried'), ('<num>tried', 'call'), ('call', '<num>gosh'), ('<num>gosh', 'good'), ('good', 'spam'), ('spam', 'lady'), ('lady', 'could'), ('could', 'male'), ('male', 'gigolo'), ('gigolo', 'join'), ('growing', 'men'), ('men', 'club'), ('club', 'reply'), ('call', 'group'), ('group', '<num>stop'), ('<num>stop', 'reply'), ('stop', 'msg£<num>rcvdsecret'), ('msg£<num>rcvdsecret', 'admirer'), ('specifically', '<num>hot'), ('<num>hot', 'live'), ('rate', 'callurgent'), ('callurgent', 'mobile'), ('awarded', 'ukp<num>'), ('ukp<num>', 'prize'), ('landline', 'claim'), ('valid', 'ppmjanuary'), ('ppmjanuary', 'male'), ('<num>', 'spainfreeman'), ('spainfreeman', 'today'), ('today', 'day'), ('day', 'ready'), ('ready', 'horny'), ('horny', 'live'), ('live', 'town'), ('town', 'love'), ('sex', 'fun'), ('fun', 'game'), ('game', 'metroplex'), ('stop', 'endsimpson'), ('endsimpson', 'movie'), ('movie', 'released'), ('released', 'july'), ('july', '<num>'), ('<num>', 'name'), ('name', 'band'), ('band', 'died'), ('died', 'start'), ('start', 'film'), ('film', 'green'), ('green', 'day'), ('day', 'blue'), ('blue', 'day'), ('day', 'cred'), ('cred', 'day'), ('day', 'sendplease'), ('sendplease', 'call'), ('call', 'amanda'), ('amanda', 'regard'), ('regard', 'renewing'), ('renewing', 'upgrading'), ('upgrading', 'current'), ('current', 'mobile'), ('mobile', 'handset'), ('handset', 'free'), ('free', 'charge'), ('charge', 'offer'), ('end', 'today'), ('today', 'tel'), ('tel', '<num>'), ('<num>', 'subjecturgent'), ('subjecturgent', 'costa'), ('cost£<num>pm', 'maximinwant'), ('maximinwant', 'new'), ('rental', 'free'), ('text', 'month'), ('month', 'reply'), ('free', 'deliverymobile'), ('deliverymobile', 'month'), ('free', '<num>dear'), ('please', 'httpwwwwtlpcouktext'), ('httpwwwwtlpcouktext', 'tic'), ('tic', 'applycongrats'), ('applycongrats', 'nokia'), ('len', 'wc<num>n<num>xxurgent'), ('wc<num>n<num>xxurgent', 'please'), ('<num>', 'alta'), ('complimentary', 'spanish'), ('spanish', 'holiday'), ('box', 'post'), ('post', 'fez'), ('fez', 'ppmdouble'), ('<num>', 'call<num>optoutn<num>dxfree'), ('call<num>optoutn<num>dxfree', 'week'), ('wow', 'norm<num>ptonewant'), ('norm<num>ptonewant', 'funk'), ('rate', 'applymon'), ('applymon', 'babe'), ('babe', 'make'), ('make', 'horny'), ('horny', 'turn'), ('turn', 'text'), ('text', 'fantasy'), ('fantasy', 'babe'), ('babe', 'hot'), ('hot', 'sticky'), ('sticky', 'need'), ('need', 'reply'), ('reply', 'cost'), ('£<num>', 'cancel'), ('cancel', 'send'), ('send', 'stopimportant'), ('stopimportant', 'information'), ('information', 'orange'), ('orange', 'user'), ('user', '<num>xxxxxx'), ('<num>xxxxxx', 'today'), ('fantastic', 'prizeawaitingmissed'), ('prizeawaitingmissed', 'call'), ('call', 'alert'), ('alert', 'number'), ('number', 'called'), ('called', 'left'), ('left', 'message'), ('message', '<num>freeman'), ('<num>freeman', 'record'), ('record', 'indicate'), ('indicate', 'may'), ('may', 'entitled'), ('entitled', '<num>'), ('pound', 'accident'), ('accident', 'claim'), ('yes', 'mag'), ('mag', 'opt'), ('text', 'stopwin'), ('age', '<num>ppermesssubscriptionshow'), ('<num>ppermesssubscriptionshow', 'colour'), ('colour', 'euro'), ('euro', '<num>'), ('offer', 'get'), ('get', 'england'), ('england', 'flag'), ('flag', 'lion'), ('lion', 'tone'), ('phone', 'click'), ('click', 'following'), ('following', 'service'), ('service', 'message'), ('message', 'infotext'), ('infotext', 'pas'), ('pas', '<num>'), ('collect', 'polyphonic'), ('polyphonic', 'ringtones'), ('ringtones', 'normal'), ('normal', 'charge'), ('charge', 'apply'), ('apply', 'enjoy'), ('enjoy', 'toneaccordingly'), ('toneaccordingly', 'repeat'), ('repeat', 'text'), ('word', 'mobile'), ('phone', 'sendblock'), ('sendblock', 'breaker'), ('breaker', 'come'), ('come', 'deluxe'), ('deluxe', 'format'), ('format', 'new'), ('new', 'feature'), ('feature', 'great'), ('great', 'graphic'), ('graphic', 'mobile'), ('mobile', 'buy'), ('buy', 'replying'), ('replying', 'get'), ('get', 'deluxe'), ('deluxe', 'take'), ('take', 'challengeimportant'), ('challengeimportant', 'information'), ('lucky', 'day<num>find'), ('day<num>find', 'log'), ('surprise', 'awaitingnatalia'), ('awaitingnatalia', 'inviting'), ('see', 'wwwsmsacunat<num>'), ('wwwsmsacunat<num>', 'stop'), ('find', '<num>urgent'), ('<num>urgent', 'important'), ('surprise', 'awaitingwinner'), ('awaitingwinner', 'valued'), ('valid', 'hourkit'), ('hourkit', 'strip'), ('strip', 'billed'), ('billed', 'metroplex'), ('<num>', 'ignhmm'), ('ignhmm', 'bonus'), ('<num>', 'infowww<num>percentrealcomplease'), ('infowww<num>percentrealcomplease', 'call'), ('message', 'waitingthesmszonecom'), ('waitingthesmszonecom', 'let'), ('let', 'send'), ('send', 'free'), ('free', 'anonymous'), ('anonymous', 'masked'), ('masked', 'message'), ('message', 'sending'), ('sending', 'message'), ('message', 'thereto'), ('thereto', 'see'), ('see', 'potential'), ('potential', 'abusewell'), ('abusewell', 'done'), ('cost£<num>pm', 'maximinsomeone'), ('maximinsomeone', 'know'), ('revealed', 'boxcongrats'), ('boxcongrats', 'mobile'), ('load', 'poly'), ('poly', 'music'), ('rental', 'bxs<num>'), ('bxs<num>', 'secret'), ('specifically', '<num>important'), ('<num>important', 'information'), ('user', '<num>xxxxxxx'), ('<num>xxxxxxx', 'today'), ('surprise', 'awaitingdating'), ('awaitingdating', 'service'), ('service', 'asked'), ('asked', 'contact'), ('contact', 'someone'), ('someone', 'shy'), ('shy', 'call'), ('revealed', 'pobox<num>'), ('pobox<num>', 'luzwant'), ('luzwant', 'new'), ('handset', 'time'), ('time', 'network'), ('del', 'satbalance'), ('satbalance', '£<num>'), ('question', 'complete'), ('complete', 'landmark'), ('landmark', 'big'), ('big', 'bob'), ('bob', 'barry'), ('barry', 'ben'), ('ben', 'text'), ('good', 'lucktone'), ('lucktone', 'subscription'), ('subscription', 'renewed'), ('renewed', 'charged'), ('£<num>', 'choose'), ('choose', 'polys'), ('polys', 'month'), ('month', 'wwwclubzedcouk'), ('wwwclubzedcouk', 'billing'), ('billing', 'magprize'), ('magprize', 'another'), ('another', 'customer'), ('customer', 'wwwtcbiz'), ('wwwtcbiz', '<num>pmin'), ('<num>pmin', 'polo'), ('polo', 'ltd'), ('ltd', 'suite'), ('suite', 'london'), ('london', 'please'), ('back', 'busywant'), ('busywant', 'new'), ('call', '<num>rect'), ('<num>rect', 'ordered'), ('ordered', 'ringtone'), ('order', 'processedone'), ('processedone', 'registered'), ('registered', 'subscriber'), ('subscriber', 'enter'), ('enter', 'draw'), ('draw', 'gift'), ('voucher', 'replying'), ('replying', 'enter'), ('enter', 'unsubscribe'), ('text', 'stopchance'), ('stopchance', 'win'), ('bluetooth', 'headset'), ('headset', 'simply'), ('simply', 'reply'), ('reply', 'back'), ('back', 'addfloppy'), ('addfloppy', 'snappy'), ('snappy', 'happy'), ('happy', 'gay'), ('chat', 'service'), ('service', 'photo'), ('shracomorsglsuplt<num>', 'rajwelcome'), ('rajwelcome', 'ukmobiledate'), ('ukmobiledate', 'mag'), ('free', 'giving'), ('giving', 'free'), ('free', 'calling'), ('calling', '<num>'), ('<num>', 'future'), ('future', 'billed'), ('billed', 'daily'), ('daily', 'cancel'), ('stop', '<num>received'), ('<num>received', 'mobile'), ('content', 'enjoywant'), ('enjoywant', 'explicit'), ('explicit', 'sex'), ('sex', 'sec'), ('sec', 'ring'), ('ring', '<num>'), ('cost', 'spainlatest'), ('spainlatest', 'nokia'), ('mobile', 'ipod'), ('guaranteed', 'reply'), ('reply', 'win'), ('<num>', 'horror'), ('horror', 'ltd£<num>mtmsgrcvd<num>sims'), ('ltd£<num>mtmsgrcvd<num>sims', 'service'), ('<num>cm<num>', 'maemobile'), ('maemobile', 'club'), ('club', 'choose'), ('quality', 'item'), ('item', 'mobile'), ('mobile', 'cicadamoney'), ('cicadamoney', 'wining'), ('wining', 'number'), ('number', 'wot'), ('wot', 'nextcongrats'), ('nextcongrats', 'mobile'), ('rental', 'bxswant'), ('bxswant', 'cock'), ('cock', 'hubby'), ('hubby', 'away'), ('away', 'need'), ('need', 'real'), ('real', 'man'), ('man', 'satisfy'), ('satisfy', 'text'), ('text', 'wife'), ('wife', '<num>'), ('<num>', 'string'), ('string', 'action'), ('action', 'text'), ('text', 'rec'), ('rec', '£<num>ea'), ('£<num>ea', 'outbox'), ('outbox', 'lawgre'), ('lawgre', 'new'), ('new', 'service'), ('live', 'sex'), ('sex', 'video'), ('video', 'chat'), ('chat', 'mob'), ('mob', 'see'), ('see', 'sexiest'), ('sexiest', 'dirtiest'), ('dirtiest', 'girl'), ('girl', 'live'), ('live', 'phone'), ('phone', 'detail'), ('detail', 'text'), ('text', 'horny'), ('horny', '<num>'), ('<num>', 'cancel'), ('stop', '<num>freeman'), ('<num>freeman', 'baby'), ('baby', 'wow'), ('wow', 'got'), ('got', 'new'), ('new', 'cam'), ('wanna', 'hot'), ('hot', 'pic'), ('pic', 'fancy'), ('chat', 'win'), ('win', 'butt'), ('butt', 'reply'), ('reply', 'chat'), ('<num>', 'help'), ('msg<num>p', 'prevwanna'), ('prevwanna', 'laugh'), ('laugh', 'try'), ('try', 'chitchat'), ('chitchat', 'mobile'), ('mobile', 'logon'), ('logon', 'toting'), ('toting', 'word'), ('word', 'chat'), ('chat', 'send'), ('<num>', 'london'), ('london', '<num>pmsg'), ('<num>pmsg', 'rcdurgent'), ('rcdurgent', 'attempt'), ('contact', '£<num>call'), ('£<num>call', '<num>'), ('<num>', '<num>tcsbcm<num>wc<num>n<num>xxcallcost<num>ppmmobilesvary'), ('<num>tcsbcm<num>wc<num>n<num>xxcallcost<num>ppmmobilesvary', 'maxcongratulation'), ('maxcongratulation', 'awarded'), ('music', '<num>contract'), ('<num>contract', 'mobile'), ('month', 'latest'), ('motorola', 'nokia'), ('nokia', 'etc'), ('tariff', 'text'), ('callback', 'remove'), ('remove', 'recordurgent'), ('recordurgent', 'call'), ('twp', 'ppmchance'), ('ppmchance', 'win'), ('<num>', '<num>x<num>pwksecret'), ('<num>x<num>pwksecret', 'admirer'), ('specifically', '<num>stopsms<num>ppmmilf'), ('<num>stopsms<num>ppmmilf', 'age'), ('increment', 'help<num>well'), ('help<num>well', 'done'), ('w<num>wx', '£<num>freeman'), ('£<num>freeman', 'text'), ('claim', 'reward'), ('reward', 'hour'), ('hour', 'talk'), ('time', 'use'), ('use', 'phone'), ('phone', 'subscribe<num>gbpmnth'), ('subscribe<num>gbpmnth', 'inc'), ('inc', 'stoptxtstopsunshine'), ('stoptxtstopsunshine', 'quiz'), ('quiz', 'win'), ('win', 'super'), ('super', 'sony'), ('sony', 'recorder'), ('recorder', 'cannae'), ('cannae', 'capital'), ('capital', 'australia'), ('australia', 'text'), ('text', 'quiz'), ('quiz', '<num>please'), ('£<num>', 'prizetoday'), ('prizetoday', 'soda'), ('reward', 'match'), ('rate', 'applyripped'), ('applyripped', 'get'), ('get', 'mobile'), ('content', 'wwwclubmobycom'), ('wwwclubmobycom', 'call'), ('<num>', 'polytruepixringtonesgames'), ('polytruepixringtonesgames', 'six'), ('six', 'downloadstried'), ('downloadstried', 'contact'), ('call', '<num>£<num>'), ('<num>£<num>', 'xmas'), ('xmas', 'reward'), ('reward', 'waiting'), ('waiting', 'computer'), ('computer', 'randomly'), ('randomly', 'picked'), ('picked', 'loyal'), ('loyal', 'mobile'), ('mobile', 'customer'), ('customer', 'receive'), ('reward', 'call'), ('call', '<num>private'), ('expires', '<num>customer'), ('<num>customer', 'service'), ('reschedule', 'ref<num>babe'), ('ref<num>babe', 'chloe'), ('chloe', 'smashed'), ('smashed', 'saturday'), ('saturday', 'night'), ('night', 'great'), ('great', 'weekend'), ('weekend', 'missing'), ('missing', 'visionsmscom'), ('stop', '<num>ptexturgent'), ('<num>ptexturgent', 'mobile'), ('<num>', 'box<num>quwin'), ('box<num>quwin', 'winner'), ('visit', 'wwwwin<num>coukfree'), ('wwwwin<num>coukfree', 'game'), ('game', 'get'), ('get', 'cayman'), ('cayman', 'golf'), ('golf', 'free'), ('arcade', 'get'), ('get', 'game'), ('game', 'setting'), ('setting', 'reply'), ('reply', 'post'), ('post', 'save'), ('save', 'active'), ('active', 'press'), ('press', 'key'), ('key', 'arcade'), ('arcade', 'termsapplymobile'), ('termsapplymobile', 'myth'), ('latest', 'cameravideo'), ('free', 'keep'), ('keep', 'number'), ('number', 'get'), ('get', 'extra'), ('extra', 'free'), ('minute', 'text'), ('yes', 'callbuy'), ('callbuy', 'space'), ('setting', 'purchasecamera'), ('purchasecamera', 'awarded'), ('within', 'dayweekly'), ('dayweekly', 'colombo'), ('colombo', 'tone'), ('tone', 'ready'), ('ready', 'download'), ('download', 'week'), ('week', 'new'), ('tone', 'include'), ('include', 'crazy'), ('crazy', 'frugal'), ('frugal', 'akonlonely'), ('akonlonely', 'black'), ('black', 'piedmont'), ('piedmont', 'infocashbincouk'), ('infocashbincouk', 'get'), ('get', 'lot'), ('lot', 'cash'), ('cash', 'weekend'), ('weekend', 'wwwcashbincouk'), ('wwwcashbincouk', 'dear'), ('dear', 'welcome'), ('welcome', 'weekend'), ('weekend', 'got'), ('got', 'biggest'), ('biggest', 'best'), ('best', 'ever'), ('ever', 'cash'), ('cash', 'give'), ('give', 'awayurgent'), ('awayurgent', 'mobile'), ('valid', 'ppmthanks'), ('ppmthanks', 'continued'), ('continued', 'support'), ('support', 'question'), ('question', 'week'), ('week', 'enter'), ('cash', 'name'), ('name', 'new'), ('new', 'president'), ('president', 'text'), ('text', '<num>unique'), ('<num>unique', 'user'), ('user', '<num>'), ('<num>', 'removal'), ('service', '<num>urgent'), ('call', '<num>from'), ('<num>from', 'landline'), ('twp', 'ppmurgent'), ('ppmurgent', 'attempt'), ('call', '<num>santa'), ('<num>santa', 'calling'), ('calling', 'would'), ('would', 'little'), ('little', 'one'), ('one', 'like'), ('like', 'call'), ('call', 'santa'), ('santa', 'xmas'), ('xmas', 'eve'), ('eve', 'call'), ('<num>', 'book'), ('book', 'time'), ('time', 'calls<num>ppm'), ('calls<num>ppm', 'last'), ('last', 'mind'), ('mind', 'wwwsantacallingcomprivate'), ('wwwsantacallingcomprivate', '<num>'), ('expires', '<num>check'), ('<num>check', 'choose'), ('choose', 'babe'), ('babe', 'video'), ('video', 'smsshsexnetun'), ('smsshsexnetun', 'fgkslpopw'), ('fgkslpopw', 'fgkslpowinner'), ('fgkslpowinner', 'ave'), ('ave', 'specially'), ('claim', '<num>pminnew'), ('<num>pminnew', 'mobile'), ('collect', 'today'), ('today', 'www<num>tcbiz'), ('<num>gbpmtmsg<num>', 'auctionprivate'), ('auctionprivate', '<num>'), ('expires', '<num>valued'), ('<num>valued', 'danone'), ('<num>free', 'messagethanks'), ('messagethanks', 'using'), ('using', 'auction'), ('auction', 'subscription'), ('service', '<num>pmsgrcvd'), ('<num>pmsgrcvd', 'skip'), ('skip', 'auction'), ('text', 'unsubscribe'), ('stop', 'customercare'), ('customercare', '<num>bored'), ('<num>bored', 'housewife'), ('spain', 'landlinelyricalladie<num>f'), ('landlinelyricalladie<num>f', 'inviting'), ('see', 'wwwsmsacuhmmross'), ('wwwsmsacuhmmross', 'stop'), ('find', '<num>polyphonic'), ('<num>polyphonic', 'tone'), ('reply', 'infotoday'), ('infotoday', 'danone'), ('£<num>', 'awardwant'), ('awardwant', 'latest'), ('latest', 'video'), ('rental', 'reply'), ('delivery', 'tomorrowguaranteed'), ('tomorrowguaranteed', 'latest'), ('ldnw<num>h', '<num>pmtmsgrcvd<num>free'), ('<num>pmtmsgrcvd<num>free', 'polyphonic'), ('polyphonic', 'ringtone'), ('text', 'super'), ('super', '<num>'), ('free', 'poly'), ('week', 'pobox<num>'), ('pobox<num>', 'subscription'), ('subscription', '<num>pwwarner'), ('<num>pwwarner', 'village'), ('village', '<num>'), ('<num>', 'colin'), ('colin', 'farrell'), ('farrell', 'swat'), ('swat', 'wend'), ('wend', 'warner'), ('warner', 'village'), ('village', 'get'), ('free', 'med'), ('med', 'popcornjust'), ('popcornjust', 'show'), ('show', 'msgticketkioskvalid'), ('msgticketkioskvalid', '<num>'), ('<num>', 'kiosk'), ('kiosk', 'reply'), ('reply', 'sony'), ('sony', 'film'), ('film', 'offergoal'), ('offergoal', 'arsenal'), ('arsenal', 'henry'), ('henry', 'liverpool'), ('liverpool', 'henry'), ('henry', 'score'), ('score', 'simple'), ('simple', 'shot'), ('shot', 'yard'), ('yard', 'pas'), ('pas', 'bergamo'), ('bergamo', 'give'), ('give', 'arsenal'), ('arsenal', 'goal'), ('goal', 'margin'), ('margin', 'mindtime'), ('mindtime', 'tried'), ('min', 'btnationalrategot'), ('btnationalrategot', 'take'), ('lucozadecoukwrc', 'couldsexychat'), ('couldsexychat', 'girl'), ('girl', 'waiting'), ('text', 'great'), ('great', 'night'), ('night', 'chatting'), ('chatting', 'send'), ('stop', 'servicegreat'), ('servicegreat', 'news'), ('live', 'operatoramy'), ('operatoramy', 'sending'), ('sending', 'free'), ('phone', 'number'), ('number', 'couple'), ('couple', 'day'), ('day', 'give'), ('give', 'access'), ('access', 'adult'), ('adult', 'partywelcome'), ('partywelcome', 'select'), ('select', 'service'), ('service', 'added'), ('added', 'benefit'), ('benefit', 'call'), ('call', 'specially'), ('specially', 'trained'), ('trained', 'advisor'), ('advisor', 'free'), ('mobile', 'diallingdear'), ('diallingdear', 'voucher'), ('holder', 'next'), ('next', 'meal'), ('meal', 'use'), ('use', 'following'), ('following', 'link'), ('link', 'enjoy'), ('enjoy', 'dining'), ('dining', 'experiencehttpwwwvouch<num>mecometlpdiningaspurgent'), ('experiencehttpwwwvouch<num>mecometlpdiningaspurgent', 'trying'), ('<num>', 'validdonate'), ('validdonate', '£<num>'), ('£<num>', 'united'), ('united', 'asian'), ('asian', 'tsunami'), ('tsunami', 'disaster'), ('disaster', 'support'), ('support', 'fund'), ('fund', 'texting'), ('texting', 'donate'), ('donate', '<num>'), ('£<num>', 'added'), ('added', 'next'), ('next', 'billgolding'), ('billgolding', 'inviting'), ('see', 'wwwsmsacugoldviking'), ('wwwsmsacugoldviking', 'stop'), ('find', '<num>phone'), ('<num>phone', '£<num>'), ('award', 'today'), ('today', 'soda'), ('ending', 'xxx'), ('xxx', 'selected'), ('rate', 'appcongratulation'), ('appcongratulation', 'awarded'), ('voucher', '£<num>'), ('guaranteed', 'reentry'), ('reentry', '£<num>'), ('draw', 'music'), ('tic', 'wwwldewcom<num>win<num>ppmx<num>age<num>guaranteed'), ('wwwldewcom<num>win<num>ppmx<num>age<num>guaranteed', '£<num>'), ('<num>am<num>pm', 'costdear'), ('costdear', '<num>xxxxxxx'), ('<num>pmsgrcvdhgsuite<num>landsroww<num>j<num>hl', 'lencasablanca'), ('lencasablanca', 'currently'), ('<num>', '<num>pmeg'), ('<num>pmeg', '<num>'), ('identifier', 'code<num>xx<num>'), ('code<num>xx<num>', 'expires'), ('expires', '<num>would'), ('<num>would', 'like'), ('like', 'tell'), ('tell', 'deepest'), ('deepest', 'darkest'), ('darkest', 'fantasy'), ('<num>', 'nat'), ('nat', 'ratebelieve'), ('ratebelieve', 'true'), ('fwd', 'septetnatalie'), ('septetnatalie', 'inviting'), ('see', 'wwwsmsacunatalie<num>k<num>'), ('wwwsmsacunatalie<num>k<num>', 'stop'), ('find', '<num>hamster'), ('<num>hamster', 'get'), ('free', 'wallpaper'), ('wallpaper', 'text'), ('text', 'heart'), ('heart', '<num>'), ('<num>', 'apply'), ('apply', 'need'), ('call', '<num>double'), ('<num>', 'call<num>optoutlf<num>free'), ('call<num>optoutlf<num>free', 'video'), ('<num>', 'call<num>optout<num><num>'), ('call<num>optout<num><num>', '<num>£<num>'), ('<num>£<num>', 'break'), ('break', 'accommodationvouchers'), ('accommodationvouchers', 'term'), ('condition', 'apply'), ('apply', 'claim'), ('claim', 'mustprovide'), ('mustprovide', 'claim'), ('number', '<num>allie'), ('<num>allie', 'moon'), ('profit', 'charitywin'), ('charitywin', '£<num>'), ('£<num>', 'shopping'), ('starting', 'play'), ('play', 'text'), ('single', 'tscs<num>'), ('tscs<num>', 'twink'), ('twink', 'age'), ('age', '£<num>perweeksubattempt'), ('£<num>perweeksubattempt', 'contract'), ('contract', 'week'), ('week', 'top'), ('top', 'prize'), ('prize', 'either'), ('call', '<num>themobhit'), ('<num>themobhit', 'link'), ('link', 'get'), ('get', 'premium'), ('premium', 'pink'), ('pink', 'panther'), ('panther', 'game'), ('game', 'new'), ('new', 'sugababes'), ('sugababes', 'crazy'), ('crazy', 'zebra'), ('zebra', 'animation'), ('animation', 'bass'), ('bass', 'hood'), ('hood', 'wallpaper'), ('wallpaper', 'freemag'), ('freemag', 'mobile'), ('content', 'order'), ('order', 'resent'), ('resent', 'previous'), ('previous', 'attempt'), ('attempt', 'failed'), ('failed', 'due'), ('due', 'network'), ('network', 'error'), ('error', 'query'), ('query', 'customersqueriesnetvisionukcomnew'), ('customersqueriesnetvisionukcomnew', 'message'), ('call', '<num>december'), ('<num>december', 'mobile'), ('free', '<num>get'), ('rate', 'applyprivate'), ('applyprivate', '<num>'), ('account', 'statementcosta'), ('statementcosta', 'del'), ('cost£<num>pm', 'maximinfree'), ('maximinfree', 'week'), ('wow', 'norm<num>ptoneget'), ('norm<num>ptoneget', 'garden'), ('garden', 'ready'), ('ready', 'summer'), ('free', 'selection'), ('selection', 'summer'), ('summer', 'bulb'), ('bulb', 'seed'), ('seed', 'worth'), ('£<num>', 'scotsman'), ('scotsman', 'saturday'), ('saturday', 'stop'), ('stop', 'notxtcoukcongrats'), ('notxtcoukcongrats', 'mobile'), ('rental', 'bxssims'), ('bxssims', 'auction'), ('nokia', '<num>free'), ('<num>', 'detailrecord'), ('detailrecord', 'indicate'), ('indicate', 'maybe'), ('maybe', 'entitled'), ('pound', 'compensation'), ('compensation', 'accident'), ('reply', 'claim'), ('claim', 'mag'), ('mag', 'stop'), ('text', 'stopspook'), ('stopspook', 'mob'), ('per', 'logiccall'), ('logiccall', 'germany'), ('direct', 'access'), ('access', 'wwwtelediscountcoukcosta'), ('wwwtelediscountcoukcosta', 'del'), ('cost£<num>pm', 'maximinmobile'), ('maximinmobile', 'month'), ('<num>', '<num>stoptxtnatalia'), ('<num>stoptxtnatalia', 'inviting'), ('find', '<num>private'), ('statement', 'one'), ('one', 'show'), ('expires', '<num>chosen'), ('<num>chosen', 'receive'), ('mobile', 'customersomeone'), ('customersomeone', 'know'), ('know', 'trying'), ('contact', 'via'), ('via', 'dating'), ('service', 'find'), ('find', 'could'), ('could', 'call'), ('<num>', 'box<num>sk<num>churgent'), ('box<num>sk<num>churgent', 'please'), ('box', 'm<num>xyprize'), ('m<num>xyprize', 'another'), ('back', 'busyurgent'), ('busyurgent', 'mobile'), ('valid', 'ppmurgent'), ('ppmurgent', 'week'), ('box', '<num>ldnw<num>a<num>rw<num>urgent'), ('<num>ldnw<num>a<num>rw<num>urgent', 'please'), ('box', 'm<num>xy'), ('m<num>xy', 'ppmxmas'), ('ppmxmas', 'incoming'), ('<num>', 'inc'), ('inc', 'wwwldewcom<num>win<num>ppmx<num>age<num>subscriptionget'), ('wwwldewcom<num>win<num>ppmx<num>age<num>subscriptionget', 'official'), ('w<num>wx', '£<num>subscribed'), ('£<num>subscribed', 'textbook'), ('textbook', 'wkly'), ('comp', 'free'), ('free', 'question'), ('question', 'follows'), ('follows', 'subsequent'), ('subsequent', 'charged<num>pmsg<num>'), ('charged<num>pmsg<num>', 'unsubscribe'), ('stop', '<num>custcare'), ('<num>custcare', '<num>call'), ('<num>call', '<num>'), ('send', 'girl'), ('girl', 'erotic'), ('erotic', 'ecstasy'), ('ecstasy', 'spain'), ('nat', 'ratecamera'), ('ratecamera', 'awarded'), ('within', 'day£<num>'), ('day£<num>', 'xmas'), ('call', '<num>important'), ('<num>important', 'message'), ('message', 'final'), ('final', 'contact'), ('contact', 'attempt'), ('attempt', 'important'), ('important', 'message'), ('message', 'waiting'), ('waiting', 'customer'), ('customer', 'claim'), ('claim', 'dept'), ('dept', 'expires'), ('expires', '<num>'), ('call', '<num>dating'), ('<num>dating', 'two'), ('two', 'started'), ('started', 'sent'), ('sent', 'text'), ('talk', 'sport'), ('sport', 'radio'), ('radio', 'last'), ('last', 'week'), ('week', 'connection'), ('connection', 'think'), ('think', 'coincidencecurrent'), ('coincidencecurrent', 'leading'), ('leading', 'bid'), ('bid', 'pause'), ('pause', 'auction'), ('auction', 'send'), ('send', 'customer'), ('care', '<num>free'), ('entry', 'prize'), ('prize', 'wkly'), ('win', 'latest'), ('pop', '£<num>'), ('every', 'watt'), ('watt', 'great'), ('great', '<num>'), ('<num>', 'httpwwwgr<num>prizescom'), ('httpwwwgr<num>prizescom', '<num>new'), ('<num>new', 'message'), ('book', 'timeguaranteed'), ('timeguaranteed', '<num>'), ('award', 'maybe'), ('maybe', 'even'), ('cash', 'claim'), ('<num>', 'legitimate'), ('legitimate', 'freephone'), ('freephone', 'number'), ('number', 'wat'), ('wat', 'thinklatest'), ('thinklatest', 'news'), ('news', 'police'), ('police', 'station'), ('station', 'toilet'), ('toilet', 'stolen'), ('stolen', 'cop'), ('cop', 'nothingsparkling'), ('nothingsparkling', 'shopping'), ('shopping', 'break'), ('break', 'per'), ('per', 'person'), ('person', 'call'), ('<num>', 'visit'), ('visit', 'wwwshortbreaksorgukdecember'), ('wwwshortbreaksorgukdecember', 'mobile'), ('free', '<num>text'), ('<num>text', 'call'), ('inc', 'stoptxtstop'), ('stoptxtstop', 'wwwgambtvhittite'), ('wwwgambtvhittite', 'widelivecomindex'), ('widelivecomindex', 'wmlid<num>ad<num>a<num>firsttrue¡c'), ('wmlid<num>ad<num>a<num>firsttrue¡c', 'ringtonesget'), ('ringtonesget', 'garden'), ('stop', 'notxtcoukurgent'), ('notxtcoukurgent', 'last'), ('cash', 'spanish'), ('holiday', 'call'), ('claim', 'rate'), ('rate', 'ppmurgent'), ('ppmurgent', 'trying'), ('key', 'validper'), ('validper', 'min'), ('min', 'call'), ('call', 'germany'), ('germany', '<num>'), ('line', 'per'), ('min', 'check'), ('check', 'planettalkinstantcom'), ('planettalkinstantcom', 'info'), ('stop', 'optmarvel'), ('optmarvel', 'mobile'), ('mobile', 'play'), ('play', 'official'), ('official', 'ultimate'), ('ultimate', 'epidermal'), ('epidermal', 'game'), ('game', '£<num>'), ('£<num>', 'mobile'), ('mobile', 'right'), ('right', 'text'), ('text', 'spider'), ('spider', '<num>'), ('<num>', 'game'), ('game', 'send'), ('free', 'ball'), ('ball', 'wallpapersims'), ('wallpapersims', 'service'), ('<num>cm<num>', 'maeprivate'), ('maeprivate', '<num>'), ('expires', '<num>awarded'), ('ppm', 'p£<num>private'), ('p£<num>private', '<num>'), ('<num>want', 'explicit'), ('cost', 'spain'), ('spain', 'sex'), ('sex', 'box'), ('<num>', 'xxxasked'), ('xxxasked', 'mobile'), ('<num>', 'chatlines'), ('chatlines', 'incl'), ('incl', 'free'), ('free', 'mind'), ('mind', 'india'), ('india', 'serve'), ('serve', 'see'), ('see', 'yes'), ('yes', 'leer'), ('leer', 'got'), ('got', 'mega'), ('mega', 'bill'), ('bill', 'done'), ('done', 'give'), ('give', 'shit'), ('shit', 'bailiff'), ('bailiff', 'due'), ('due', 'day'), ('day', '£<num>'), ('£<num>', 'want'), ('want', '£<num>contract'), ('£<num>contract', 'mobile'), ('remove', 'recordreminder'), ('recordreminder', 'get'), ('get', 'pound'), ('pound', 'free'), ('call', 'credit'), ('credit', 'detail'), ('detail', 'great'), ('great', 'offer'), ('offer', 'plus'), ('plus', 'reply'), ('reply', 'text'), ('text', 'valid'), ('valid', 'name'), ('name', 'house'), ('house', 'postcodetime'), ('postcodetime', 'tried'), ('£<num>', 'pound'), ('minute', 'btnationalrate')])"
      ]
     },
     "execution_count": 31,
     "metadata": {},
     "output_type": "execute_result"
    }
   ],
   "source": [
    "spam_bigrams.keys()"
   ]
  },
  {
   "cell_type": "code",
   "execution_count": 40,
   "metadata": {},
   "outputs": [],
   "source": [
    "df_spam_bigrams = pd.DataFrame({\"bigram\": spam_bigrams.keys(), \"count\": spam_bigrams.values()})\n",
    "df_spam_bigrams.to_csv(\"spam_bigrams.csv\")\n",
    "df_spam_trigrams = pd.DataFrame({\"trigram\": spam_trigrams.keys(), \"count\": spam_trigrams.values()})\n",
    "df_spam_trigrams.to_csv(\"spam_trigrams.csv\")\n",
    "df_ham_bigrams = pd.DataFrame({\"bigrams\": ham_bigrams.keys(), \"count\": ham_bigrams.values()})\n",
    "df_ham_bigrams.to_csv(\"ham_bigrams.csv\")\n",
    "df_ham_trigrams = pd.DataFrame({\"trigrams\": ham_trigrams.keys(), \"count\": ham_trigrams.values()})\n",
    "df_ham_trigrams.to_csv(\"ham_trigrams.csv\")"
   ]
  },
  {
   "cell_type": "code",
   "execution_count": 52,
   "metadata": {},
   "outputs": [
    {
     "data": {
      "text/plain": [
       "658"
      ]
     },
     "execution_count": 52,
     "metadata": {},
     "output_type": "execute_result"
    }
   ],
   "source": [
    "df_spam_bigrams.sort_values(\"count\",ascending=False).head(20)[\"count\"].sum()"
   ]
  },
  {
   "cell_type": "code",
   "execution_count": 54,
   "metadata": {},
   "outputs": [
    {
     "data": {
      "text/plain": [
       "(5430, 2)"
      ]
     },
     "execution_count": 54,
     "metadata": {},
     "output_type": "execute_result"
    }
   ],
   "source": [
    "df_spam_bigrams.shape"
   ]
  },
  {
   "cell_type": "code",
   "execution_count": 9,
   "metadata": {},
   "outputs": [
    {
     "data": {
      "text/html": [
       "<div>\n",
       "<style scoped>\n",
       "    .dataframe tbody tr th:only-of-type {\n",
       "        vertical-align: middle;\n",
       "    }\n",
       "\n",
       "    .dataframe tbody tr th {\n",
       "        vertical-align: top;\n",
       "    }\n",
       "\n",
       "    .dataframe thead th {\n",
       "        text-align: right;\n",
       "    }\n",
       "</style>\n",
       "<table border=\"1\" class=\"dataframe\">\n",
       "  <thead>\n",
       "    <tr style=\"text-align: right;\">\n",
       "      <th></th>\n",
       "      <th>clean_msg</th>\n",
       "      <th>char_count</th>\n",
       "      <th>word_count</th>\n",
       "      <th>digit_count</th>\n",
       "      <th>question_count</th>\n",
       "      <th>exclamation_count</th>\n",
       "      <th>dollar_count</th>\n",
       "      <th>cap_ratio</th>\n",
       "      <th>unique_words</th>\n",
       "      <th>repitition_factor</th>\n",
       "      <th>sentiment</th>\n",
       "    </tr>\n",
       "  </thead>\n",
       "  <tbody>\n",
       "    <tr>\n",
       "      <th>0</th>\n",
       "      <td>point crazy available bug great world buffet c...</td>\n",
       "      <td>111</td>\n",
       "      <td>10</td>\n",
       "      <td>0</td>\n",
       "      <td>0</td>\n",
       "      <td>0</td>\n",
       "      <td>0</td>\n",
       "      <td>0.027027</td>\n",
       "      <td>10</td>\n",
       "      <td>1.000000</td>\n",
       "      <td>0.4019</td>\n",
       "    </tr>\n",
       "    <tr>\n",
       "      <th>1</th>\n",
       "      <td>lar joking</td>\n",
       "      <td>29</td>\n",
       "      <td>2</td>\n",
       "      <td>0</td>\n",
       "      <td>0</td>\n",
       "      <td>0</td>\n",
       "      <td>0</td>\n",
       "      <td>0.068966</td>\n",
       "      <td>2</td>\n",
       "      <td>1.000000</td>\n",
       "      <td>0.2263</td>\n",
       "    </tr>\n",
       "    <tr>\n",
       "      <th>2</th>\n",
       "      <td>free entry wkly comp win cup final tit list ma...</td>\n",
       "      <td>155</td>\n",
       "      <td>20</td>\n",
       "      <td>25</td>\n",
       "      <td>0</td>\n",
       "      <td>0</td>\n",
       "      <td>0</td>\n",
       "      <td>0.064516</td>\n",
       "      <td>17</td>\n",
       "      <td>1.176471</td>\n",
       "      <td>0.7964</td>\n",
       "    </tr>\n",
       "    <tr>\n",
       "      <th>3</th>\n",
       "      <td>dun say early hor already say</td>\n",
       "      <td>49</td>\n",
       "      <td>6</td>\n",
       "      <td>0</td>\n",
       "      <td>0</td>\n",
       "      <td>0</td>\n",
       "      <td>0</td>\n",
       "      <td>0.040816</td>\n",
       "      <td>5</td>\n",
       "      <td>1.200000</td>\n",
       "      <td>0.0000</td>\n",
       "    </tr>\n",
       "    <tr>\n",
       "      <th>4</th>\n",
       "      <td>nah think life around though</td>\n",
       "      <td>61</td>\n",
       "      <td>5</td>\n",
       "      <td>0</td>\n",
       "      <td>0</td>\n",
       "      <td>0</td>\n",
       "      <td>0</td>\n",
       "      <td>0.032787</td>\n",
       "      <td>5</td>\n",
       "      <td>1.000000</td>\n",
       "      <td>-0.1027</td>\n",
       "    </tr>\n",
       "    <tr>\n",
       "      <th>...</th>\n",
       "      <td>...</td>\n",
       "      <td>...</td>\n",
       "      <td>...</td>\n",
       "      <td>...</td>\n",
       "      <td>...</td>\n",
       "      <td>...</td>\n",
       "      <td>...</td>\n",
       "      <td>...</td>\n",
       "      <td>...</td>\n",
       "      <td>...</td>\n",
       "      <td>...</td>\n",
       "    </tr>\n",
       "    <tr>\n",
       "      <th>5569</th>\n",
       "      <td>time tried contact £&lt;num&gt; pound prize claim ea...</td>\n",
       "      <td>160</td>\n",
       "      <td>13</td>\n",
       "      <td>21</td>\n",
       "      <td>0</td>\n",
       "      <td>1</td>\n",
       "      <td>0</td>\n",
       "      <td>0.056250</td>\n",
       "      <td>13</td>\n",
       "      <td>1.000000</td>\n",
       "      <td>0.7351</td>\n",
       "    </tr>\n",
       "    <tr>\n",
       "      <th>5570</th>\n",
       "      <td>going esplanade home</td>\n",
       "      <td>36</td>\n",
       "      <td>3</td>\n",
       "      <td>0</td>\n",
       "      <td>1</td>\n",
       "      <td>0</td>\n",
       "      <td>0</td>\n",
       "      <td>0.027778</td>\n",
       "      <td>3</td>\n",
       "      <td>1.000000</td>\n",
       "      <td>0.0000</td>\n",
       "    </tr>\n",
       "    <tr>\n",
       "      <th>5571</th>\n",
       "      <td>pity mood sony suggestion</td>\n",
       "      <td>57</td>\n",
       "      <td>4</td>\n",
       "      <td>0</td>\n",
       "      <td>1</td>\n",
       "      <td>0</td>\n",
       "      <td>0</td>\n",
       "      <td>0.035088</td>\n",
       "      <td>4</td>\n",
       "      <td>1.000000</td>\n",
       "      <td>-0.2960</td>\n",
       "    </tr>\n",
       "    <tr>\n",
       "      <th>5572</th>\n",
       "      <td>guy bitching acted like would interested buyin...</td>\n",
       "      <td>125</td>\n",
       "      <td>13</td>\n",
       "      <td>0</td>\n",
       "      <td>0</td>\n",
       "      <td>0</td>\n",
       "      <td>0</td>\n",
       "      <td>0.016000</td>\n",
       "      <td>13</td>\n",
       "      <td>1.000000</td>\n",
       "      <td>0.7506</td>\n",
       "    </tr>\n",
       "    <tr>\n",
       "      <th>5573</th>\n",
       "      <td>roll true name</td>\n",
       "      <td>26</td>\n",
       "      <td>3</td>\n",
       "      <td>0</td>\n",
       "      <td>0</td>\n",
       "      <td>0</td>\n",
       "      <td>0</td>\n",
       "      <td>0.076923</td>\n",
       "      <td>3</td>\n",
       "      <td>1.000000</td>\n",
       "      <td>0.4215</td>\n",
       "    </tr>\n",
       "  </tbody>\n",
       "</table>\n",
       "<p>5574 rows × 11 columns</p>\n",
       "</div>"
      ],
      "text/plain": [
       "                                              clean_msg  char_count  \\\n",
       "0     point crazy available bug great world buffet c...         111   \n",
       "1                                            lar joking          29   \n",
       "2     free entry wkly comp win cup final tit list ma...         155   \n",
       "3                         dun say early hor already say          49   \n",
       "4                          nah think life around though          61   \n",
       "...                                                 ...         ...   \n",
       "5569  time tried contact £<num> pound prize claim ea...         160   \n",
       "5570                               going esplanade home          36   \n",
       "5571                          pity mood sony suggestion          57   \n",
       "5572  guy bitching acted like would interested buyin...         125   \n",
       "5573                                     roll true name          26   \n",
       "\n",
       "      word_count  digit_count  question_count  exclamation_count  \\\n",
       "0             10            0               0                  0   \n",
       "1              2            0               0                  0   \n",
       "2             20           25               0                  0   \n",
       "3              6            0               0                  0   \n",
       "4              5            0               0                  0   \n",
       "...          ...          ...             ...                ...   \n",
       "5569          13           21               0                  1   \n",
       "5570           3            0               1                  0   \n",
       "5571           4            0               1                  0   \n",
       "5572          13            0               0                  0   \n",
       "5573           3            0               0                  0   \n",
       "\n",
       "      dollar_count  cap_ratio  unique_words  repitition_factor  sentiment  \n",
       "0                0   0.027027            10           1.000000     0.4019  \n",
       "1                0   0.068966             2           1.000000     0.2263  \n",
       "2                0   0.064516            17           1.176471     0.7964  \n",
       "3                0   0.040816             5           1.200000     0.0000  \n",
       "4                0   0.032787             5           1.000000    -0.1027  \n",
       "...            ...        ...           ...                ...        ...  \n",
       "5569             0   0.056250            13           1.000000     0.7351  \n",
       "5570             0   0.027778             3           1.000000     0.0000  \n",
       "5571             0   0.035088             4           1.000000    -0.2960  \n",
       "5572             0   0.016000            13           1.000000     0.7506  \n",
       "5573             0   0.076923             3           1.000000     0.4215  \n",
       "\n",
       "[5574 rows x 11 columns]"
      ]
     },
     "execution_count": 9,
     "metadata": {},
     "output_type": "execute_result"
    }
   ],
   "source": [
    "f.feature_eng()"
   ]
  },
  {
   "cell_type": "code",
   "execution_count": 10,
   "metadata": {},
   "outputs": [
    {
     "data": {
      "text/html": [
       "<div>\n",
       "<style scoped>\n",
       "    .dataframe tbody tr th:only-of-type {\n",
       "        vertical-align: middle;\n",
       "    }\n",
       "\n",
       "    .dataframe tbody tr th {\n",
       "        vertical-align: top;\n",
       "    }\n",
       "\n",
       "    .dataframe thead th {\n",
       "        text-align: right;\n",
       "    }\n",
       "</style>\n",
       "<table border=\"1\" class=\"dataframe\">\n",
       "  <thead>\n",
       "    <tr style=\"text-align: right;\">\n",
       "      <th></th>\n",
       "      <th>char_count</th>\n",
       "      <th>word_count</th>\n",
       "      <th>digit_count</th>\n",
       "      <th>question_count</th>\n",
       "      <th>exclamation_count</th>\n",
       "      <th>dollar_count</th>\n",
       "      <th>cap_ratio</th>\n",
       "      <th>unique_words</th>\n",
       "      <th>repitition_factor</th>\n",
       "      <th>sentiment</th>\n",
       "    </tr>\n",
       "  </thead>\n",
       "  <tbody>\n",
       "    <tr>\n",
       "      <th>count</th>\n",
       "      <td>5574.000000</td>\n",
       "      <td>5574.000000</td>\n",
       "      <td>5574.000000</td>\n",
       "      <td>5574.000000</td>\n",
       "      <td>5574.000000</td>\n",
       "      <td>5574.000000</td>\n",
       "      <td>5574.000000</td>\n",
       "      <td>5574.000000</td>\n",
       "      <td>5525.000000</td>\n",
       "      <td>5574.000000</td>\n",
       "    </tr>\n",
       "    <tr>\n",
       "      <th>mean</th>\n",
       "      <td>80.445282</td>\n",
       "      <td>7.838536</td>\n",
       "      <td>2.383387</td>\n",
       "      <td>0.278615</td>\n",
       "      <td>0.250628</td>\n",
       "      <td>0.004126</td>\n",
       "      <td>0.065536</td>\n",
       "      <td>7.432723</td>\n",
       "      <td>1.035706</td>\n",
       "      <td>0.192438</td>\n",
       "    </tr>\n",
       "    <tr>\n",
       "      <th>std</th>\n",
       "      <td>59.841841</td>\n",
       "      <td>5.910006</td>\n",
       "      <td>6.252187</td>\n",
       "      <td>0.646640</td>\n",
       "      <td>0.687338</td>\n",
       "      <td>0.079141</td>\n",
       "      <td>0.109099</td>\n",
       "      <td>5.263184</td>\n",
       "      <td>0.085148</td>\n",
       "      <td>0.396152</td>\n",
       "    </tr>\n",
       "    <tr>\n",
       "      <th>min</th>\n",
       "      <td>2.000000</td>\n",
       "      <td>0.000000</td>\n",
       "      <td>0.000000</td>\n",
       "      <td>0.000000</td>\n",
       "      <td>0.000000</td>\n",
       "      <td>0.000000</td>\n",
       "      <td>0.000000</td>\n",
       "      <td>0.000000</td>\n",
       "      <td>1.000000</td>\n",
       "      <td>-0.947700</td>\n",
       "    </tr>\n",
       "    <tr>\n",
       "      <th>25%</th>\n",
       "      <td>36.000000</td>\n",
       "      <td>3.000000</td>\n",
       "      <td>0.000000</td>\n",
       "      <td>0.000000</td>\n",
       "      <td>0.000000</td>\n",
       "      <td>0.000000</td>\n",
       "      <td>0.025641</td>\n",
       "      <td>3.000000</td>\n",
       "      <td>1.000000</td>\n",
       "      <td>0.000000</td>\n",
       "    </tr>\n",
       "    <tr>\n",
       "      <th>50%</th>\n",
       "      <td>61.000000</td>\n",
       "      <td>6.000000</td>\n",
       "      <td>0.000000</td>\n",
       "      <td>0.000000</td>\n",
       "      <td>0.000000</td>\n",
       "      <td>0.000000</td>\n",
       "      <td>0.037267</td>\n",
       "      <td>6.000000</td>\n",
       "      <td>1.000000</td>\n",
       "      <td>0.000000</td>\n",
       "    </tr>\n",
       "    <tr>\n",
       "      <th>75%</th>\n",
       "      <td>122.000000</td>\n",
       "      <td>12.000000</td>\n",
       "      <td>1.000000</td>\n",
       "      <td>0.000000</td>\n",
       "      <td>0.000000</td>\n",
       "      <td>0.000000</td>\n",
       "      <td>0.060606</td>\n",
       "      <td>11.000000</td>\n",
       "      <td>1.000000</td>\n",
       "      <td>0.510600</td>\n",
       "    </tr>\n",
       "    <tr>\n",
       "      <th>max</th>\n",
       "      <td>910.000000</td>\n",
       "      <td>74.000000</td>\n",
       "      <td>47.000000</td>\n",
       "      <td>12.000000</td>\n",
       "      <td>11.000000</td>\n",
       "      <td>3.000000</td>\n",
       "      <td>1.000000</td>\n",
       "      <td>57.000000</td>\n",
       "      <td>2.000000</td>\n",
       "      <td>0.996400</td>\n",
       "    </tr>\n",
       "  </tbody>\n",
       "</table>\n",
       "</div>"
      ],
      "text/plain": [
       "        char_count   word_count  digit_count  question_count  \\\n",
       "count  5574.000000  5574.000000  5574.000000     5574.000000   \n",
       "mean     80.445282     7.838536     2.383387        0.278615   \n",
       "std      59.841841     5.910006     6.252187        0.646640   \n",
       "min       2.000000     0.000000     0.000000        0.000000   \n",
       "25%      36.000000     3.000000     0.000000        0.000000   \n",
       "50%      61.000000     6.000000     0.000000        0.000000   \n",
       "75%     122.000000    12.000000     1.000000        0.000000   \n",
       "max     910.000000    74.000000    47.000000       12.000000   \n",
       "\n",
       "       exclamation_count  dollar_count    cap_ratio  unique_words  \\\n",
       "count        5574.000000   5574.000000  5574.000000   5574.000000   \n",
       "mean            0.250628      0.004126     0.065536      7.432723   \n",
       "std             0.687338      0.079141     0.109099      5.263184   \n",
       "min             0.000000      0.000000     0.000000      0.000000   \n",
       "25%             0.000000      0.000000     0.025641      3.000000   \n",
       "50%             0.000000      0.000000     0.037267      6.000000   \n",
       "75%             0.000000      0.000000     0.060606     11.000000   \n",
       "max            11.000000      3.000000     1.000000     57.000000   \n",
       "\n",
       "       repitition_factor    sentiment  \n",
       "count        5525.000000  5574.000000  \n",
       "mean            1.035706     0.192438  \n",
       "std             0.085148     0.396152  \n",
       "min             1.000000    -0.947700  \n",
       "25%             1.000000     0.000000  \n",
       "50%             1.000000     0.000000  \n",
       "75%             1.000000     0.510600  \n",
       "max             2.000000     0.996400  "
      ]
     },
     "execution_count": 10,
     "metadata": {},
     "output_type": "execute_result"
    }
   ],
   "source": [
    "f.features.describe()"
   ]
  },
  {
   "cell_type": "code",
   "execution_count": 119,
   "metadata": {},
   "outputs": [],
   "source": [
    "description = f.features.describe()"
   ]
  },
  {
   "cell_type": "code",
   "execution_count": 63,
   "metadata": {},
   "outputs": [
    {
     "data": {
      "text/plain": [
       "Index([  27,   54,   73,  135,  158,  186,  198,  227,  238,  253,\n",
       "       ...\n",
       "       5274, 5327, 5342, 5360, 5374, 5402, 5445, 5454, 5476, 5497],\n",
       "      dtype='int64', length=195)"
      ]
     },
     "execution_count": 63,
     "metadata": {},
     "output_type": "execute_result"
    }
   ],
   "source": [
    "f.features[f.features[\"question_count\"] > 1][\"clean_msg\"].index"
   ]
  },
  {
   "cell_type": "code",
   "execution_count": 85,
   "metadata": {},
   "outputs": [
    {
     "data": {
      "text/plain": [
       "['ham', 'spam']"
      ]
     },
     "execution_count": 85,
     "metadata": {},
     "output_type": "execute_result"
    }
   ],
   "source": [
    "df.iloc[f.features[f.features[\"question_count\"] > 0][\"clean_msg\"].index,:][\"Class\"].value_counts().keys().to_list()"
   ]
  },
  {
   "cell_type": "code",
   "execution_count": 133,
   "metadata": {},
   "outputs": [],
   "source": [
    "question_proba = []\n",
    "for i in range(description[\"question_count\"][\"max\"].astype(int)):\n",
    "    values = df.iloc[f.features[f.features[\"question_count\"] > i][\"clean_msg\"].index,:][\"Class\"].value_counts()\n",
    "    try:\n",
    "        hams = values[\"ham\"]\n",
    "    except KeyError:\n",
    "        hams = 0\n",
    "    \n",
    "    try:\n",
    "        spams = values[\"spam\"]\n",
    "    except KeyError:\n",
    "        spams = 0\n",
    "    question_proba.append((spams/(spams + hams))*100)\n",
    "\n",
    "exclamation_proba = []\n",
    "for i in range(description[\"exclamation_count\"][\"max\"].astype(int)):\n",
    "    values = df.iloc[f.features[f.features[\"exclamation_count\"] > i][\"clean_msg\"].index,:][\"Class\"].value_counts()\n",
    "    try:\n",
    "        hams = values[\"ham\"]\n",
    "    except KeyError:\n",
    "        hams = 0\n",
    "    \n",
    "    try:\n",
    "        spams = values[\"spam\"]\n",
    "    except KeyError:\n",
    "        spams = 0\n",
    "    exclamation_proba.append((spams/(spams + hams))*100)\n",
    "\n",
    "dollar_proba = []\n",
    "for i in range(description[\"dollar_count\"][\"max\"].astype(int)):\n",
    "    values = df.iloc[f.features[f.features[\"dollar_count\"] > i][\"clean_msg\"].index,:][\"Class\"].value_counts()\n",
    "    try:\n",
    "        hams = values[\"ham\"]\n",
    "    except KeyError:\n",
    "        hams = 0\n",
    "    \n",
    "    try:\n",
    "        spams = values[\"spam\"]\n",
    "    except KeyError:\n",
    "        spams = 0\n",
    "    dollar_proba.append((spams/(spams + hams))*100)"
   ]
  },
  {
   "cell_type": "code",
   "execution_count": 128,
   "metadata": {},
   "outputs": [
    {
     "data": {
      "text/plain": [
       "11"
      ]
     },
     "execution_count": 128,
     "metadata": {},
     "output_type": "execute_result"
    }
   ],
   "source": [
    "description[\"exclamation_count\"][\"max\"].astype(int)"
   ]
  },
  {
   "cell_type": "code",
   "execution_count": 137,
   "metadata": {},
   "outputs": [
    {
     "data": {
      "image/png": "[encoded data removed]",
      "text/plain": [
       "<Figure size 640x480 with 1 Axes>"
      ]
     },
     "metadata": {},
     "output_type": "display_data"
    }
   ],
   "source": [
    "import matplotlib.pyplot as plt\n",
    "\n",
    "questions = description[\"question_count\"][\"max\"].astype(int)\n",
    "exclamation = description[\"exclamation_count\"][\"max\"].astype(int)\n",
    "dollar = description[\"dollar_count\"][\"max\"].astype(int)\n",
    "\n",
    "\n",
    "plt.plot(range(questions),question_proba, marker='o', label='?')\n",
    "plt.plot(range(exclamation),exclamation_proba, marker='o', label = \"!\")\n",
    "plt.plot(range(dollar),dollar_proba, marker='o', label = \"$\")\n",
    "plt.title(\"Probability of Spam given number of Special characters in SMS\")\n",
    "plt.ylabel(\"Probability of Spam (%)\")\n",
    "plt.xlabel(\"Count of Special character in SMS\")\n",
    "plt.grid(True)\n",
    "plt.legend()\n",
    "plt.savefig(\"exclamation.png\")"
   ]
  },
  {
   "cell_type": "code",
   "execution_count": 52,
   "metadata": {},
   "outputs": [
    {
     "data": {
      "text/plain": [
       "Class\n",
       "ham     4827\n",
       "spam     747\n",
       "Name: count, dtype: int64"
      ]
     },
     "execution_count": 52,
     "metadata": {},
     "output_type": "execute_result"
    }
   ],
   "source": [
    "df[\"Class\"].value_counts()"
   ]
  },
  {
   "cell_type": "code",
   "execution_count": 58,
   "metadata": {},
   "outputs": [
    {
     "data": {
      "text/plain": [
       "0.2857142857142857"
      ]
     },
     "execution_count": 58,
     "metadata": {},
     "output_type": "execute_result"
    }
   ],
   "source": [
    "4/28"
   ]
  },
  {
   "cell_type": "code",
   "execution_count": 59,
   "metadata": {},
   "outputs": [
    {
     "data": {
      "text/plain": [
       "0.1340150699677072"
      ]
     },
     "execution_count": 59,
     "metadata": {},
     "output_type": "execute_result"
    }
   ],
   "source": [
    "747/(747+4827)"
   ]
  },
  {
   "cell_type": "code",
   "execution_count": null,
   "metadata": {},
   "outputs": [],
   "source": [
    "lemma = WordNetLemmatizer()\n",
    "func = lambda x: \" \".join([word for word in x.split() if word not in stopwords])\n",
    "df[\"Message\"].apply(func)"
   ]
  },
  {
   "cell_type": "code",
   "execution_count": 39,
   "metadata": {},
   "outputs": [],
   "source": [
    "word_count = dict()\n",
    "for word in words:\n",
    "    if word_count.keys().__contains__(word) == False:\n",
    "        word_count[word] = words.count(word)\n",
    "    else:\n",
    "        continue"
   ]
  },
  {
   "cell_type": "code",
   "execution_count": null,
   "metadata": {},
   "outputs": [],
   "source": [
    "from nltk import trigrams, bigrams, Trie\n",
    "bi = bigrams(messages[0])\n",
    "tri = trigrams(messages[0])\n",
    "bi = [' '.join(grams) for grams in bi]\n",
    "tri = [' '.join(grams) for grams in tri]\n",
    "trie = Trie(messages)\n",
    "print(*bi)\n",
    "print(*tri)"
   ]
  },
  {
   "cell_type": "code",
   "execution_count": null,
   "metadata": {},
   "outputs": [],
   "source": [
    "trie = Trie(\"she sells sea shells seashore\")\n",
    "from nltk import tree"
   ]
  },
  {
   "cell_type": "code",
   "execution_count": 60,
   "metadata": {},
   "outputs": [],
   "source": [
    "def word_count(word_bank: list) -> list:\n",
    "    pattern = r\"[^\\s./!?]+\"\n",
    "    tokenizer = RegexpTokenizer(pattern)\n",
    "    counts = list()\n",
    "    for msg in word_bank:\n",
    "        words_count = dict()\n",
    "        words = tokenizer.tokenize(msg)\n",
    "        for word in words:\n",
    "            if words_count.keys().__contains__(word) == False:\n",
    "                words_count[word] = words.count(word)\n",
    "            else:\n",
    "                continue\n",
    "        counts.append(words_count)\n",
    "    return counts\n",
    "\n",
    "df[\"counts\"] = word_count(messages)"
   ]
  },
  {
   "cell_type": "code",
   "execution_count": 68,
   "metadata": {},
   "outputs": [],
   "source": [
    "import numpy as np"
   ]
  },
  {
   "cell_type": "code",
   "execution_count": 109,
   "metadata": {},
   "outputs": [],
   "source": [
    "arr = df.Class.values\n",
    "vfunc = np.vectorize(lambda a: a == \"spam\")\n",
    "spams = vfunc(arr).tolist()"
   ]
  },
  {
   "cell_type": "code",
   "execution_count": 91,
   "metadata": {},
   "outputs": [],
   "source": [
    "df.Class = df.Class.astype(bool)"
   ]
  },
  {
   "cell_type": "code",
   "execution_count": 113,
   "metadata": {},
   "outputs": [],
   "source": [
    "df_spam = df[df.Class]\n",
    "df_ham = df[~df.Class]\n"
   ]
  },
  {
   "cell_type": "code",
   "execution_count": null,
   "metadata": {},
   "outputs": [],
   "source": [
    "def cap_count(tokens: list) -> int:\n",
    "    count = int(0)\n",
    "    for word in tokens:\n",
    "        if word.isupper() == True:\n",
    "            count += 1\n",
    "        else:\n",
    "            continue\n",
    "    return count"
   ]
  },
  {
   "cell_type": "code",
   "execution_count": null,
   "metadata": {},
   "outputs": [],
   "source": [
    "tree = nltk.TreebankWordTokenizer()\n",
    "print((tree.tokenize(\"Ibrahim Omer is a very smart person he is the best coder\")))\n"
   ]
  },
  {
   "cell_type": "code",
   "execution_count": null,
   "metadata": {},
   "outputs": [],
   "source": [
    "clean_msg = re.findall(r\"[^\\s.,?!]+\", messages[0])\n",
    "words = wordpunct_tokenize(messages[0])\n",
    "print(words)\n",
    "print(clean_msg)"
   ]
  }
 ],
 "metadata": {
  "kernelspec": {
   "display_name": "engineer",
   "language": "python",
   "name": "python3"
  },
  "language_info": {
   "codemirror_mode": {
    "name": "ipython",
    "version": 3
   },
   "file_extension": ".py",
   "mimetype": "text/x-python",
   "name": "python",
   "nbconvert_exporter": "python",
   "pygments_lexer": "ipython3",
   "version": "3.12.5"
  }
 },
 "nbformat": 4,
 "nbformat_minor": 2
}
