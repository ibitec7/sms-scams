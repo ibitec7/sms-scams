{
 "cells": [
  {
   "cell_type": "code",
   "execution_count": 1,
   "metadata": {},
   "outputs": [],
   "source": [
    "from pyspark.sql import SparkSession"
   ]
  },
  {
   "cell_type": "code",
   "execution_count": 2,
   "metadata": {},
   "outputs": [
    {
     "name": "stderr",
     "output_type": "stream",
     "text": [
      "24/10/07 10:57:39 WARN Utils: Your hostname, omer-Latitude-E5450 resolves to a loopback address: 127.0.1.1; using 172.30.205.243 instead (on interface wlp2s0)\n",
      "24/10/07 10:57:39 WARN Utils: Set SPARK_LOCAL_IP if you need to bind to another address\n",
      "Setting default log level to \"WARN\".\n",
      "To adjust logging level use sc.setLogLevel(newLevel). For SparkR, use setLogLevel(newLevel).\n",
      "24/10/07 10:57:40 WARN NativeCodeLoader: Unable to load native-hadoop library for your platform... using builtin-java classes where applicable\n"
     ]
    }
   ],
   "source": [
    "spark = SparkSession.builder.appName(\"project\").getOrCreate()"
   ]
  },
  {
   "cell_type": "code",
   "execution_count": 9,
   "metadata": {},
   "outputs": [
    {
     "name": "stderr",
     "output_type": "stream",
     "text": [
      "                                                                                \r"
     ]
    },
    {
     "name": "stdout",
     "output_type": "stream",
     "text": [
      "+----+--------------------+--------------+----------------------+-------------------------------+-------------------------+-------------------------------+-------------------------------+-----------------------------+-----------------------+-----------------------------------------------+------------------------+-----------------------+-------------------------+---------------------+---------------------------+\n",
      "|Year|    Poverty category|Household size|Whether CSSA household|Reason(s) of not receiving CSSA|Whether elderly household|Whether single-parent household|Whether household with children|Whether new-arrival household|Whether youth household|Whether household with foreign domestic helpers|Economic characteristics|Housing characteristics|District Council district|Age of household head|Number of households ('000)|\n",
      "+----+--------------------+--------------+----------------------+-------------------------------+-------------------------+-------------------------------+-------------------------------+-----------------------------+-----------------------+-----------------------------------------------+------------------------+-----------------------+-------------------------+---------------------+---------------------------+\n",
      "|2009|After policy inte...|      1-person|        Not applicable|                 Not applicable|           Not applicable|                 Not applicable|                 Not applicable|               Not applicable|         Not applicable|                                 Not applicable|          Not applicable|         Not applicable|           Not applicable|       Not applicable|                       60.6|\n",
      "|2009|After policy inte...|      2-person|        Not applicable|                 Not applicable|           Not applicable|                 Not applicable|                 Not applicable|               Not applicable|         Not applicable|                                 Not applicable|          Not applicable|         Not applicable|           Not applicable|       Not applicable|                      133.9|\n",
      "|2009|After policy inte...|      3-person|        Not applicable|                 Not applicable|           Not applicable|                 Not applicable|                 Not applicable|               Not applicable|         Not applicable|                                 Not applicable|          Not applicable|         Not applicable|           Not applicable|       Not applicable|                       86.2|\n",
      "|2009|After policy inte...|      4-person|        Not applicable|                 Not applicable|           Not applicable|                 Not applicable|                 Not applicable|               Not applicable|         Not applicable|                                 Not applicable|          Not applicable|         Not applicable|           Not applicable|       Not applicable|                       60.2|\n",
      "|2009|After policy inte...|      5-person|        Not applicable|                 Not applicable|           Not applicable|                 Not applicable|                 Not applicable|               Not applicable|         Not applicable|                                 Not applicable|          Not applicable|         Not applicable|           Not applicable|       Not applicable|                       14.6|\n",
      "|2009|After policy inte...|     6-person+|        Not applicable|                 Not applicable|           Not applicable|                 Not applicable|                 Not applicable|               Not applicable|         Not applicable|                                 Not applicable|          Not applicable|         Not applicable|           Not applicable|       Not applicable|                        5.8|\n",
      "|2009|After policy inte...|Not applicable|                    No|                    All reasons|           Not applicable|                 Not applicable|                 Not applicable|               Not applicable|         Not applicable|                                 Not applicable|    1 - Economically ...|         Not applicable|           Not applicable|       Not applicable|                          -|\n",
      "|2009|After policy inte...|Not applicable|                    No|                    All reasons|           Not applicable|                 Not applicable|                 Not applicable|               Not applicable|         Not applicable|                                 Not applicable|    2 - Economically ...|         Not applicable|           Not applicable|       Not applicable|                          -|\n",
      "|2009|After policy inte...|Not applicable|                    No|                    All reasons|           Not applicable|                 Not applicable|                 Not applicable|               Not applicable|         Not applicable|                                 Not applicable|    2.1 - Working hou...|         Not applicable|           Not applicable|       Not applicable|                          -|\n",
      "|2009|After policy inte...|Not applicable|                    No|                    All reasons|           Not applicable|                 Not applicable|                 Not applicable|               Not applicable|         Not applicable|                                 Not applicable|    2.2 - Unemployed ...|         Not applicable|           Not applicable|       Not applicable|                          -|\n",
      "|2009|After policy inte...|Not applicable|                    No|                    All reasons|           Not applicable|                 Not applicable|                 Not applicable|               Not applicable|         Not applicable|                                 Not applicable|          Not applicable|   1 - Public rental...|           Not applicable|       Not applicable|                          -|\n",
      "|2009|After policy inte...|Not applicable|                    No|                    All reasons|           Not applicable|                 Not applicable|                 Not applicable|               Not applicable|         Not applicable|                                 Not applicable|          Not applicable|   2 - Tenants in pr...|           Not applicable|       Not applicable|                          -|\n",
      "|2009|After policy inte...|Not applicable|                    No|                    All reasons|           Not applicable|                 Not applicable|                 Not applicable|               Not applicable|         Not applicable|                                 Not applicable|          Not applicable|    3 - Owner-occupiers|           Not applicable|       Not applicable|                          -|\n",
      "|2009|After policy inte...|Not applicable|                    No|                    All reasons|           Not applicable|                 Not applicable|                 Not applicable|               Not applicable|         Not applicable|                                 Not applicable|          Not applicable|         Not applicable|     01 - Central and ...|       Not applicable|                          -|\n",
      "|2009|After policy inte...|Not applicable|                    No|                    All reasons|           Not applicable|                 Not applicable|                 Not applicable|               Not applicable|         Not applicable|                                 Not applicable|          Not applicable|         Not applicable|            02 - Wan Chai|       Not applicable|                          -|\n",
      "|2009|After policy inte...|Not applicable|                    No|                    All reasons|           Not applicable|                 Not applicable|                 Not applicable|               Not applicable|         Not applicable|                                 Not applicable|          Not applicable|         Not applicable|             03 - Eastern|       Not applicable|                          -|\n",
      "|2009|After policy inte...|Not applicable|                    No|                    All reasons|           Not applicable|                 Not applicable|                 Not applicable|               Not applicable|         Not applicable|                                 Not applicable|          Not applicable|         Not applicable|            04 - Southern|       Not applicable|                          -|\n",
      "|2009|After policy inte...|Not applicable|                    No|                    All reasons|           Not applicable|                 Not applicable|                 Not applicable|               Not applicable|         Not applicable|                                 Not applicable|          Not applicable|         Not applicable|       05 - Yau Tsim Mong|       Not applicable|                          -|\n",
      "|2009|After policy inte...|Not applicable|                    No|                    All reasons|           Not applicable|                 Not applicable|                 Not applicable|               Not applicable|         Not applicable|                                 Not applicable|          Not applicable|         Not applicable|        06 - Sham Shui Po|       Not applicable|                          -|\n",
      "|2009|After policy inte...|Not applicable|                    No|                    All reasons|           Not applicable|                 Not applicable|                 Not applicable|               Not applicable|         Not applicable|                                 Not applicable|          Not applicable|         Not applicable|        07 - Kowloon City|       Not applicable|                          -|\n",
      "+----+--------------------+--------------+----------------------+-------------------------------+-------------------------+-------------------------------+-------------------------------+-----------------------------+-----------------------+-----------------------------------------------+------------------------+-----------------------+-------------------------+---------------------+---------------------------+\n",
      "only showing top 20 rows\n",
      "\n"
     ]
    }
   ],
   "source": [
    "df=spark.read.option(\"header\",\"true\").csv(\"table1.csv\",inferSchema=True)\n",
    "df.show()"
   ]
  },
  {
   "cell_type": "code",
   "execution_count": 11,
   "metadata": {},
   "outputs": [
    {
     "name": "stdout",
     "output_type": "stream",
     "text": [
      "root\n",
      " |-- Year: integer (nullable = true)\n",
      " |-- Poverty category: string (nullable = true)\n",
      " |-- Household size: string (nullable = true)\n",
      " |-- Whether CSSA household: string (nullable = true)\n",
      " |-- Reason(s) of not receiving CSSA: string (nullable = true)\n",
      " |-- Whether elderly household: string (nullable = true)\n",
      " |-- Whether single-parent household: string (nullable = true)\n",
      " |-- Whether household with children: string (nullable = true)\n",
      " |-- Whether new-arrival household: string (nullable = true)\n",
      " |-- Whether youth household: string (nullable = true)\n",
      " |-- Whether household with foreign domestic helpers: string (nullable = true)\n",
      " |-- Economic characteristics: string (nullable = true)\n",
      " |-- Housing characteristics: string (nullable = true)\n",
      " |-- District Council district: string (nullable = true)\n",
      " |-- Age of household head: string (nullable = true)\n",
      " |-- Number of households ('000): string (nullable = true)\n",
      "\n"
     ]
    }
   ],
   "source": [
    "df.printSchema()"
   ]
  },
  {
   "cell_type": "code",
   "execution_count": 13,
   "metadata": {},
   "outputs": [
    {
     "data": {
      "text/plain": [
       "['Year',\n",
       " 'Poverty category',\n",
       " 'Household size',\n",
       " 'Whether CSSA household',\n",
       " 'Reason(s) of not receiving CSSA',\n",
       " 'Whether elderly household',\n",
       " 'Whether single-parent household',\n",
       " 'Whether household with children',\n",
       " 'Whether new-arrival household',\n",
       " 'Whether youth household',\n",
       " 'Whether household with foreign domestic helpers',\n",
       " 'Economic characteristics',\n",
       " 'Housing characteristics',\n",
       " 'District Council district',\n",
       " 'Age of household head',\n",
       " \"Number of households ('000)\"]"
      ]
     },
     "execution_count": 13,
     "metadata": {},
     "output_type": "execute_result"
    }
   ],
   "source": [
    "df.columns"
   ]
  },
  {
   "cell_type": "code",
   "execution_count": 17,
   "metadata": {},
   "outputs": [
    {
     "name": "stdout",
     "output_type": "stream",
     "text": [
      "+--------------+\n",
      "|Household size|\n",
      "+--------------+\n",
      "|      1-person|\n",
      "|      2-person|\n",
      "|      3-person|\n",
      "|      4-person|\n",
      "|      5-person|\n",
      "|     6-person+|\n",
      "|Not applicable|\n",
      "|Not applicable|\n",
      "|Not applicable|\n",
      "|Not applicable|\n",
      "|Not applicable|\n",
      "|Not applicable|\n",
      "|Not applicable|\n",
      "|Not applicable|\n",
      "|Not applicable|\n",
      "|Not applicable|\n",
      "|Not applicable|\n",
      "|Not applicable|\n",
      "|Not applicable|\n",
      "|Not applicable|\n",
      "+--------------+\n",
      "only showing top 20 rows\n",
      "\n"
     ]
    }
   ],
   "source": [
    "df.select(\"Household size\").show()"
   ]
  },
  {
   "cell_type": "code",
   "execution_count": 22,
   "metadata": {},
   "outputs": [
    {
     "name": "stderr",
     "output_type": "stream",
     "text": [
      "[Stage 14:===================>                                      (1 + 2) / 3]\r"
     ]
    },
    {
     "name": "stdout",
     "output_type": "stream",
     "text": [
      "+-------+------------------+--------------------+--------------+----------------------+-------------------------------+-------------------------+-------------------------------+-------------------------------+-----------------------------+-----------------------+-----------------------------------------------+------------------------+-----------------------+-------------------------+---------------------+---------------------------+\n",
      "|summary|              Year|    Poverty category|Household size|Whether CSSA household|Reason(s) of not receiving CSSA|Whether elderly household|Whether single-parent household|Whether household with children|Whether new-arrival household|Whether youth household|Whether household with foreign domestic helpers|Economic characteristics|Housing characteristics|District Council district|Age of household head|Number of households ('000)|\n",
      "+-------+------------------+--------------------+--------------+----------------------+-------------------------------+-------------------------+-------------------------------+-------------------------------+-----------------------------+-----------------------+-----------------------------------------------+------------------------+-----------------------+-------------------------+---------------------+---------------------------+\n",
      "|  count|             35490|               35490|         35490|                 35490|                          35490|                    35490|                          35490|                          35490|                        35490|                  35490|                                          35490|                   35490|                  35490|                    35490|                35490|                      35490|\n",
      "|   mean|2014.5643279797125|                NULL|          NULL|                  NULL|                           NULL|                     NULL|                           NULL|                           NULL|                         NULL|                   NULL|                                           NULL|                    NULL|                   NULL|                     NULL|                 NULL|          52.59945925710236|\n",
      "| stddev|  3.42202663019856|                NULL|          NULL|                  NULL|                           NULL|                     NULL|                           NULL|                           NULL|                         NULL|                   NULL|                                           NULL|                    NULL|                   NULL|                     NULL|                 NULL|          169.6303690686207|\n",
      "|    min|              2009|After policy inte...|      1-person|                    No|                    All reasons|           Not applicable|                 Not applicable|                 Not applicable|               Not applicable|         Not applicable|                                 Not applicable|    1 - Economically ...|   1 - Public rental...|     01 - Central and ...|                18-64|                          -|\n",
      "|    max|              2020|      Not applicable|Not applicable|                   Yes|           Reason: no financ...|                      Yes|                            Yes|                            Yes|                          Yes|                    Yes|                                            Yes|          Not applicable|         Not applicable|           Not applicable|       Not applicable|       Not released due ...|\n",
      "+-------+------------------+--------------------+--------------+----------------------+-------------------------------+-------------------------+-------------------------------+-------------------------------+-----------------------------+-----------------------+-----------------------------------------------+------------------------+-----------------------+-------------------------+---------------------+---------------------------+\n",
      "\n"
     ]
    },
    {
     "name": "stderr",
     "output_type": "stream",
     "text": [
      "                                                                                \r"
     ]
    }
   ],
   "source": [
    "df.describe().show()"
   ]
  },
  {
   "cell_type": "code",
   "execution_count": 33,
   "metadata": {},
   "outputs": [
    {
     "ename": "AttributeError",
     "evalue": "'int' object has no attribute 'show'",
     "output_type": "error",
     "traceback": [
      "\u001b[0;31m---------------------------------------------------------------------------\u001b[0m",
      "\u001b[0;31mAttributeError\u001b[0m                            Traceback (most recent call last)",
      "Cell \u001b[0;32mIn[33], line 1\u001b[0m\n\u001b[0;32m----> 1\u001b[0m \u001b[43mdf\u001b[49m\u001b[38;5;241;43m.\u001b[39;49m\u001b[43mcount\u001b[49m\u001b[43m(\u001b[49m\u001b[43m)\u001b[49m\u001b[38;5;241;43m.\u001b[39;49m\u001b[43mshow\u001b[49m()\n",
      "\u001b[0;31mAttributeError\u001b[0m: 'int' object has no attribute 'show'"
     ]
    }
   ],
   "source": [
    "df.where().count().show()"
   ]
  }
 ],
 "metadata": {
  "kernelspec": {
   "display_name": "base",
   "language": "python",
   "name": "python3"
  },
  "language_info": {
   "codemirror_mode": {
    "name": "ipython",
    "version": 3
   },
   "file_extension": ".py",
   "mimetype": "text/x-python",
   "name": "python",
   "nbconvert_exporter": "python",
   "pygments_lexer": "ipython3",
   "version": "3.12.5"
  }
 },
 "nbformat": 4,
 "nbformat_minor": 2
}
